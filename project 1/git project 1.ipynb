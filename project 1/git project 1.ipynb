{
 "cells": [
  {
   "cell_type": "markdown",
   "metadata": {},
   "source": [
    "# Тема - Исследование объявлений о продаже квартир"
   ]
  },
  {
   "cell_type": "markdown",
   "metadata": {
    "toc": true
   },
   "source": [
    "<h1>Содержание<span class=\"tocSkip\"></span></h1>\n",
    "<div class=\"toc\"><ul class=\"toc-item\"><li><span><a href=\"#Откройте-файл-с-данными-и-изучите-общую-информацию.\" data-toc-modified-id=\"Откройте-файл-с-данными-и-изучите-общую-информацию.-1\"><span class=\"toc-item-num\">1&nbsp;&nbsp;</span>Откройте файл с данными и изучите общую информацию.</a></span><ul class=\"toc-item\"><li><span><a href=\"#Первое-знакомство-с-данными\" data-toc-modified-id=\"Первое-знакомство-с-данными-1.1\"><span class=\"toc-item-num\">1.1&nbsp;&nbsp;</span>Первое знакомство с данными</a></span></li><li><span><a href=\"#Проверим-данные-на-явные-дубликаты\" data-toc-modified-id=\"Проверим-данные-на-явные-дубликаты-1.2\"><span class=\"toc-item-num\">1.2&nbsp;&nbsp;</span>Проверим данные на явные дубликаты</a></span></li></ul></li><li><span><a href=\"#Предобработка-данных\" data-toc-modified-id=\"Предобработка-данных-2\"><span class=\"toc-item-num\">2&nbsp;&nbsp;</span>Предобработка данных</a></span><ul class=\"toc-item\"><li><span><a href=\"#Приведем-значение-даты-публикации-в-формат-datetime-для-удобной-работы-с-датой-в-дальнейшем-исследовании\" data-toc-modified-id=\"Приведем-значение-даты-публикации-в-формат-datetime-для-удобной-работы-с-датой-в-дальнейшем-исследовании-2.1\"><span class=\"toc-item-num\">2.1&nbsp;&nbsp;</span>Приведем значение даты публикации в формат <font color=\"red\">datetime</font> для удобной работы с датой в дальнейшем исследовании</a></span></li><li><span><a href=\"#Определим-количество-пустых-столбцов-в-нашем-датафрейме\" data-toc-modified-id=\"Определим-количество-пустых-столбцов-в-нашем-датафрейме-2.2\"><span class=\"toc-item-num\">2.2&nbsp;&nbsp;</span>Определим количество пустых столбцов в нашем датафрейме</a></span></li><li><span><a href=\"#Посмотрим-уникальные-значения-столбца-balcony\" data-toc-modified-id=\"Посмотрим-уникальные-значения-столбца-balcony-2.3\"><span class=\"toc-item-num\">2.3&nbsp;&nbsp;</span>Посмотрим уникальные значения столбца <code>balcony</code></a></span></li><li><span><a href=\"#Проверим-процент-пропусков-в-столбце-с-количеством-этажей---floors_total\" data-toc-modified-id=\"Проверим-процент-пропусков-в-столбце-с-количеством-этажей---floors_total-2.4\"><span class=\"toc-item-num\">2.4&nbsp;&nbsp;</span>Проверим процент пропусков в столбце с количеством этажей - <code>floors_total</code></a></span></li><li><span><a href=\"#Для-выяснения-причин-пропусков-в-поле-is_apartment-сгруппируем-данные-по-этому-столбцу\" data-toc-modified-id=\"Для-выяснения-причин-пропусков-в-поле-is_apartment-сгруппируем-данные-по-этому-столбцу-2.5\"><span class=\"toc-item-num\">2.5&nbsp;&nbsp;</span>Для выяснения причин пропусков в поле <code>is_apartment</code> сгруппируем данные по этому столбцу</a></span></li><li><span><a href=\"#Проверим,-что-если-в-поле-ponds_around3000-и-parks_around3000-есть-пропуски,-то-и-в-полях-parks_nearest-и-ponds_nearest-пропущены-значения,-либо-расстояние-больше-3000-м.\" data-toc-modified-id=\"Проверим,-что-если-в-поле-ponds_around3000-и-parks_around3000-есть-пропуски,-то-и-в-полях-parks_nearest-и-ponds_nearest-пропущены-значения,-либо-расстояние-больше-3000-м.-2.6\"><span class=\"toc-item-num\">2.6&nbsp;&nbsp;</span>Проверим, что если в поле <code>ponds_around3000</code> и <code>parks_around3000</code> есть пропуски, то и в полях <code>parks_nearest</code> и <code>ponds_nearest</code> пропущены значения, либо расстояние больше 3000 м.</a></span></li><li><span><a href=\"#Займемся-пропусками-в-столбце-locality_name\" data-toc-modified-id=\"Займемся-пропусками-в-столбце-locality_name-2.7\"><span class=\"toc-item-num\">2.7&nbsp;&nbsp;</span>Займемся пропусками в столбце <code>locality_name</code></a></span></li><li><span><a href=\"#Займемся-пропусками-в-столбце-days_exposition\" data-toc-modified-id=\"Займемся-пропусками-в-столбце-days_exposition-2.8\"><span class=\"toc-item-num\">2.8&nbsp;&nbsp;</span>Займемся пропусками в столбце <code>days_exposition</code></a></span></li><li><span><a href=\"#Посмотрим-на-тип-данных-в-столбцах\" data-toc-modified-id=\"Посмотрим-на-тип-данных-в-столбцах-2.9\"><span class=\"toc-item-num\">2.9&nbsp;&nbsp;</span>Посмотрим на тип данных в столбцах</a></span><ul class=\"toc-item\"><li><span><a href=\"#Изучим-столбец-с-названиями-населенных-пунктов-locality_name\" data-toc-modified-id=\"Изучим-столбец-с-названиями-населенных-пунктов-locality_name-2.9.1\"><span class=\"toc-item-num\">2.9.1&nbsp;&nbsp;</span>Изучим столбец с названиями населенных пунктов <code>locality_name</code></a></span></li></ul></li><li><span><a href=\"#Посмотрим-на-уникальные-значения-столбца-ceiling_height-(высота-потолков)\" data-toc-modified-id=\"Посмотрим-на-уникальные-значения-столбца-ceiling_height-(высота-потолков)-2.10\"><span class=\"toc-item-num\">2.10&nbsp;&nbsp;</span>Посмотрим на уникальные значения столбца <code>ceiling_height</code> (высота потолков)</a></span></li><li><span><a href=\"#Посмотрим-на-уникальные-значения-столбца-days_exposition\" data-toc-modified-id=\"Посмотрим-на-уникальные-значения-столбца-days_exposition-2.11\"><span class=\"toc-item-num\">2.11&nbsp;&nbsp;</span>Посмотрим на уникальные значения столбца <code>days_exposition</code></a></span></li><li><span><a href=\"#Посмотрим-,-есть-ли-дубликаты-в-таблице\" data-toc-modified-id=\"Посмотрим-,-есть-ли-дубликаты-в-таблице-2.12\"><span class=\"toc-item-num\">2.12&nbsp;&nbsp;</span>Посмотрим , есть ли дубликаты в таблице</a></span></li><li><span><a href=\"#Посмотрим-еще-раз-на-столбцы-с-пропусками\" data-toc-modified-id=\"Посмотрим-еще-раз-на-столбцы-с-пропусками-2.13\"><span class=\"toc-item-num\">2.13&nbsp;&nbsp;</span>Посмотрим еще раз на столбцы с пропусками</a></span></li></ul></li><li><span><a href=\"#Посчитайте-и-добавьте-в-таблицу-новые-столбцы\" data-toc-modified-id=\"Посчитайте-и-добавьте-в-таблицу-новые-столбцы-3\"><span class=\"toc-item-num\">3&nbsp;&nbsp;</span>Посчитайте и добавьте в таблицу новые столбцы</a></span><ul class=\"toc-item\"><li><span><a href=\"#Добавим-столбец-с-ценой-1-кв.м.-1m_price-в-наш-датасет\" data-toc-modified-id=\"Добавим-столбец-с-ценой-1-кв.м.-1m_price-в-наш-датасет-3.1\"><span class=\"toc-item-num\">3.1&nbsp;&nbsp;</span>Добавим столбец с ценой 1 кв.м. <code>1m_price</code> в наш датасет</a></span></li><li><span><a href=\"#Добавим-столбец-с-днем-публикации-обьявления-ad_day_of_week\" data-toc-modified-id=\"Добавим-столбец-с-днем-публикации-обьявления-ad_day_of_week-3.2\"><span class=\"toc-item-num\">3.2&nbsp;&nbsp;</span>Добавим столбец с днем публикации обьявления <code>ad_day_of_week</code></a></span><ul class=\"toc-item\"><li><span><a href=\"#Добавим-столбец-с-месяцем-и-годом-публикации-обьявления-ad_month-и-ad_year\" data-toc-modified-id=\"Добавим-столбец-с-месяцем-и-годом-публикации-обьявления-ad_month-и-ad_year-3.2.1\"><span class=\"toc-item-num\">3.2.1&nbsp;&nbsp;</span>Добавим столбец с месяцем и годом публикации обьявления <code>ad_month</code> и <code>ad_year</code></a></span></li></ul></li><li><span><a href=\"#Создадим-функцию-для-столбца-floor_type---будет-3-значения---first,-last-,-other-\" data-toc-modified-id=\"Создадим-функцию-для-столбца-floor_type---будет-3-значения---first,-last-,-other--3.3\"><span class=\"toc-item-num\">3.3&nbsp;&nbsp;</span>Создадим функцию для столбца <code>floor_type</code> - будет 3 значения - <font color=\"blue\">first, last , other </font></a></span></li><li><span><a href=\"#Создадим-столбец-cityCenters_nearest_km-для-расчета-целого-расстояния-до-центра-в-километрах\" data-toc-modified-id=\"Создадим-столбец-cityCenters_nearest_km-для-расчета-целого-расстояния-до-центра-в-километрах-3.4\"><span class=\"toc-item-num\">3.4&nbsp;&nbsp;</span>Создадим столбец <code>cityCenters_nearest_km</code> для расчета целого расстояния до центра в километрах</a></span></li></ul></li><li><span><a href=\"#Проведите-исследовательский-анализ-данных\" data-toc-modified-id=\"Проведите-исследовательский-анализ-данных-4\"><span class=\"toc-item-num\">4&nbsp;&nbsp;</span>Проведите исследовательский анализ данных</a></span><ul class=\"toc-item\"><li><span><a href=\"#Изучим-параметры-объектов\" data-toc-modified-id=\"Изучим-параметры-объектов-4.1\"><span class=\"toc-item-num\">4.1&nbsp;&nbsp;</span>Изучим параметры объектов</a></span><ul class=\"toc-item\"><li><span><a href=\"#Посмотрим-на-параметры-еще-раз,-начнем-с-Общей-площади---total_area\" data-toc-modified-id=\"Посмотрим-на-параметры-еще-раз,-начнем-с-Общей-площади---total_area-4.1.1\"><span class=\"toc-item-num\">4.1.1&nbsp;&nbsp;</span>Посмотрим на параметры еще раз, начнем с Общей площади - <code>total_area</code></a></span></li><li><span><a href=\"#Параметр---жилая-площадь---living_area\" data-toc-modified-id=\"Параметр---жилая-площадь---living_area-4.1.2\"><span class=\"toc-item-num\">4.1.2&nbsp;&nbsp;</span>Параметр - жилая площадь - <code>living_area</code></a></span></li><li><span><a href=\"#Параметр---площадь-кухни---kitchen_area\" data-toc-modified-id=\"Параметр---площадь-кухни---kitchen_area-4.1.3\"><span class=\"toc-item-num\">4.1.3&nbsp;&nbsp;</span>Параметр - площадь кухни - <code>kitchen_area</code></a></span></li><li><span><a href=\"#Параметр---цена-объекта---last_price\" data-toc-modified-id=\"Параметр---цена-объекта---last_price-4.1.4\"><span class=\"toc-item-num\">4.1.4&nbsp;&nbsp;</span>Параметр - цена объекта - <code>last_price</code></a></span></li><li><span><a href=\"#Параметр---количество-комнат---rooms\" data-toc-modified-id=\"Параметр---количество-комнат---rooms-4.1.5\"><span class=\"toc-item-num\">4.1.5&nbsp;&nbsp;</span>Параметр - количество комнат - <code>rooms</code></a></span></li><li><span><a href=\"#Параметр---высота-потолков---ceiling_height\" data-toc-modified-id=\"Параметр---высота-потолков---ceiling_height-4.1.6\"><span class=\"toc-item-num\">4.1.6&nbsp;&nbsp;</span>Параметр - высота потолков - <code>ceiling_height</code></a></span></li><li><span><a href=\"#Параметр---этаж-квартиры---floor\" data-toc-modified-id=\"Параметр---этаж-квартиры---floor-4.1.7\"><span class=\"toc-item-num\">4.1.7&nbsp;&nbsp;</span>Параметр - этаж квартиры - <code>floor</code></a></span></li><li><span><a href=\"#Параметр---тип-этажа-квартиры---floor_type\" data-toc-modified-id=\"Параметр---тип-этажа-квартиры---floor_type-4.1.8\"><span class=\"toc-item-num\">4.1.8&nbsp;&nbsp;</span>Параметр - тип этажа квартиры - <code>floor_type</code></a></span></li><li><span><a href=\"#Параметр---Общее-количество-этажей-в-доме---floors_total\" data-toc-modified-id=\"Параметр---Общее-количество-этажей-в-доме---floors_total-4.1.9\"><span class=\"toc-item-num\">4.1.9&nbsp;&nbsp;</span>Параметр - Общее количество этажей в доме - <code>floors_total</code></a></span></li><li><span><a href=\"#Параметр---Расстояние-до-центра-города-в-метрах---cityCenters_nearest\" data-toc-modified-id=\"Параметр---Расстояние-до-центра-города-в-метрах---cityCenters_nearest-4.1.10\"><span class=\"toc-item-num\">4.1.10&nbsp;&nbsp;</span>Параметр - Расстояние до центра города в метрах - <code>cityCenters_nearest</code></a></span></li><li><span><a href=\"#Параметр---Расстояние-до-ближайшего-аэропорта---airports_nearest\" data-toc-modified-id=\"Параметр---Расстояние-до-ближайшего-аэропорта---airports_nearest-4.1.11\"><span class=\"toc-item-num\">4.1.11&nbsp;&nbsp;</span>Параметр - Расстояние до ближайшего аэропорта - <code>airports_nearest</code></a></span></li><li><span><a href=\"#Параметр---Расстояние-до-ближайшего-парка---parks_nearest\" data-toc-modified-id=\"Параметр---Расстояние-до-ближайшего-парка---parks_nearest-4.1.12\"><span class=\"toc-item-num\">4.1.12&nbsp;&nbsp;</span>Параметр - Расстояние до ближайшего парка - <code>parks_nearest</code></a></span></li><li><span><a href=\"#Параметр---День-публикации-обьявления---ad_day_of_week\" data-toc-modified-id=\"Параметр---День-публикации-обьявления---ad_day_of_week-4.1.13\"><span class=\"toc-item-num\">4.1.13&nbsp;&nbsp;</span>Параметр - День публикации обьявления - <code>ad_day_of_week</code></a></span></li><li><span><a href=\"#Параметр---месяц-публикации-обьявления---ad_month\" data-toc-modified-id=\"Параметр---месяц-публикации-обьявления---ad_month-4.1.14\"><span class=\"toc-item-num\">4.1.14&nbsp;&nbsp;</span>Параметр - месяц публикации обьявления - <code>ad_month</code></a></span></li></ul></li><li><span><a href=\"#Изучим,-как-быстро-продавались-квартиры--days_exposition.\" data-toc-modified-id=\"Изучим,-как-быстро-продавались-квартиры--days_exposition.-4.2\"><span class=\"toc-item-num\">4.2&nbsp;&nbsp;</span>Изучим, как быстро продавались квартиры- <code>days_exposition</code>.</a></span></li><li><span><a href=\"#Изучим-влияние-различных-факторов-на-общую-(полную)-стоимость-Объекта\" data-toc-modified-id=\"Изучим-влияние-различных-факторов-на-общую-(полную)-стоимость-Объекта-4.3\"><span class=\"toc-item-num\">4.3&nbsp;&nbsp;</span>Изучим влияние различных факторов на общую (полную) стоимость Объекта</a></span></li><li><span><a href=\"#Посчитайте-среднюю-цену-одного-квадратного-метра-в-10-населённых-пунктах-с-наибольшим-числом-объявлений.-Выделите-населённые-пункты-с-самой-высокой-и-низкой-стоимостью-квадратного-метра.-Эти-данные-можно-найти-по-имени-в-столбце-locality_name.\" data-toc-modified-id=\"Посчитайте-среднюю-цену-одного-квадратного-метра-в-10-населённых-пунктах-с-наибольшим-числом-объявлений.-Выделите-населённые-пункты-с-самой-высокой-и-низкой-стоимостью-квадратного-метра.-Эти-данные-можно-найти-по-имени-в-столбце-locality_name.-4.4\"><span class=\"toc-item-num\">4.4&nbsp;&nbsp;</span>Посчитайте среднюю цену одного квадратного метра в 10 населённых пунктах с наибольшим числом объявлений. Выделите населённые пункты с самой высокой и низкой стоимостью квадратного метра. Эти данные можно найти по имени в столбце <code>locality_name.</code></a></span></li><li><span><a href=\"#Ранее-мы-посчитали-расстояние-до-центра-в-километрах-cityCenters_nearest_km.\" data-toc-modified-id=\"Ранее-мы-посчитали-расстояние-до-центра-в-километрах-cityCenters_nearest_km.-4.5\"><span class=\"toc-item-num\">4.5&nbsp;&nbsp;</span>Ранее мы посчитали расстояние до центра в километрах <code>cityCenters_nearest_km</code>.</a></span></li></ul></li><li><span><a href=\"#Общий-вывод\" data-toc-modified-id=\"Общий-вывод-5\"><span class=\"toc-item-num\">5&nbsp;&nbsp;</span>Общий вывод</a></span></li></ul></div>"
   ]
  },
  {
   "cell_type": "markdown",
   "metadata": {},
   "source": [
    "# Описание проекта\n",
    "\n",
    "В вашем распоряжении данные сервиса Яндекс.Недвижимость — архив объявлений о продаже квартир в Санкт-Петербурге и соседних населённых пунктов за несколько лет. Нужно научиться определять рыночную стоимость объектов недвижимости. Ваша задача — установить параметры. Это позволит построить автоматизированную систему: она отследит аномалии и мошенническую деятельность. \n",
    "\n",
    "По каждой квартире на продажу доступны два вида данных. Первые вписаны пользователем, вторые — получены автоматически на основе картографических данных. Например, расстояние до центра, аэропорта, ближайшего парка и водоёма. "
   ]
  },
  {
   "cell_type": "markdown",
   "metadata": {},
   "source": [
    "### Откройте файл с данными и изучите общую информацию. "
   ]
  },
  {
   "cell_type": "code",
   "execution_count": 1,
   "metadata": {},
   "outputs": [],
   "source": [
    "import pandas as pd\n",
    "import re\n",
    "from datetime import datetime\n",
    "import matplotlib.pyplot as plt"
   ]
  },
  {
   "cell_type": "code",
   "execution_count": 2,
   "metadata": {},
   "outputs": [],
   "source": [
    "try:\n",
    "    data = pd.read_csv('/datasets/real_estate_data.csv',sep='\\t')\n",
    "except:\n",
    "    data = pd.read_csv('real_estate_data.csv',sep=\"\\t\")"
   ]
  },
  {
   "cell_type": "markdown",
   "metadata": {},
   "source": [
    "Ознакомимся с Датасетом - "
   ]
  },
  {
   "cell_type": "code",
   "execution_count": 3,
   "metadata": {
    "scrolled": true
   },
   "outputs": [
    {
     "data": {
      "text/html": [
       "<div>\n",
       "<style scoped>\n",
       "    .dataframe tbody tr th:only-of-type {\n",
       "        vertical-align: middle;\n",
       "    }\n",
       "\n",
       "    .dataframe tbody tr th {\n",
       "        vertical-align: top;\n",
       "    }\n",
       "\n",
       "    .dataframe thead th {\n",
       "        text-align: right;\n",
       "    }\n",
       "</style>\n",
       "<table border=\"1\" class=\"dataframe\">\n",
       "  <thead>\n",
       "    <tr style=\"text-align: right;\">\n",
       "      <th></th>\n",
       "      <th>total_images</th>\n",
       "      <th>last_price</th>\n",
       "      <th>total_area</th>\n",
       "      <th>first_day_exposition</th>\n",
       "      <th>rooms</th>\n",
       "      <th>ceiling_height</th>\n",
       "      <th>floors_total</th>\n",
       "      <th>living_area</th>\n",
       "      <th>floor</th>\n",
       "      <th>is_apartment</th>\n",
       "      <th>...</th>\n",
       "      <th>kitchen_area</th>\n",
       "      <th>balcony</th>\n",
       "      <th>locality_name</th>\n",
       "      <th>airports_nearest</th>\n",
       "      <th>cityCenters_nearest</th>\n",
       "      <th>parks_around3000</th>\n",
       "      <th>parks_nearest</th>\n",
       "      <th>ponds_around3000</th>\n",
       "      <th>ponds_nearest</th>\n",
       "      <th>days_exposition</th>\n",
       "    </tr>\n",
       "  </thead>\n",
       "  <tbody>\n",
       "    <tr>\n",
       "      <th>0</th>\n",
       "      <td>20</td>\n",
       "      <td>13000000.0</td>\n",
       "      <td>108.0</td>\n",
       "      <td>2019-03-07T00:00:00</td>\n",
       "      <td>3</td>\n",
       "      <td>2.70</td>\n",
       "      <td>16.0</td>\n",
       "      <td>51.0</td>\n",
       "      <td>8</td>\n",
       "      <td>NaN</td>\n",
       "      <td>...</td>\n",
       "      <td>25.0</td>\n",
       "      <td>NaN</td>\n",
       "      <td>Санкт-Петербург</td>\n",
       "      <td>18863.0</td>\n",
       "      <td>16028.0</td>\n",
       "      <td>1.0</td>\n",
       "      <td>482.0</td>\n",
       "      <td>2.0</td>\n",
       "      <td>755.0</td>\n",
       "      <td>NaN</td>\n",
       "    </tr>\n",
       "    <tr>\n",
       "      <th>1</th>\n",
       "      <td>7</td>\n",
       "      <td>3350000.0</td>\n",
       "      <td>40.4</td>\n",
       "      <td>2018-12-04T00:00:00</td>\n",
       "      <td>1</td>\n",
       "      <td>NaN</td>\n",
       "      <td>11.0</td>\n",
       "      <td>18.6</td>\n",
       "      <td>1</td>\n",
       "      <td>NaN</td>\n",
       "      <td>...</td>\n",
       "      <td>11.0</td>\n",
       "      <td>2.0</td>\n",
       "      <td>посёлок Шушары</td>\n",
       "      <td>12817.0</td>\n",
       "      <td>18603.0</td>\n",
       "      <td>0.0</td>\n",
       "      <td>NaN</td>\n",
       "      <td>0.0</td>\n",
       "      <td>NaN</td>\n",
       "      <td>81.0</td>\n",
       "    </tr>\n",
       "    <tr>\n",
       "      <th>2</th>\n",
       "      <td>10</td>\n",
       "      <td>5196000.0</td>\n",
       "      <td>56.0</td>\n",
       "      <td>2015-08-20T00:00:00</td>\n",
       "      <td>2</td>\n",
       "      <td>NaN</td>\n",
       "      <td>5.0</td>\n",
       "      <td>34.3</td>\n",
       "      <td>4</td>\n",
       "      <td>NaN</td>\n",
       "      <td>...</td>\n",
       "      <td>8.3</td>\n",
       "      <td>0.0</td>\n",
       "      <td>Санкт-Петербург</td>\n",
       "      <td>21741.0</td>\n",
       "      <td>13933.0</td>\n",
       "      <td>1.0</td>\n",
       "      <td>90.0</td>\n",
       "      <td>2.0</td>\n",
       "      <td>574.0</td>\n",
       "      <td>558.0</td>\n",
       "    </tr>\n",
       "    <tr>\n",
       "      <th>3</th>\n",
       "      <td>0</td>\n",
       "      <td>64900000.0</td>\n",
       "      <td>159.0</td>\n",
       "      <td>2015-07-24T00:00:00</td>\n",
       "      <td>3</td>\n",
       "      <td>NaN</td>\n",
       "      <td>14.0</td>\n",
       "      <td>NaN</td>\n",
       "      <td>9</td>\n",
       "      <td>NaN</td>\n",
       "      <td>...</td>\n",
       "      <td>NaN</td>\n",
       "      <td>0.0</td>\n",
       "      <td>Санкт-Петербург</td>\n",
       "      <td>28098.0</td>\n",
       "      <td>6800.0</td>\n",
       "      <td>2.0</td>\n",
       "      <td>84.0</td>\n",
       "      <td>3.0</td>\n",
       "      <td>234.0</td>\n",
       "      <td>424.0</td>\n",
       "    </tr>\n",
       "    <tr>\n",
       "      <th>4</th>\n",
       "      <td>2</td>\n",
       "      <td>10000000.0</td>\n",
       "      <td>100.0</td>\n",
       "      <td>2018-06-19T00:00:00</td>\n",
       "      <td>2</td>\n",
       "      <td>3.03</td>\n",
       "      <td>14.0</td>\n",
       "      <td>32.0</td>\n",
       "      <td>13</td>\n",
       "      <td>NaN</td>\n",
       "      <td>...</td>\n",
       "      <td>41.0</td>\n",
       "      <td>NaN</td>\n",
       "      <td>Санкт-Петербург</td>\n",
       "      <td>31856.0</td>\n",
       "      <td>8098.0</td>\n",
       "      <td>2.0</td>\n",
       "      <td>112.0</td>\n",
       "      <td>1.0</td>\n",
       "      <td>48.0</td>\n",
       "      <td>121.0</td>\n",
       "    </tr>\n",
       "  </tbody>\n",
       "</table>\n",
       "<p>5 rows × 22 columns</p>\n",
       "</div>"
      ],
      "text/plain": [
       "   total_images  last_price  total_area first_day_exposition  rooms  \\\n",
       "0            20  13000000.0       108.0  2019-03-07T00:00:00      3   \n",
       "1             7   3350000.0        40.4  2018-12-04T00:00:00      1   \n",
       "2            10   5196000.0        56.0  2015-08-20T00:00:00      2   \n",
       "3             0  64900000.0       159.0  2015-07-24T00:00:00      3   \n",
       "4             2  10000000.0       100.0  2018-06-19T00:00:00      2   \n",
       "\n",
       "   ceiling_height  floors_total  living_area  floor is_apartment  ...  \\\n",
       "0            2.70          16.0         51.0      8          NaN  ...   \n",
       "1             NaN          11.0         18.6      1          NaN  ...   \n",
       "2             NaN           5.0         34.3      4          NaN  ...   \n",
       "3             NaN          14.0          NaN      9          NaN  ...   \n",
       "4            3.03          14.0         32.0     13          NaN  ...   \n",
       "\n",
       "   kitchen_area  balcony    locality_name  airports_nearest  \\\n",
       "0          25.0      NaN  Санкт-Петербург           18863.0   \n",
       "1          11.0      2.0   посёлок Шушары           12817.0   \n",
       "2           8.3      0.0  Санкт-Петербург           21741.0   \n",
       "3           NaN      0.0  Санкт-Петербург           28098.0   \n",
       "4          41.0      NaN  Санкт-Петербург           31856.0   \n",
       "\n",
       "  cityCenters_nearest  parks_around3000  parks_nearest  ponds_around3000  \\\n",
       "0             16028.0               1.0          482.0               2.0   \n",
       "1             18603.0               0.0            NaN               0.0   \n",
       "2             13933.0               1.0           90.0               2.0   \n",
       "3              6800.0               2.0           84.0               3.0   \n",
       "4              8098.0               2.0          112.0               1.0   \n",
       "\n",
       "   ponds_nearest  days_exposition  \n",
       "0          755.0              NaN  \n",
       "1            NaN             81.0  \n",
       "2          574.0            558.0  \n",
       "3          234.0            424.0  \n",
       "4           48.0            121.0  \n",
       "\n",
       "[5 rows x 22 columns]"
      ]
     },
     "execution_count": 3,
     "metadata": {},
     "output_type": "execute_result"
    }
   ],
   "source": [
    "data.head()"
   ]
  },
  {
   "cell_type": "code",
   "execution_count": 4,
   "metadata": {},
   "outputs": [
    {
     "data": {
      "text/plain": [
       "(23699, 22)"
      ]
     },
     "execution_count": 4,
     "metadata": {},
     "output_type": "execute_result"
    }
   ],
   "source": [
    "data.shape"
   ]
  },
  {
   "cell_type": "code",
   "execution_count": 5,
   "metadata": {},
   "outputs": [
    {
     "name": "stdout",
     "output_type": "stream",
     "text": [
      "<class 'pandas.core.frame.DataFrame'>\n",
      "RangeIndex: 23699 entries, 0 to 23698\n",
      "Data columns (total 22 columns):\n",
      " #   Column                Non-Null Count  Dtype  \n",
      "---  ------                --------------  -----  \n",
      " 0   total_images          23699 non-null  int64  \n",
      " 1   last_price            23699 non-null  float64\n",
      " 2   total_area            23699 non-null  float64\n",
      " 3   first_day_exposition  23699 non-null  object \n",
      " 4   rooms                 23699 non-null  int64  \n",
      " 5   ceiling_height        14504 non-null  float64\n",
      " 6   floors_total          23613 non-null  float64\n",
      " 7   living_area           21796 non-null  float64\n",
      " 8   floor                 23699 non-null  int64  \n",
      " 9   is_apartment          2775 non-null   object \n",
      " 10  studio                23699 non-null  bool   \n",
      " 11  open_plan             23699 non-null  bool   \n",
      " 12  kitchen_area          21421 non-null  float64\n",
      " 13  balcony               12180 non-null  float64\n",
      " 14  locality_name         23650 non-null  object \n",
      " 15  airports_nearest      18157 non-null  float64\n",
      " 16  cityCenters_nearest   18180 non-null  float64\n",
      " 17  parks_around3000      18181 non-null  float64\n",
      " 18  parks_nearest         8079 non-null   float64\n",
      " 19  ponds_around3000      18181 non-null  float64\n",
      " 20  ponds_nearest         9110 non-null   float64\n",
      " 21  days_exposition       20518 non-null  float64\n",
      "dtypes: bool(2), float64(14), int64(3), object(3)\n",
      "memory usage: 3.7+ MB\n"
     ]
    }
   ],
   "source": [
    "data.info()"
   ]
  },
  {
   "cell_type": "markdown",
   "metadata": {},
   "source": [
    "#### Первое знакомство с данными\n",
    "Согласно заданию, построим общую гистограмму для всех числовых столбцов таблицы."
   ]
  },
  {
   "cell_type": "code",
   "execution_count": 6,
   "metadata": {},
   "outputs": [
    {
     "data": {
      "image/png": "[encoded data removed]",
      "text/plain": [
       "<Figure size 1080x1440 with 20 Axes>"
      ]
     },
     "metadata": {
      "needs_background": "light"
     },
     "output_type": "display_data"
    }
   ],
   "source": [
    "ax = data.hist(figsize=(15, 20))"
   ]
  },
  {
   "cell_type": "markdown",
   "metadata": {},
   "source": [
    "На первый взгляд, в нашем датасете присутствуют большая выборка обьявлений с квартирами различного класса, но основная масса прихолится на квартиры со следующими параметрами:\n",
    "- Общая площадь до 100 кв.м.\n",
    "- Количество комнат 1-4 \n",
    "- Находящиеся в домах этажностью до 30 этажей\n",
    "- Жилой площадь. до 90 кв.м\n",
    "- Этаж, на котором находится недвижимость - до 11\n",
    "- Общей площадью кухни до 20 кв.м.\n",
    "- Квартиры с одним, двумя балконами и без балконов\n",
    "- Находящиеся на расстоянии от 20 до 60 км до ближайшего аэропорта\n",
    "- Находящиеся в 10-20 км от центра города\n",
    "- Рядом с квартирой от 0 до 2х парках в радиусе 3км\n",
    "- Рядом с квартирой от 0 до 3 водоемов в радиусе 3км\n",
    "\n",
    "Основная масса квартир была продана в срок до 250 дней. "
   ]
  },
  {
   "cell_type": "markdown",
   "metadata": {},
   "source": [
    "#### Проверим данные на явные дубликаты"
   ]
  },
  {
   "cell_type": "code",
   "execution_count": 7,
   "metadata": {},
   "outputs": [
    {
     "data": {
      "text/plain": [
       "0"
      ]
     },
     "execution_count": 7,
     "metadata": {},
     "output_type": "execute_result"
    }
   ],
   "source": [
    "data.duplicated().sum()"
   ]
  },
  {
   "cell_type": "markdown",
   "metadata": {},
   "source": [
    "Явных дубликатов в нашем датасете - нет."
   ]
  },
  {
   "cell_type": "markdown",
   "metadata": {},
   "source": [
    "### Предобработка данных"
   ]
  },
  {
   "cell_type": "markdown",
   "metadata": {},
   "source": [
    "#### Приведем значение даты публикации в формат <font color=red>datetime</font> для удобной работы с датой в дальнейшем исследовании"
   ]
  },
  {
   "cell_type": "code",
   "execution_count": 8,
   "metadata": {},
   "outputs": [
    {
     "name": "stdout",
     "output_type": "stream",
     "text": [
      "0    2019-03-07T00:00:00\n",
      "1    2018-12-04T00:00:00\n",
      "2    2015-08-20T00:00:00\n",
      "3    2015-07-24T00:00:00\n",
      "4    2018-06-19T00:00:00\n",
      "Name: first_day_exposition, dtype: object\n"
     ]
    }
   ],
   "source": [
    "print(data['first_day_exposition'].head())"
   ]
  },
  {
   "cell_type": "code",
   "execution_count": 9,
   "metadata": {},
   "outputs": [
    {
     "name": "stdout",
     "output_type": "stream",
     "text": [
      "0   2019-03-07\n",
      "1   2018-12-04\n",
      "2   2015-08-20\n",
      "3   2015-07-24\n",
      "4   2018-06-19\n",
      "Name: first_day_exposition, dtype: datetime64[ns]\n"
     ]
    }
   ],
   "source": [
    "data['first_day_exposition'] = pd.to_datetime(data['first_day_exposition'],format='%Y-%m-%dT%H:%M:%S')\n",
    "print(data['first_day_exposition'].head())"
   ]
  },
  {
   "cell_type": "markdown",
   "metadata": {},
   "source": [
    "#### Определим количество пустых столбцов в нашем датафрейме"
   ]
  },
  {
   "cell_type": "code",
   "execution_count": 10,
   "metadata": {},
   "outputs": [
    {
     "data": {
      "text/plain": [
       "total_images                0\n",
       "last_price                  0\n",
       "total_area                  0\n",
       "first_day_exposition        0\n",
       "rooms                       0\n",
       "ceiling_height           9195\n",
       "floors_total               86\n",
       "living_area              1903\n",
       "floor                       0\n",
       "is_apartment            20924\n",
       "studio                      0\n",
       "open_plan                   0\n",
       "kitchen_area             2278\n",
       "balcony                 11519\n",
       "locality_name              49\n",
       "airports_nearest         5542\n",
       "cityCenters_nearest      5519\n",
       "parks_around3000         5518\n",
       "parks_nearest           15620\n",
       "ponds_around3000         5518\n",
       "ponds_nearest           14589\n",
       "days_exposition          3181\n",
       "dtype: int64"
      ]
     },
     "execution_count": 10,
     "metadata": {},
     "output_type": "execute_result"
    }
   ],
   "source": [
    "data.isna().sum()"
   ]
  },
  {
   "cell_type": "code",
   "execution_count": 11,
   "metadata": {},
   "outputs": [
    {
     "data": {
      "text/html": [
       "<style type=\"text/css\">\n",
       "#T_192b2_row0_col0 {\n",
       "  background-color: #b40426;\n",
       "  color: #f1f1f1;\n",
       "}\n",
       "#T_192b2_row1_col0 {\n",
       "  background-color: #f49a7b;\n",
       "  color: #000000;\n",
       "}\n",
       "#T_192b2_row2_col0 {\n",
       "  background-color: #f7ad90;\n",
       "  color: #000000;\n",
       "}\n",
       "#T_192b2_row3_col0 {\n",
       "  background-color: #e9d5cb;\n",
       "  color: #000000;\n",
       "}\n",
       "#T_192b2_row4_col0 {\n",
       "  background-color: #ccd9ed;\n",
       "  color: #000000;\n",
       "}\n",
       "#T_192b2_row5_col0, #T_192b2_row6_col0, #T_192b2_row7_col0, #T_192b2_row8_col0 {\n",
       "  background-color: #92b4fe;\n",
       "  color: #000000;\n",
       "}\n",
       "#T_192b2_row9_col0 {\n",
       "  background-color: #6a8bef;\n",
       "  color: #f1f1f1;\n",
       "}\n",
       "#T_192b2_row10_col0 {\n",
       "  background-color: #5b7ae5;\n",
       "  color: #f1f1f1;\n",
       "}\n",
       "#T_192b2_row11_col0 {\n",
       "  background-color: #5673e0;\n",
       "  color: #f1f1f1;\n",
       "}\n",
       "#T_192b2_row12_col0 {\n",
       "  background-color: #3c4ec2;\n",
       "  color: #f1f1f1;\n",
       "}\n",
       "#T_192b2_row13_col0, #T_192b2_row14_col0, #T_192b2_row15_col0, #T_192b2_row16_col0, #T_192b2_row17_col0, #T_192b2_row18_col0, #T_192b2_row19_col0, #T_192b2_row20_col0, #T_192b2_row21_col0 {\n",
       "  background-color: #3b4cc0;\n",
       "  color: #f1f1f1;\n",
       "}\n",
       "</style>\n",
       "<table id=\"T_192b2_\">\n",
       "  <thead>\n",
       "    <tr>\n",
       "      <th class=\"blank level0\" >&nbsp;</th>\n",
       "      <th class=\"col_heading level0 col0\" >0</th>\n",
       "    </tr>\n",
       "  </thead>\n",
       "  <tbody>\n",
       "    <tr>\n",
       "      <th id=\"T_192b2_level0_row0\" class=\"row_heading level0 row0\" >is_apartment</th>\n",
       "      <td id=\"T_192b2_row0_col0\" class=\"data row0 col0\" >88.300000</td>\n",
       "    </tr>\n",
       "    <tr>\n",
       "      <th id=\"T_192b2_level0_row1\" class=\"row_heading level0 row1\" >parks_nearest</th>\n",
       "      <td id=\"T_192b2_row1_col0\" class=\"data row1 col0\" >65.900000</td>\n",
       "    </tr>\n",
       "    <tr>\n",
       "      <th id=\"T_192b2_level0_row2\" class=\"row_heading level0 row2\" >ponds_nearest</th>\n",
       "      <td id=\"T_192b2_row2_col0\" class=\"data row2 col0\" >61.600000</td>\n",
       "    </tr>\n",
       "    <tr>\n",
       "      <th id=\"T_192b2_level0_row3\" class=\"row_heading level0 row3\" >balcony</th>\n",
       "      <td id=\"T_192b2_row3_col0\" class=\"data row3 col0\" >48.600000</td>\n",
       "    </tr>\n",
       "    <tr>\n",
       "      <th id=\"T_192b2_level0_row4\" class=\"row_heading level0 row4\" >ceiling_height</th>\n",
       "      <td id=\"T_192b2_row4_col0\" class=\"data row4 col0\" >38.800000</td>\n",
       "    </tr>\n",
       "    <tr>\n",
       "      <th id=\"T_192b2_level0_row5\" class=\"row_heading level0 row5\" >airports_nearest</th>\n",
       "      <td id=\"T_192b2_row5_col0\" class=\"data row5 col0\" >23.400000</td>\n",
       "    </tr>\n",
       "    <tr>\n",
       "      <th id=\"T_192b2_level0_row6\" class=\"row_heading level0 row6\" >ponds_around3000</th>\n",
       "      <td id=\"T_192b2_row6_col0\" class=\"data row6 col0\" >23.300000</td>\n",
       "    </tr>\n",
       "    <tr>\n",
       "      <th id=\"T_192b2_level0_row7\" class=\"row_heading level0 row7\" >parks_around3000</th>\n",
       "      <td id=\"T_192b2_row7_col0\" class=\"data row7 col0\" >23.300000</td>\n",
       "    </tr>\n",
       "    <tr>\n",
       "      <th id=\"T_192b2_level0_row8\" class=\"row_heading level0 row8\" >cityCenters_nearest</th>\n",
       "      <td id=\"T_192b2_row8_col0\" class=\"data row8 col0\" >23.300000</td>\n",
       "    </tr>\n",
       "    <tr>\n",
       "      <th id=\"T_192b2_level0_row9\" class=\"row_heading level0 row9\" >days_exposition</th>\n",
       "      <td id=\"T_192b2_row9_col0\" class=\"data row9 col0\" >13.400000</td>\n",
       "    </tr>\n",
       "    <tr>\n",
       "      <th id=\"T_192b2_level0_row10\" class=\"row_heading level0 row10\" >kitchen_area</th>\n",
       "      <td id=\"T_192b2_row10_col0\" class=\"data row10 col0\" >9.600000</td>\n",
       "    </tr>\n",
       "    <tr>\n",
       "      <th id=\"T_192b2_level0_row11\" class=\"row_heading level0 row11\" >living_area</th>\n",
       "      <td id=\"T_192b2_row11_col0\" class=\"data row11 col0\" >8.000000</td>\n",
       "    </tr>\n",
       "    <tr>\n",
       "      <th id=\"T_192b2_level0_row12\" class=\"row_heading level0 row12\" >floors_total</th>\n",
       "      <td id=\"T_192b2_row12_col0\" class=\"data row12 col0\" >0.400000</td>\n",
       "    </tr>\n",
       "    <tr>\n",
       "      <th id=\"T_192b2_level0_row13\" class=\"row_heading level0 row13\" >locality_name</th>\n",
       "      <td id=\"T_192b2_row13_col0\" class=\"data row13 col0\" >0.200000</td>\n",
       "    </tr>\n",
       "    <tr>\n",
       "      <th id=\"T_192b2_level0_row14\" class=\"row_heading level0 row14\" >total_images</th>\n",
       "      <td id=\"T_192b2_row14_col0\" class=\"data row14 col0\" >0.000000</td>\n",
       "    </tr>\n",
       "    <tr>\n",
       "      <th id=\"T_192b2_level0_row15\" class=\"row_heading level0 row15\" >last_price</th>\n",
       "      <td id=\"T_192b2_row15_col0\" class=\"data row15 col0\" >0.000000</td>\n",
       "    </tr>\n",
       "    <tr>\n",
       "      <th id=\"T_192b2_level0_row16\" class=\"row_heading level0 row16\" >studio</th>\n",
       "      <td id=\"T_192b2_row16_col0\" class=\"data row16 col0\" >0.000000</td>\n",
       "    </tr>\n",
       "    <tr>\n",
       "      <th id=\"T_192b2_level0_row17\" class=\"row_heading level0 row17\" >floor</th>\n",
       "      <td id=\"T_192b2_row17_col0\" class=\"data row17 col0\" >0.000000</td>\n",
       "    </tr>\n",
       "    <tr>\n",
       "      <th id=\"T_192b2_level0_row18\" class=\"row_heading level0 row18\" >rooms</th>\n",
       "      <td id=\"T_192b2_row18_col0\" class=\"data row18 col0\" >0.000000</td>\n",
       "    </tr>\n",
       "    <tr>\n",
       "      <th id=\"T_192b2_level0_row19\" class=\"row_heading level0 row19\" >first_day_exposition</th>\n",
       "      <td id=\"T_192b2_row19_col0\" class=\"data row19 col0\" >0.000000</td>\n",
       "    </tr>\n",
       "    <tr>\n",
       "      <th id=\"T_192b2_level0_row20\" class=\"row_heading level0 row20\" >total_area</th>\n",
       "      <td id=\"T_192b2_row20_col0\" class=\"data row20 col0\" >0.000000</td>\n",
       "    </tr>\n",
       "    <tr>\n",
       "      <th id=\"T_192b2_level0_row21\" class=\"row_heading level0 row21\" >open_plan</th>\n",
       "      <td id=\"T_192b2_row21_col0\" class=\"data row21 col0\" >0.000000</td>\n",
       "    </tr>\n",
       "  </tbody>\n",
       "</table>\n"
      ],
      "text/plain": [
       "<pandas.io.formats.style.Styler at 0x1a8057564c0>"
      ]
     },
     "execution_count": 11,
     "metadata": {},
     "output_type": "execute_result"
    }
   ],
   "source": [
    "pd.DataFrame(round(data.isna().mean()*100,1)).sort_values(0,ascending=False).style.background_gradient('coolwarm')"
   ]
  },
  {
   "cell_type": "markdown",
   "metadata": {},
   "source": [
    "Как мы видим, пропущенные значения есть в следующих столбцах:\n",
    "- `is_apartment` - апартаменты (булев тип) - <font color=red>88% пропусков </font>\n",
    "- `parks_nearest`— расстояние до ближайшего парка (м) - <font color=red>66% пропусков </font>\n",
    "- `ponds_nearest` — расстояние до ближайшего водоёма (м) - <font color=red>62% пропусков </font>\n",
    "- `balcony` — число балконов - <font color=red>49% пропусков </font>\n",
    "- `ceiling_height` — высота потолков (м) - <font color=red>39% пропусков </font>\n",
    "- `airports_nearest` — расстояние до ближайшего аэропорта в метрах (м) - <font color=red>23% пропусков </font>\n",
    "- `cityCenters_nearest` - расстояние до центра города (м) - <font color=red>23% пропусков </font>\n",
    "- `parks_around3000`— число парков в радиусе 3 км - <font color=red>23% пропусков </font>\n",
    "- `ponds_around3000`  — число водоёмов в радиусе 3 км - <font color=red>23% пропусков </font>\n",
    "- `days_exposition` — сколько дней было размещено объявление (от публикации до снятия) - <font color=red>13% пропусков </font>\n",
    "- `kitchen_area` — площадь кухни в квадратных метрах (м²) - <font color=red>9.6% пропусков </font>\n",
    "- `living_area`— жилая площадь в квадратных метрах (м²) - <font color=red>8% пропусков </font>\n",
    "- `floors_total` — всего этажей в доме - <font color=red>0.3% пропусков </font>\n",
    "- `locality_name` - название населённого пункта - <font color=red>0.2% пропусков </font>"
   ]
  },
  {
   "cell_type": "markdown",
   "metadata": {},
   "source": [
    "#### Посмотрим уникальные значения столбца `balcony`"
   ]
  },
  {
   "cell_type": "code",
   "execution_count": 12,
   "metadata": {},
   "outputs": [
    {
     "data": {
      "text/plain": [
       "array([nan,  2.,  0.,  1.,  5.,  4.,  3.])"
      ]
     },
     "execution_count": 12,
     "metadata": {},
     "output_type": "execute_result"
    }
   ],
   "source": [
    "data['balcony'].unique()"
   ]
  },
  {
   "cell_type": "markdown",
   "metadata": {},
   "source": [
    "Будем считать, что если продавец не указал число балконов, значит их нет. \n",
    "Заполним пропуски - нулями."
   ]
  },
  {
   "cell_type": "code",
   "execution_count": 13,
   "metadata": {},
   "outputs": [],
   "source": [
    "data['balcony'] = data['balcony'].fillna(0)"
   ]
  },
  {
   "cell_type": "markdown",
   "metadata": {},
   "source": [
    "Проверим, что пропусков в столбце `balcony` больше нет"
   ]
  },
  {
   "cell_type": "code",
   "execution_count": 14,
   "metadata": {},
   "outputs": [
    {
     "data": {
      "text/plain": [
       "0"
      ]
     },
     "execution_count": 14,
     "metadata": {},
     "output_type": "execute_result"
    }
   ],
   "source": [
    "data['balcony'].isna().sum()"
   ]
  },
  {
   "cell_type": "markdown",
   "metadata": {},
   "source": [
    "#### Проверим процент пропусков в столбце с количеством этажей - `floors_total`"
   ]
  },
  {
   "cell_type": "code",
   "execution_count": 15,
   "metadata": {},
   "outputs": [
    {
     "data": {
      "text/plain": [
       "0.0036288450989493226"
      ]
     },
     "execution_count": 15,
     "metadata": {},
     "output_type": "execute_result"
    }
   ],
   "source": [
    "data['floors_total'].isna().mean()"
   ]
  },
  {
   "cell_type": "markdown",
   "metadata": {},
   "source": [
    "Пропуски составляют менее 1% от общего числа. Удалим данные датафрейма с пропусками в столбце `floors_total`."
   ]
  },
  {
   "cell_type": "code",
   "execution_count": 16,
   "metadata": {},
   "outputs": [],
   "source": [
    "data = data[data['floors_total'].notna()]"
   ]
  },
  {
   "cell_type": "markdown",
   "metadata": {},
   "source": [
    "Проверим, что избавились от пропусков"
   ]
  },
  {
   "cell_type": "code",
   "execution_count": 17,
   "metadata": {},
   "outputs": [
    {
     "data": {
      "text/plain": [
       "0.0"
      ]
     },
     "execution_count": 17,
     "metadata": {},
     "output_type": "execute_result"
    }
   ],
   "source": [
    "data['floors_total'].isna().mean()"
   ]
  },
  {
   "cell_type": "markdown",
   "metadata": {},
   "source": [
    "#### Для выяснения причин пропусков в поле `is_apartment` сгруппируем данные по этому столбцу"
   ]
  },
  {
   "cell_type": "code",
   "execution_count": 18,
   "metadata": {},
   "outputs": [
    {
     "data": {
      "text/plain": [
       "is_apartment\n",
       "False    2725\n",
       "True       50\n",
       "Name: is_apartment, dtype: int64"
      ]
     },
     "execution_count": 18,
     "metadata": {},
     "output_type": "execute_result"
    }
   ],
   "source": [
    "data.groupby('is_apartment')['is_apartment'].count()"
   ]
  },
  {
   "cell_type": "markdown",
   "metadata": {},
   "source": [
    "Как мы видим, большая часть объектов не является аппартаментами. \n",
    "Будем считать, что пропуски так же не являются аппратаментами.\n",
    "К тому же , в нашем исследовании данный столбец не критичен."
   ]
  },
  {
   "cell_type": "code",
   "execution_count": 19,
   "metadata": {},
   "outputs": [],
   "source": [
    "data['is_apartment']=data['is_apartment'].fillna(False)"
   ]
  },
  {
   "cell_type": "markdown",
   "metadata": {},
   "source": [
    "Проверим, что избавились от пропусков"
   ]
  },
  {
   "cell_type": "code",
   "execution_count": 20,
   "metadata": {
    "scrolled": true
   },
   "outputs": [
    {
     "data": {
      "text/plain": [
       "0.0"
      ]
     },
     "execution_count": 20,
     "metadata": {},
     "output_type": "execute_result"
    }
   ],
   "source": [
    "data['is_apartment'].isna().mean()"
   ]
  },
  {
   "cell_type": "markdown",
   "metadata": {},
   "source": [
    "#### Проверим, что если в поле `ponds_around3000` и `parks_around3000` есть пропуски, то и в полях `parks_nearest` и `ponds_nearest` пропущены значения, либо расстояние больше 3000 м.  \n",
    "<a id=ponds> Осуществим проверку </a>"
   ]
  },
  {
   "cell_type": "code",
   "execution_count": 21,
   "metadata": {},
   "outputs": [
    {
     "data": {
      "text/plain": [
       "array([nan])"
      ]
     },
     "execution_count": 21,
     "metadata": {},
     "output_type": "execute_result"
    }
   ],
   "source": [
    "data[data['ponds_around3000'].isna()]['ponds_nearest'].unique()"
   ]
  },
  {
   "cell_type": "code",
   "execution_count": 22,
   "metadata": {},
   "outputs": [
    {
     "data": {
      "text/plain": [
       "array([nan])"
      ]
     },
     "execution_count": 22,
     "metadata": {},
     "output_type": "execute_result"
    }
   ],
   "source": [
    "data[data['parks_around3000'].isna()]['parks_nearest'].unique()"
   ]
  },
  {
   "cell_type": "markdown",
   "metadata": {},
   "source": [
    "Наша гипотеза подтвердилась, можем смело указать значение <b>0</b> в пропуска `ponds_around3000` и `parks_around3000`"
   ]
  },
  {
   "cell_type": "code",
   "execution_count": 23,
   "metadata": {},
   "outputs": [],
   "source": [
    "data['ponds_around3000'] = data['ponds_around3000'].fillna(0)\n",
    "data['parks_around3000'] = data['parks_around3000'].fillna(0)"
   ]
  },
  {
   "cell_type": "markdown",
   "metadata": {},
   "source": [
    "Проверим, что избавились от пропусков"
   ]
  },
  {
   "cell_type": "code",
   "execution_count": 24,
   "metadata": {},
   "outputs": [
    {
     "data": {
      "text/plain": [
       "parks_nearest           0.659298\n",
       "ponds_nearest           0.616271\n",
       "ceiling_height          0.386143\n",
       "airports_nearest        0.234278\n",
       "cityCenters_nearest     0.233304\n",
       "days_exposition         0.134333\n",
       "kitchen_area            0.094482\n",
       "living_area             0.079194\n",
       "locality_name           0.002033\n",
       "ponds_around3000        0.000000\n",
       "parks_around3000        0.000000\n",
       "balcony                 0.000000\n",
       "total_images            0.000000\n",
       "last_price              0.000000\n",
       "studio                  0.000000\n",
       "is_apartment            0.000000\n",
       "floor                   0.000000\n",
       "floors_total            0.000000\n",
       "rooms                   0.000000\n",
       "first_day_exposition    0.000000\n",
       "total_area              0.000000\n",
       "open_plan               0.000000\n",
       "dtype: float64"
      ]
     },
     "execution_count": 24,
     "metadata": {},
     "output_type": "execute_result"
    }
   ],
   "source": [
    "data.isna().mean().sort_values(ascending=False)"
   ]
  },
  {
   "cell_type": "markdown",
   "metadata": {},
   "source": [
    "#### Займемся пропусками в столбце `locality_name`"
   ]
  },
  {
   "cell_type": "code",
   "execution_count": 25,
   "metadata": {},
   "outputs": [
    {
     "data": {
      "text/plain": [
       "0.002032778554186253"
      ]
     },
     "execution_count": 25,
     "metadata": {},
     "output_type": "execute_result"
    }
   ],
   "source": [
    "data['locality_name'].isna().mean()"
   ]
  },
  {
   "cell_type": "markdown",
   "metadata": {},
   "source": [
    "Количество пропусков менее 0,3 процента - \n",
    "Запишем во все пропуски значение - <b>неизвестно</b>"
   ]
  },
  {
   "cell_type": "code",
   "execution_count": 26,
   "metadata": {},
   "outputs": [],
   "source": [
    "data['locality_name'] = data['locality_name'].fillna('неизвестен')"
   ]
  },
  {
   "cell_type": "markdown",
   "metadata": {},
   "source": [
    "#### Займемся пропусками в столбце `days_exposition`"
   ]
  },
  {
   "cell_type": "code",
   "execution_count": 27,
   "metadata": {},
   "outputs": [
    {
     "data": {
      "text/plain": [
       "0.13433278278914157"
      ]
     },
     "execution_count": 27,
     "metadata": {},
     "output_type": "execute_result"
    }
   ],
   "source": [
    "data['days_exposition'].isna().mean()"
   ]
  },
  {
   "cell_type": "markdown",
   "metadata": {},
   "source": [
    "Как мы видим, <b>количество пропущенных значений в столбце с датой снятия объявления около 13%.</b>\n",
    "\n",
    "Можем предположить, что <b>данные квартиры до сих пор не продались</b>.\n",
    "\n",
    "Значит мы можем <b>посчитать разницу между текущей датой и датой публикации обьявления</b>\n",
    "\n",
    "Но чтобы не исказить данные, добавим для квартир, в которых есть дата публикации и время обьявление значение `sold = True` - тем самым показав, что квартиры проданы. А для квартир в которых пропущен параметр `days_exposition` поставим значение `sold= False`"
   ]
  },
  {
   "cell_type": "code",
   "execution_count": 28,
   "metadata": {},
   "outputs": [],
   "source": [
    "data.loc[data['days_exposition'].notnull(),'sold'] = True\n",
    "data['sold']=data['sold'].fillna(False)"
   ]
  },
  {
   "cell_type": "code",
   "execution_count": 29,
   "metadata": {},
   "outputs": [
    {
     "data": {
      "text/html": [
       "<div>\n",
       "<style scoped>\n",
       "    .dataframe tbody tr th:only-of-type {\n",
       "        vertical-align: middle;\n",
       "    }\n",
       "\n",
       "    .dataframe tbody tr th {\n",
       "        vertical-align: top;\n",
       "    }\n",
       "\n",
       "    .dataframe thead th {\n",
       "        text-align: right;\n",
       "    }\n",
       "</style>\n",
       "<table border=\"1\" class=\"dataframe\">\n",
       "  <thead>\n",
       "    <tr style=\"text-align: right;\">\n",
       "      <th></th>\n",
       "      <th>total_images</th>\n",
       "      <th>last_price</th>\n",
       "      <th>total_area</th>\n",
       "      <th>first_day_exposition</th>\n",
       "      <th>rooms</th>\n",
       "      <th>ceiling_height</th>\n",
       "      <th>floors_total</th>\n",
       "      <th>living_area</th>\n",
       "      <th>floor</th>\n",
       "      <th>is_apartment</th>\n",
       "      <th>...</th>\n",
       "      <th>balcony</th>\n",
       "      <th>locality_name</th>\n",
       "      <th>airports_nearest</th>\n",
       "      <th>cityCenters_nearest</th>\n",
       "      <th>parks_around3000</th>\n",
       "      <th>parks_nearest</th>\n",
       "      <th>ponds_around3000</th>\n",
       "      <th>ponds_nearest</th>\n",
       "      <th>days_exposition</th>\n",
       "      <th>sold</th>\n",
       "    </tr>\n",
       "  </thead>\n",
       "  <tbody>\n",
       "    <tr>\n",
       "      <th>0</th>\n",
       "      <td>20</td>\n",
       "      <td>13000000.0</td>\n",
       "      <td>108.0</td>\n",
       "      <td>2019-03-07</td>\n",
       "      <td>3</td>\n",
       "      <td>2.70</td>\n",
       "      <td>16.0</td>\n",
       "      <td>51.0</td>\n",
       "      <td>8</td>\n",
       "      <td>False</td>\n",
       "      <td>...</td>\n",
       "      <td>0.0</td>\n",
       "      <td>Санкт-Петербург</td>\n",
       "      <td>18863.0</td>\n",
       "      <td>16028.0</td>\n",
       "      <td>1.0</td>\n",
       "      <td>482.0</td>\n",
       "      <td>2.0</td>\n",
       "      <td>755.0</td>\n",
       "      <td>NaN</td>\n",
       "      <td>False</td>\n",
       "    </tr>\n",
       "    <tr>\n",
       "      <th>1</th>\n",
       "      <td>7</td>\n",
       "      <td>3350000.0</td>\n",
       "      <td>40.4</td>\n",
       "      <td>2018-12-04</td>\n",
       "      <td>1</td>\n",
       "      <td>NaN</td>\n",
       "      <td>11.0</td>\n",
       "      <td>18.6</td>\n",
       "      <td>1</td>\n",
       "      <td>False</td>\n",
       "      <td>...</td>\n",
       "      <td>2.0</td>\n",
       "      <td>посёлок Шушары</td>\n",
       "      <td>12817.0</td>\n",
       "      <td>18603.0</td>\n",
       "      <td>0.0</td>\n",
       "      <td>NaN</td>\n",
       "      <td>0.0</td>\n",
       "      <td>NaN</td>\n",
       "      <td>81.0</td>\n",
       "      <td>True</td>\n",
       "    </tr>\n",
       "    <tr>\n",
       "      <th>2</th>\n",
       "      <td>10</td>\n",
       "      <td>5196000.0</td>\n",
       "      <td>56.0</td>\n",
       "      <td>2015-08-20</td>\n",
       "      <td>2</td>\n",
       "      <td>NaN</td>\n",
       "      <td>5.0</td>\n",
       "      <td>34.3</td>\n",
       "      <td>4</td>\n",
       "      <td>False</td>\n",
       "      <td>...</td>\n",
       "      <td>0.0</td>\n",
       "      <td>Санкт-Петербург</td>\n",
       "      <td>21741.0</td>\n",
       "      <td>13933.0</td>\n",
       "      <td>1.0</td>\n",
       "      <td>90.0</td>\n",
       "      <td>2.0</td>\n",
       "      <td>574.0</td>\n",
       "      <td>558.0</td>\n",
       "      <td>True</td>\n",
       "    </tr>\n",
       "    <tr>\n",
       "      <th>3</th>\n",
       "      <td>0</td>\n",
       "      <td>64900000.0</td>\n",
       "      <td>159.0</td>\n",
       "      <td>2015-07-24</td>\n",
       "      <td>3</td>\n",
       "      <td>NaN</td>\n",
       "      <td>14.0</td>\n",
       "      <td>NaN</td>\n",
       "      <td>9</td>\n",
       "      <td>False</td>\n",
       "      <td>...</td>\n",
       "      <td>0.0</td>\n",
       "      <td>Санкт-Петербург</td>\n",
       "      <td>28098.0</td>\n",
       "      <td>6800.0</td>\n",
       "      <td>2.0</td>\n",
       "      <td>84.0</td>\n",
       "      <td>3.0</td>\n",
       "      <td>234.0</td>\n",
       "      <td>424.0</td>\n",
       "      <td>True</td>\n",
       "    </tr>\n",
       "    <tr>\n",
       "      <th>4</th>\n",
       "      <td>2</td>\n",
       "      <td>10000000.0</td>\n",
       "      <td>100.0</td>\n",
       "      <td>2018-06-19</td>\n",
       "      <td>2</td>\n",
       "      <td>3.03</td>\n",
       "      <td>14.0</td>\n",
       "      <td>32.0</td>\n",
       "      <td>13</td>\n",
       "      <td>False</td>\n",
       "      <td>...</td>\n",
       "      <td>0.0</td>\n",
       "      <td>Санкт-Петербург</td>\n",
       "      <td>31856.0</td>\n",
       "      <td>8098.0</td>\n",
       "      <td>2.0</td>\n",
       "      <td>112.0</td>\n",
       "      <td>1.0</td>\n",
       "      <td>48.0</td>\n",
       "      <td>121.0</td>\n",
       "      <td>True</td>\n",
       "    </tr>\n",
       "  </tbody>\n",
       "</table>\n",
       "<p>5 rows × 23 columns</p>\n",
       "</div>"
      ],
      "text/plain": [
       "   total_images  last_price  total_area first_day_exposition  rooms  \\\n",
       "0            20  13000000.0       108.0           2019-03-07      3   \n",
       "1             7   3350000.0        40.4           2018-12-04      1   \n",
       "2            10   5196000.0        56.0           2015-08-20      2   \n",
       "3             0  64900000.0       159.0           2015-07-24      3   \n",
       "4             2  10000000.0       100.0           2018-06-19      2   \n",
       "\n",
       "   ceiling_height  floors_total  living_area  floor  is_apartment  ...  \\\n",
       "0            2.70          16.0         51.0      8         False  ...   \n",
       "1             NaN          11.0         18.6      1         False  ...   \n",
       "2             NaN           5.0         34.3      4         False  ...   \n",
       "3             NaN          14.0          NaN      9         False  ...   \n",
       "4            3.03          14.0         32.0     13         False  ...   \n",
       "\n",
       "   balcony    locality_name  airports_nearest  cityCenters_nearest  \\\n",
       "0      0.0  Санкт-Петербург           18863.0              16028.0   \n",
       "1      2.0   посёлок Шушары           12817.0              18603.0   \n",
       "2      0.0  Санкт-Петербург           21741.0              13933.0   \n",
       "3      0.0  Санкт-Петербург           28098.0               6800.0   \n",
       "4      0.0  Санкт-Петербург           31856.0               8098.0   \n",
       "\n",
       "  parks_around3000  parks_nearest  ponds_around3000  ponds_nearest  \\\n",
       "0              1.0          482.0               2.0          755.0   \n",
       "1              0.0            NaN               0.0            NaN   \n",
       "2              1.0           90.0               2.0          574.0   \n",
       "3              2.0           84.0               3.0          234.0   \n",
       "4              2.0          112.0               1.0           48.0   \n",
       "\n",
       "   days_exposition   sold  \n",
       "0              NaN  False  \n",
       "1             81.0   True  \n",
       "2            558.0   True  \n",
       "3            424.0   True  \n",
       "4            121.0   True  \n",
       "\n",
       "[5 rows x 23 columns]"
      ]
     },
     "execution_count": 29,
     "metadata": {},
     "output_type": "execute_result"
    }
   ],
   "source": [
    "data.head()"
   ]
  },
  {
   "cell_type": "markdown",
   "metadata": {},
   "source": [
    "Проставим для всех столбцов со значением `sold=False` значение `days_exposition` равное разницы между текущей датой и датой публикования обьявления"
   ]
  },
  {
   "cell_type": "code",
   "execution_count": 30,
   "metadata": {},
   "outputs": [],
   "source": [
    "data.loc[data['sold']==False,'days_exposition']=(datetime.now()-data['first_day_exposition']).dt.days"
   ]
  },
  {
   "cell_type": "code",
   "execution_count": 31,
   "metadata": {},
   "outputs": [
    {
     "data": {
      "text/html": [
       "<div>\n",
       "<style scoped>\n",
       "    .dataframe tbody tr th:only-of-type {\n",
       "        vertical-align: middle;\n",
       "    }\n",
       "\n",
       "    .dataframe tbody tr th {\n",
       "        vertical-align: top;\n",
       "    }\n",
       "\n",
       "    .dataframe thead th {\n",
       "        text-align: right;\n",
       "    }\n",
       "</style>\n",
       "<table border=\"1\" class=\"dataframe\">\n",
       "  <thead>\n",
       "    <tr style=\"text-align: right;\">\n",
       "      <th></th>\n",
       "      <th>total_images</th>\n",
       "      <th>last_price</th>\n",
       "      <th>total_area</th>\n",
       "      <th>first_day_exposition</th>\n",
       "      <th>rooms</th>\n",
       "      <th>ceiling_height</th>\n",
       "      <th>floors_total</th>\n",
       "      <th>living_area</th>\n",
       "      <th>floor</th>\n",
       "      <th>is_apartment</th>\n",
       "      <th>...</th>\n",
       "      <th>balcony</th>\n",
       "      <th>locality_name</th>\n",
       "      <th>airports_nearest</th>\n",
       "      <th>cityCenters_nearest</th>\n",
       "      <th>parks_around3000</th>\n",
       "      <th>parks_nearest</th>\n",
       "      <th>ponds_around3000</th>\n",
       "      <th>ponds_nearest</th>\n",
       "      <th>days_exposition</th>\n",
       "      <th>sold</th>\n",
       "    </tr>\n",
       "  </thead>\n",
       "  <tbody>\n",
       "    <tr>\n",
       "      <th>0</th>\n",
       "      <td>20</td>\n",
       "      <td>13000000.0</td>\n",
       "      <td>108.0</td>\n",
       "      <td>2019-03-07</td>\n",
       "      <td>3</td>\n",
       "      <td>2.70</td>\n",
       "      <td>16.0</td>\n",
       "      <td>51.0</td>\n",
       "      <td>8</td>\n",
       "      <td>False</td>\n",
       "      <td>...</td>\n",
       "      <td>0.0</td>\n",
       "      <td>Санкт-Петербург</td>\n",
       "      <td>18863.0</td>\n",
       "      <td>16028.0</td>\n",
       "      <td>1.0</td>\n",
       "      <td>482.0</td>\n",
       "      <td>2.0</td>\n",
       "      <td>755.0</td>\n",
       "      <td>1505.0</td>\n",
       "      <td>False</td>\n",
       "    </tr>\n",
       "    <tr>\n",
       "      <th>1</th>\n",
       "      <td>7</td>\n",
       "      <td>3350000.0</td>\n",
       "      <td>40.4</td>\n",
       "      <td>2018-12-04</td>\n",
       "      <td>1</td>\n",
       "      <td>NaN</td>\n",
       "      <td>11.0</td>\n",
       "      <td>18.6</td>\n",
       "      <td>1</td>\n",
       "      <td>False</td>\n",
       "      <td>...</td>\n",
       "      <td>2.0</td>\n",
       "      <td>посёлок Шушары</td>\n",
       "      <td>12817.0</td>\n",
       "      <td>18603.0</td>\n",
       "      <td>0.0</td>\n",
       "      <td>NaN</td>\n",
       "      <td>0.0</td>\n",
       "      <td>NaN</td>\n",
       "      <td>81.0</td>\n",
       "      <td>True</td>\n",
       "    </tr>\n",
       "    <tr>\n",
       "      <th>2</th>\n",
       "      <td>10</td>\n",
       "      <td>5196000.0</td>\n",
       "      <td>56.0</td>\n",
       "      <td>2015-08-20</td>\n",
       "      <td>2</td>\n",
       "      <td>NaN</td>\n",
       "      <td>5.0</td>\n",
       "      <td>34.3</td>\n",
       "      <td>4</td>\n",
       "      <td>False</td>\n",
       "      <td>...</td>\n",
       "      <td>0.0</td>\n",
       "      <td>Санкт-Петербург</td>\n",
       "      <td>21741.0</td>\n",
       "      <td>13933.0</td>\n",
       "      <td>1.0</td>\n",
       "      <td>90.0</td>\n",
       "      <td>2.0</td>\n",
       "      <td>574.0</td>\n",
       "      <td>558.0</td>\n",
       "      <td>True</td>\n",
       "    </tr>\n",
       "    <tr>\n",
       "      <th>3</th>\n",
       "      <td>0</td>\n",
       "      <td>64900000.0</td>\n",
       "      <td>159.0</td>\n",
       "      <td>2015-07-24</td>\n",
       "      <td>3</td>\n",
       "      <td>NaN</td>\n",
       "      <td>14.0</td>\n",
       "      <td>NaN</td>\n",
       "      <td>9</td>\n",
       "      <td>False</td>\n",
       "      <td>...</td>\n",
       "      <td>0.0</td>\n",
       "      <td>Санкт-Петербург</td>\n",
       "      <td>28098.0</td>\n",
       "      <td>6800.0</td>\n",
       "      <td>2.0</td>\n",
       "      <td>84.0</td>\n",
       "      <td>3.0</td>\n",
       "      <td>234.0</td>\n",
       "      <td>424.0</td>\n",
       "      <td>True</td>\n",
       "    </tr>\n",
       "    <tr>\n",
       "      <th>4</th>\n",
       "      <td>2</td>\n",
       "      <td>10000000.0</td>\n",
       "      <td>100.0</td>\n",
       "      <td>2018-06-19</td>\n",
       "      <td>2</td>\n",
       "      <td>3.03</td>\n",
       "      <td>14.0</td>\n",
       "      <td>32.0</td>\n",
       "      <td>13</td>\n",
       "      <td>False</td>\n",
       "      <td>...</td>\n",
       "      <td>0.0</td>\n",
       "      <td>Санкт-Петербург</td>\n",
       "      <td>31856.0</td>\n",
       "      <td>8098.0</td>\n",
       "      <td>2.0</td>\n",
       "      <td>112.0</td>\n",
       "      <td>1.0</td>\n",
       "      <td>48.0</td>\n",
       "      <td>121.0</td>\n",
       "      <td>True</td>\n",
       "    </tr>\n",
       "  </tbody>\n",
       "</table>\n",
       "<p>5 rows × 23 columns</p>\n",
       "</div>"
      ],
      "text/plain": [
       "   total_images  last_price  total_area first_day_exposition  rooms  \\\n",
       "0            20  13000000.0       108.0           2019-03-07      3   \n",
       "1             7   3350000.0        40.4           2018-12-04      1   \n",
       "2            10   5196000.0        56.0           2015-08-20      2   \n",
       "3             0  64900000.0       159.0           2015-07-24      3   \n",
       "4             2  10000000.0       100.0           2018-06-19      2   \n",
       "\n",
       "   ceiling_height  floors_total  living_area  floor  is_apartment  ...  \\\n",
       "0            2.70          16.0         51.0      8         False  ...   \n",
       "1             NaN          11.0         18.6      1         False  ...   \n",
       "2             NaN           5.0         34.3      4         False  ...   \n",
       "3             NaN          14.0          NaN      9         False  ...   \n",
       "4            3.03          14.0         32.0     13         False  ...   \n",
       "\n",
       "   balcony    locality_name  airports_nearest  cityCenters_nearest  \\\n",
       "0      0.0  Санкт-Петербург           18863.0              16028.0   \n",
       "1      2.0   посёлок Шушары           12817.0              18603.0   \n",
       "2      0.0  Санкт-Петербург           21741.0              13933.0   \n",
       "3      0.0  Санкт-Петербург           28098.0               6800.0   \n",
       "4      0.0  Санкт-Петербург           31856.0               8098.0   \n",
       "\n",
       "  parks_around3000  parks_nearest  ponds_around3000  ponds_nearest  \\\n",
       "0              1.0          482.0               2.0          755.0   \n",
       "1              0.0            NaN               0.0            NaN   \n",
       "2              1.0           90.0               2.0          574.0   \n",
       "3              2.0           84.0               3.0          234.0   \n",
       "4              2.0          112.0               1.0           48.0   \n",
       "\n",
       "   days_exposition   sold  \n",
       "0           1505.0  False  \n",
       "1             81.0   True  \n",
       "2            558.0   True  \n",
       "3            424.0   True  \n",
       "4            121.0   True  \n",
       "\n",
       "[5 rows x 23 columns]"
      ]
     },
     "execution_count": 31,
     "metadata": {},
     "output_type": "execute_result"
    }
   ],
   "source": [
    "data.head()"
   ]
  },
  {
   "cell_type": "markdown",
   "metadata": {},
   "source": [
    "Остальные столбцы с пропусками не являются важными в данном исследовании или количество пропусков в них не так критично, и чтобы не исказить данные, трогать их пока не будем"
   ]
  },
  {
   "cell_type": "code",
   "execution_count": 32,
   "metadata": {},
   "outputs": [
    {
     "data": {
      "text/plain": [
       "parks_nearest          0.659298\n",
       "ponds_nearest          0.616271\n",
       "ceiling_height         0.386143\n",
       "airports_nearest       0.234278\n",
       "cityCenters_nearest    0.233304\n",
       "kitchen_area           0.094482\n",
       "living_area            0.079194\n",
       "total_images           0.000000\n",
       "dtype: float64"
      ]
     },
     "execution_count": 32,
     "metadata": {},
     "output_type": "execute_result"
    }
   ],
   "source": [
    "data.isna().mean().sort_values(ascending=False).head(8)"
   ]
  },
  {
   "cell_type": "markdown",
   "metadata": {},
   "source": [
    "#### Посмотрим на тип данных в столбцах"
   ]
  },
  {
   "cell_type": "code",
   "execution_count": 33,
   "metadata": {},
   "outputs": [
    {
     "name": "stdout",
     "output_type": "stream",
     "text": [
      "<class 'pandas.core.frame.DataFrame'>\n",
      "Int64Index: 23613 entries, 0 to 23698\n",
      "Data columns (total 23 columns):\n",
      " #   Column                Non-Null Count  Dtype         \n",
      "---  ------                --------------  -----         \n",
      " 0   total_images          23613 non-null  int64         \n",
      " 1   last_price            23613 non-null  float64       \n",
      " 2   total_area            23613 non-null  float64       \n",
      " 3   first_day_exposition  23613 non-null  datetime64[ns]\n",
      " 4   rooms                 23613 non-null  int64         \n",
      " 5   ceiling_height        14495 non-null  float64       \n",
      " 6   floors_total          23613 non-null  float64       \n",
      " 7   living_area           21743 non-null  float64       \n",
      " 8   floor                 23613 non-null  int64         \n",
      " 9   is_apartment          23613 non-null  bool          \n",
      " 10  studio                23613 non-null  bool          \n",
      " 11  open_plan             23613 non-null  bool          \n",
      " 12  kitchen_area          21382 non-null  float64       \n",
      " 13  balcony               23613 non-null  float64       \n",
      " 14  locality_name         23613 non-null  object        \n",
      " 15  airports_nearest      18081 non-null  float64       \n",
      " 16  cityCenters_nearest   18104 non-null  float64       \n",
      " 17  parks_around3000      23613 non-null  float64       \n",
      " 18  parks_nearest         8045 non-null   float64       \n",
      " 19  ponds_around3000      23613 non-null  float64       \n",
      " 20  ponds_nearest         9061 non-null   float64       \n",
      " 21  days_exposition       23613 non-null  float64       \n",
      " 22  sold                  23613 non-null  bool          \n",
      "dtypes: bool(4), datetime64[ns](1), float64(14), int64(3), object(1)\n",
      "memory usage: 4.2+ MB\n"
     ]
    }
   ],
   "source": [
    "data.info()"
   ]
  },
  {
   "cell_type": "markdown",
   "metadata": {},
   "source": [
    "Переведем значение столбцов `floors_total`, `balcony`, `parks_around3000`,`ponds_around3000`, `days_exposition` в формат `int` (так как значения этих данных не может быть не целым числом)"
   ]
  },
  {
   "cell_type": "code",
   "execution_count": 34,
   "metadata": {},
   "outputs": [],
   "source": [
    "data['floors_total']=data['floors_total'].astype('int')\n",
    "data['balcony']=data['balcony'].astype('int')\n",
    "data['parks_around3000']=data['parks_around3000'].astype('int')\n",
    "data['ponds_around3000']=data['ponds_around3000'].astype('int')\n",
    "data['days_exposition']=data['days_exposition'].astype('int')"
   ]
  },
  {
   "cell_type": "markdown",
   "metadata": {},
   "source": [
    "##### Изучим столбец с названиями населенных пунктов `locality_name`"
   ]
  },
  {
   "cell_type": "markdown",
   "metadata": {},
   "source": [
    "Переведем значение столбца в текстовое(string)"
   ]
  },
  {
   "cell_type": "code",
   "execution_count": 35,
   "metadata": {},
   "outputs": [],
   "source": [
    "data['locality_name']=data['locality_name'].astype('string')"
   ]
  },
  {
   "cell_type": "markdown",
   "metadata": {},
   "source": [
    "Проверим уникальные значения столбца `locality_name`"
   ]
  },
  {
   "cell_type": "code",
   "execution_count": 36,
   "metadata": {},
   "outputs": [
    {
     "data": {
      "text/plain": [
       "<StringArray>\n",
       "[          'Санкт-Петербург',            'посёлок Шушары',\n",
       " 'городской посёлок Янино-1',         'посёлок Парголово',\n",
       "            'посёлок Мурино',                 'Ломоносов',\n",
       "                 'Сертолово',                  'Петергоф',\n",
       "                    'Пушкин',           'деревня Кудрово',\n",
       " ...\n",
       "   'деревня Большое Рейзино',   'деревня Малая Романовка',\n",
       "       'поселок Дружноселье',            'поселок Пчевжа',\n",
       "       'поселок Володарское',            'деревня Нижняя',\n",
       " 'коттеджный посёлок Лесное',         'деревня Тихковицы',\n",
       "    'деревня Борисова Грива',      'посёлок Дзержинского']\n",
       "Length: 365, dtype: string"
      ]
     },
     "execution_count": 36,
     "metadata": {},
     "output_type": "execute_result"
    }
   ],
   "source": [
    "data['locality_name'].unique()"
   ]
  },
  {
   "cell_type": "markdown",
   "metadata": {},
   "source": [
    "Как мы видим, встречаются дубликаты. Попробуем их убрать.\n",
    "- приведем все имена к нижнему регистру"
   ]
  },
  {
   "cell_type": "code",
   "execution_count": 37,
   "metadata": {},
   "outputs": [
    {
     "data": {
      "text/plain": [
       "<StringArray>\n",
       "[          'санкт-петербург',            'посёлок шушары',\n",
       " 'городской посёлок янино-1',         'посёлок парголово',\n",
       "            'посёлок мурино',                 'ломоносов',\n",
       "                 'сертолово',                  'петергоф',\n",
       "                    'пушкин',           'деревня кудрово',\n",
       " ...\n",
       "   'деревня большое рейзино',   'деревня малая романовка',\n",
       "       'поселок дружноселье',            'поселок пчевжа',\n",
       "       'поселок володарское',            'деревня нижняя',\n",
       " 'коттеджный посёлок лесное',         'деревня тихковицы',\n",
       "    'деревня борисова грива',      'посёлок дзержинского']\n",
       "Length: 365, dtype: string"
      ]
     },
     "execution_count": 37,
     "metadata": {},
     "output_type": "execute_result"
    }
   ],
   "source": [
    "data['locality_name'] = data['locality_name'].str.lower()\n",
    "data['locality_name'].unique()"
   ]
  },
  {
   "cell_type": "markdown",
   "metadata": {},
   "source": [
    "- Для замены буквы <font color=red>Е </font> на <font color=green>Ë</font> используем регулярные выражения"
   ]
  },
  {
   "cell_type": "code",
   "execution_count": 38,
   "metadata": {},
   "outputs": [],
   "source": [
    "data['locality_name']=data['locality_name'].str.replace(r'ё','е',regex=False)"
   ]
  },
  {
   "cell_type": "markdown",
   "metadata": {},
   "source": [
    "Заменим неочевидные дубликаты -"
   ]
  },
  {
   "cell_type": "code",
   "execution_count": 39,
   "metadata": {},
   "outputs": [],
   "source": [
    "data['locality_name'] = data['locality_name'].replace('поселок городского типа рябово','поселок рябово')\n",
    "data['locality_name'] = data['locality_name'].replace('городской поселок большая ижора','поселок городского типа большая ижора')\n",
    "data['locality_name'] = data['locality_name'].replace('городской поселок мга','поселок городского типа мга')\n",
    "data['locality_name'] = data['locality_name'].replace('городской поселок павлово','поселок городского типа павлово')\n",
    "data['locality_name'] = data['locality_name'].replace('городской поселок лесогорский','поселок городского типа лесогорский')\n",
    "data['locality_name'] = data['locality_name'].replace('городской поселок назия','поселок городского типа назия')\n",
    "data['locality_name'] = data['locality_name'].replace('городской поселок рощино','поселок городского типа рощино')"
   ]
  },
  {
   "cell_type": "code",
   "execution_count": 40,
   "metadata": {},
   "outputs": [
    {
     "data": {
      "text/plain": [
       "<StringArray>\n",
       "[          'санкт-петербург',            'поселок шушары',\n",
       " 'городской поселок янино-1',         'поселок парголово',\n",
       "            'поселок мурино',                 'ломоносов',\n",
       "                 'сертолово',                  'петергоф',\n",
       "                    'пушкин',           'деревня кудрово',\n",
       " ...\n",
       "   'деревня большое рейзино',   'деревня малая романовка',\n",
       "       'поселок дружноселье',            'поселок пчевжа',\n",
       "       'поселок володарское',            'деревня нижняя',\n",
       " 'коттеджный поселок лесное',         'деревня тихковицы',\n",
       "    'деревня борисова грива',      'поселок дзержинского']\n",
       "Length: 324, dtype: string"
      ]
     },
     "execution_count": 40,
     "metadata": {},
     "output_type": "execute_result"
    }
   ],
   "source": [
    "data['locality_name'].unique()"
   ]
  },
  {
   "cell_type": "markdown",
   "metadata": {},
   "source": [
    "#### Посмотрим на уникальные значения столбца `ceiling_height` (высота потолков)"
   ]
  },
  {
   "cell_type": "code",
   "execution_count": 41,
   "metadata": {},
   "outputs": [
    {
     "data": {
      "image/png": "[encoded data removed]",
      "text/plain": [
       "<Figure size 432x288 with 1 Axes>"
      ]
     },
     "metadata": {
      "needs_background": "light"
     },
     "output_type": "display_data"
    }
   ],
   "source": [
    "data.hist(column='ceiling_height', bins=100)\n",
    "plt.xlabel('Высота потолков')\n",
    "plt.ylabel('Количество квартир')\n",
    "plt.title('Распределение высоты потолков в выборке')\n",
    "plt.show()"
   ]
  },
  {
   "cell_type": "markdown",
   "metadata": {},
   "source": [
    "Как мы видим, в основном высота потолков составляет от 2 до 4 метров, есть много аномальных данных, и потолков выше 10-15 метров. Скорее всего ошибка при заполнении (не там стоит точка).\n",
    "Исправим."
   ]
  },
  {
   "cell_type": "code",
   "execution_count": 42,
   "metadata": {},
   "outputs": [
    {
     "data": {
      "text/plain": [
       "array([ 25. ,  32. ,  27. ,  24. ,  26. ,  14. ,  20. ,  22.6,  27.5,\n",
       "        10.3, 100. ])"
      ]
     },
     "execution_count": 42,
     "metadata": {},
     "output_type": "execute_result"
    }
   ],
   "source": [
    "data[data['ceiling_height'] >10]['ceiling_height'].unique()"
   ]
  },
  {
   "cell_type": "code",
   "execution_count": 43,
   "metadata": {},
   "outputs": [],
   "source": [
    "data['ceiling_height'] = data['ceiling_height'].replace(25,2.5)\n",
    "data['ceiling_height'] = data['ceiling_height'].replace(32,3.2)\n",
    "data['ceiling_height'] = data['ceiling_height'].replace(27,2.7)\n",
    "data['ceiling_height'] = data['ceiling_height'].replace(24,2.4)\n",
    "data['ceiling_height'] = data['ceiling_height'].replace(26,2.6)\n",
    "data['ceiling_height'] = data['ceiling_height'].replace(20,2)\n",
    "data['ceiling_height'] = data['ceiling_height'].replace(22.6,2.26)\n",
    "data['ceiling_height'] = data['ceiling_height'].replace(27.5,2.75)\n",
    "data['ceiling_height'] = data['ceiling_height'].replace(100,10)\n",
    "data['ceiling_height'] = data['ceiling_height'].replace(14,1.4)"
   ]
  },
  {
   "cell_type": "markdown",
   "metadata": {},
   "source": [
    "Посмотрим количество незаполненных строк в графе `ceiling_height`"
   ]
  },
  {
   "cell_type": "code",
   "execution_count": 44,
   "metadata": {},
   "outputs": [
    {
     "data": {
      "text/plain": [
       "0.3861432261889637"
      ]
     },
     "execution_count": 44,
     "metadata": {},
     "output_type": "execute_result"
    }
   ],
   "source": [
    "data['ceiling_height'].isna().mean()"
   ]
  },
  {
   "cell_type": "markdown",
   "metadata": {},
   "source": [
    "Количество пропусков велико и составляет ~ 39%. В связи с тем, что на необходимо провести исследование на влияния высоты потолков на успешную продажу, добавим в пустые стобцы - медианное значение высоты."
   ]
  },
  {
   "cell_type": "code",
   "execution_count": 45,
   "metadata": {
    "scrolled": true
   },
   "outputs": [
    {
     "data": {
      "text/plain": [
       "0.0"
      ]
     },
     "execution_count": 45,
     "metadata": {},
     "output_type": "execute_result"
    }
   ],
   "source": [
    "data['ceiling_height']= data['ceiling_height'].fillna(data['ceiling_height'].median())\n",
    "data['ceiling_height'].isna().mean()"
   ]
  },
  {
   "cell_type": "code",
   "execution_count": 46,
   "metadata": {},
   "outputs": [
    {
     "data": {
      "text/plain": [
       "<AxesSubplot:>"
      ]
     },
     "execution_count": 46,
     "metadata": {},
     "output_type": "execute_result"
    },
    {
     "data": {
      "image/png": "[encoded data removed]",
      "text/plain": [
       "<Figure size 432x288 with 1 Axes>"
      ]
     },
     "metadata": {
      "needs_background": "light"
     },
     "output_type": "display_data"
    }
   ],
   "source": [
    "data.boxplot(column='ceiling_height')"
   ]
  },
  {
   "cell_type": "code",
   "execution_count": 47,
   "metadata": {},
   "outputs": [
    {
     "data": {
      "text/plain": [
       "total_images            10\n",
       "last_price              10\n",
       "total_area              10\n",
       "first_day_exposition    10\n",
       "rooms                   10\n",
       "ceiling_height          10\n",
       "floors_total            10\n",
       "living_area             10\n",
       "floor                   10\n",
       "is_apartment            10\n",
       "studio                  10\n",
       "open_plan               10\n",
       "kitchen_area             8\n",
       "balcony                 10\n",
       "locality_name           10\n",
       "airports_nearest         8\n",
       "cityCenters_nearest      8\n",
       "parks_around3000        10\n",
       "parks_nearest            4\n",
       "ponds_around3000        10\n",
       "ponds_nearest            5\n",
       "days_exposition         10\n",
       "sold                    10\n",
       "dtype: int64"
      ]
     },
     "execution_count": 47,
     "metadata": {},
     "output_type": "execute_result"
    }
   ],
   "source": [
    "data.query('ceiling_height < 2 or ceiling_height > 6').count()"
   ]
  },
  {
   "cell_type": "markdown",
   "metadata": {},
   "source": [
    "Объектов с высотой потолков больше 6 метров или меньше 2 - всего 10.\n",
    "\n",
    "Оставим объекты недвижимости высотой потолков от 2 до 6 метров."
   ]
  },
  {
   "cell_type": "code",
   "execution_count": 48,
   "metadata": {},
   "outputs": [],
   "source": [
    "data = data.query('ceiling_height >= 2 and ceiling_height <= 6')"
   ]
  },
  {
   "cell_type": "code",
   "execution_count": 49,
   "metadata": {},
   "outputs": [
    {
     "data": {
      "text/plain": [
       "<AxesSubplot:>"
      ]
     },
     "execution_count": 49,
     "metadata": {},
     "output_type": "execute_result"
    },
    {
     "data": {
      "image/png": "[encoded data removed]",
      "text/plain": [
       "<Figure size 432x288 with 1 Axes>"
      ]
     },
     "metadata": {
      "needs_background": "light"
     },
     "output_type": "display_data"
    }
   ],
   "source": [
    "data.boxplot(column='ceiling_height')"
   ]
  },
  {
   "cell_type": "markdown",
   "metadata": {},
   "source": [
    "#### Посмотрим на уникальные значения столбца `days_exposition`"
   ]
  },
  {
   "cell_type": "code",
   "execution_count": 50,
   "metadata": {},
   "outputs": [
    {
     "data": {
      "image/png": "[encoded data removed]",
      "text/plain": [
       "<Figure size 432x288 with 1 Axes>"
      ]
     },
     "metadata": {
      "needs_background": "light"
     },
     "output_type": "display_data"
    }
   ],
   "source": [
    "data['days_exposition'].hist( bins=100)\n",
    "plt.xlabel('Срок действия объявления')\n",
    "plt.ylabel('Количество обьявлений')\n",
    "plt.title('Распределение срока размещения обявления')\n",
    "plt.show()"
   ]
  },
  {
   "cell_type": "code",
   "execution_count": 51,
   "metadata": {},
   "outputs": [
    {
     "data": {
      "image/png": "[encoded data removed]",
      "text/plain": [
       "<Figure size 432x288 with 1 Axes>"
      ]
     },
     "metadata": {
      "needs_background": "light"
     },
     "output_type": "display_data"
    }
   ],
   "source": [
    "data[data['sold']==True]['days_exposition'].hist( bins=100)\n",
    "plt.xlabel('Срок действия объявления')\n",
    "plt.ylabel('Количество обьявлений')\n",
    "plt.title('Распределение срока размещения обявления')\n",
    "plt.show()"
   ]
  },
  {
   "cell_type": "code",
   "execution_count": 52,
   "metadata": {},
   "outputs": [
    {
     "name": "stdout",
     "output_type": "stream",
     "text": [
      "count    20431.000000\n",
      "mean       180.881161\n",
      "std        219.706903\n",
      "min          1.000000\n",
      "25%         45.000000\n",
      "50%         95.000000\n",
      "75%        232.000000\n",
      "max       1580.000000\n",
      "Name: days_exposition, dtype: float64\n"
     ]
    },
    {
     "data": {
      "image/png": "[encoded data removed]",
      "text/plain": [
       "<Figure size 432x288 with 1 Axes>"
      ]
     },
     "metadata": {
      "needs_background": "light"
     },
     "output_type": "display_data"
    }
   ],
   "source": [
    "data[data['sold']==True].boxplot(column='days_exposition')\n",
    "print(data[data['sold']==True]['days_exposition'].describe())"
   ]
  },
  {
   "cell_type": "markdown",
   "metadata": {},
   "source": [
    "Как мы видим, большинство квартир продалось в промежутке от 45 до 232 дней.\n",
    "Второй пик на первой гистограме связан с тем, что все пропуски в столбце `days_exposition` мы заменили текущей датой и считаем, что что квартира до сих пор не продалась и объявление активно. Мы имели порядка 13% пропусков."
   ]
  },
  {
   "cell_type": "markdown",
   "metadata": {},
   "source": [
    "####  Посмотрим , есть ли дубликаты в таблице"
   ]
  },
  {
   "cell_type": "code",
   "execution_count": 53,
   "metadata": {},
   "outputs": [
    {
     "data": {
      "text/plain": [
       "0"
      ]
     },
     "execution_count": 53,
     "metadata": {},
     "output_type": "execute_result"
    }
   ],
   "source": [
    "data.duplicated().sum()"
   ]
  },
  {
   "cell_type": "markdown",
   "metadata": {},
   "source": [
    "Явных дубликатов не обнаружено - можно приступать к дальнейшему Анализу."
   ]
  },
  {
   "cell_type": "markdown",
   "metadata": {},
   "source": [
    "#### Посмотрим еще раз на столбцы с пропусками"
   ]
  },
  {
   "cell_type": "code",
   "execution_count": 54,
   "metadata": {},
   "outputs": [
    {
     "data": {
      "text/plain": [
       "parks_nearest          0.659323\n",
       "ponds_nearest          0.616320\n",
       "airports_nearest       0.234292\n",
       "cityCenters_nearest    0.233318\n",
       "kitchen_area           0.094437\n",
       "living_area            0.079227\n",
       "total_images           0.000000\n",
       "days_exposition        0.000000\n",
       "dtype: float64"
      ]
     },
     "execution_count": 54,
     "metadata": {},
     "output_type": "execute_result"
    }
   ],
   "source": [
    "data.isna().mean().sort_values(ascending = False).head(8)"
   ]
  },
  {
   "cell_type": "markdown",
   "metadata": {},
   "source": [
    "Оставшиеся пропуски найдены в следующих столбцах - \n",
    "- `parks_nearest` - расстояние до ближайшего парка (м) -65% пропусков \n",
    "- `ponds_nearest` -расстояние до ближайшего пруда (м)- 62% пропусков \n",
    "- `ceiling_height` - высота потолков - 39% пропусков\n",
    "- `airports_nearest` - расстояние до ближайшего аэропорта (м)-  23% пропусков\n",
    "- `cityCenters_nearest` - расстояние до центра города (м) - 23% пропусков\n",
    "- `kitchen_area` - площадь кухни - 9% пропусков\n",
    "- `living_area` - жилая площадь - 8% пропусков\n",
    "\n",
    "\n",
    "\n",
    "- Судя по <a href=#ponds> пункта 2.6 исследования </a> пропущенные значения в столбцах `parks_nearest` \n",
    "и `ponds_nearest` говорят о том, что в ближайших 3 км - прудов и парков - нет. Ставить значение 3,4,5 км вместо пустого - я считаю - некорректно. Может исказить итоговый вывод.\n",
    "\n",
    "- Параметр высота потолков `ceiling_height` можно было бы поменять на медианный, но это тоже бы сильно повлияло на результаты итогового исследования.\n",
    "- Параметр - расстояние от ближайшего аэропорта - мы можем бы заменить медианным значением по каждому населенному пункту. "
   ]
  },
  {
   "cell_type": "code",
   "execution_count": 55,
   "metadata": {},
   "outputs": [
    {
     "data": {
      "text/plain": [
       "0.2300555014193111"
      ]
     },
     "execution_count": 55,
     "metadata": {},
     "output_type": "execute_result"
    }
   ],
   "source": [
    "for name in data['locality_name'].unique():\n",
    "    median = data.loc[data['locality_name'] == name]['airports_nearest'].median()\n",
    "    data.loc[(data['airports_nearest'].isna()) & (data['locality_name'] == name), 'airports_nearest'] = median\n",
    "\n",
    "data['airports_nearest'].isna().mean()"
   ]
  },
  {
   "cell_type": "markdown",
   "metadata": {},
   "source": [
    "Но как мы видим, <b>есть много населенных пунктов, в которых не указано расстояние до аэропорта</b>(мы могли бы вручную проставить, но это потребует дополнительных трудозатрат)"
   ]
  },
  {
   "cell_type": "markdown",
   "metadata": {},
   "source": [
    "- Количество пустых значений в столбцах жилой площади и площади кухни составляет менее 10%. Чтобы не исказзить данные оставим эти пропуски."
   ]
  },
  {
   "cell_type": "markdown",
   "metadata": {},
   "source": [
    "- Значение параметра `cityCenters_nearest` - я тоже не стал менять, чтобы не исказить данные. \n",
    "Можно было бы проставить расстояние в зависимости от цены недвижимости (например как мы в дальнейшем <a href=#spb>рассчитаем для Санкт-Петербурга в шаге 4.5</a>). Но это потребует дополнительных временных затрат и для данного исследования не так критично."
   ]
  },
  {
   "cell_type": "markdown",
   "metadata": {},
   "source": [
    "### Посчитайте и добавьте в таблицу новые столбцы"
   ]
  },
  {
   "cell_type": "markdown",
   "metadata": {},
   "source": [
    "#### Добавим столбец с ценой 1 кв.м. `1m_price` в наш датасет"
   ]
  },
  {
   "cell_type": "code",
   "execution_count": 56,
   "metadata": {},
   "outputs": [],
   "source": [
    "data['1m_price'] =data['last_price']/data['total_area']"
   ]
  },
  {
   "cell_type": "markdown",
   "metadata": {},
   "source": [
    "Выведем 5 строк с новым столбцом "
   ]
  },
  {
   "cell_type": "code",
   "execution_count": 57,
   "metadata": {},
   "outputs": [
    {
     "data": {
      "text/html": [
       "<div>\n",
       "<style scoped>\n",
       "    .dataframe tbody tr th:only-of-type {\n",
       "        vertical-align: middle;\n",
       "    }\n",
       "\n",
       "    .dataframe tbody tr th {\n",
       "        vertical-align: top;\n",
       "    }\n",
       "\n",
       "    .dataframe thead th {\n",
       "        text-align: right;\n",
       "    }\n",
       "</style>\n",
       "<table border=\"1\" class=\"dataframe\">\n",
       "  <thead>\n",
       "    <tr style=\"text-align: right;\">\n",
       "      <th></th>\n",
       "      <th>total_images</th>\n",
       "      <th>last_price</th>\n",
       "      <th>total_area</th>\n",
       "      <th>first_day_exposition</th>\n",
       "      <th>rooms</th>\n",
       "      <th>ceiling_height</th>\n",
       "      <th>floors_total</th>\n",
       "      <th>living_area</th>\n",
       "      <th>floor</th>\n",
       "      <th>is_apartment</th>\n",
       "      <th>...</th>\n",
       "      <th>locality_name</th>\n",
       "      <th>airports_nearest</th>\n",
       "      <th>cityCenters_nearest</th>\n",
       "      <th>parks_around3000</th>\n",
       "      <th>parks_nearest</th>\n",
       "      <th>ponds_around3000</th>\n",
       "      <th>ponds_nearest</th>\n",
       "      <th>days_exposition</th>\n",
       "      <th>sold</th>\n",
       "      <th>1m_price</th>\n",
       "    </tr>\n",
       "  </thead>\n",
       "  <tbody>\n",
       "    <tr>\n",
       "      <th>0</th>\n",
       "      <td>20</td>\n",
       "      <td>13000000.0</td>\n",
       "      <td>108.0</td>\n",
       "      <td>2019-03-07</td>\n",
       "      <td>3</td>\n",
       "      <td>2.70</td>\n",
       "      <td>16</td>\n",
       "      <td>51.0</td>\n",
       "      <td>8</td>\n",
       "      <td>False</td>\n",
       "      <td>...</td>\n",
       "      <td>санкт-петербург</td>\n",
       "      <td>18863.0</td>\n",
       "      <td>16028.0</td>\n",
       "      <td>1</td>\n",
       "      <td>482.0</td>\n",
       "      <td>2</td>\n",
       "      <td>755.0</td>\n",
       "      <td>1505</td>\n",
       "      <td>False</td>\n",
       "      <td>120370.370370</td>\n",
       "    </tr>\n",
       "    <tr>\n",
       "      <th>1</th>\n",
       "      <td>7</td>\n",
       "      <td>3350000.0</td>\n",
       "      <td>40.4</td>\n",
       "      <td>2018-12-04</td>\n",
       "      <td>1</td>\n",
       "      <td>2.65</td>\n",
       "      <td>11</td>\n",
       "      <td>18.6</td>\n",
       "      <td>1</td>\n",
       "      <td>False</td>\n",
       "      <td>...</td>\n",
       "      <td>поселок шушары</td>\n",
       "      <td>12817.0</td>\n",
       "      <td>18603.0</td>\n",
       "      <td>0</td>\n",
       "      <td>NaN</td>\n",
       "      <td>0</td>\n",
       "      <td>NaN</td>\n",
       "      <td>81</td>\n",
       "      <td>True</td>\n",
       "      <td>82920.792079</td>\n",
       "    </tr>\n",
       "    <tr>\n",
       "      <th>2</th>\n",
       "      <td>10</td>\n",
       "      <td>5196000.0</td>\n",
       "      <td>56.0</td>\n",
       "      <td>2015-08-20</td>\n",
       "      <td>2</td>\n",
       "      <td>2.65</td>\n",
       "      <td>5</td>\n",
       "      <td>34.3</td>\n",
       "      <td>4</td>\n",
       "      <td>False</td>\n",
       "      <td>...</td>\n",
       "      <td>санкт-петербург</td>\n",
       "      <td>21741.0</td>\n",
       "      <td>13933.0</td>\n",
       "      <td>1</td>\n",
       "      <td>90.0</td>\n",
       "      <td>2</td>\n",
       "      <td>574.0</td>\n",
       "      <td>558</td>\n",
       "      <td>True</td>\n",
       "      <td>92785.714286</td>\n",
       "    </tr>\n",
       "    <tr>\n",
       "      <th>3</th>\n",
       "      <td>0</td>\n",
       "      <td>64900000.0</td>\n",
       "      <td>159.0</td>\n",
       "      <td>2015-07-24</td>\n",
       "      <td>3</td>\n",
       "      <td>2.65</td>\n",
       "      <td>14</td>\n",
       "      <td>NaN</td>\n",
       "      <td>9</td>\n",
       "      <td>False</td>\n",
       "      <td>...</td>\n",
       "      <td>санкт-петербург</td>\n",
       "      <td>28098.0</td>\n",
       "      <td>6800.0</td>\n",
       "      <td>2</td>\n",
       "      <td>84.0</td>\n",
       "      <td>3</td>\n",
       "      <td>234.0</td>\n",
       "      <td>424</td>\n",
       "      <td>True</td>\n",
       "      <td>408176.100629</td>\n",
       "    </tr>\n",
       "    <tr>\n",
       "      <th>4</th>\n",
       "      <td>2</td>\n",
       "      <td>10000000.0</td>\n",
       "      <td>100.0</td>\n",
       "      <td>2018-06-19</td>\n",
       "      <td>2</td>\n",
       "      <td>3.03</td>\n",
       "      <td>14</td>\n",
       "      <td>32.0</td>\n",
       "      <td>13</td>\n",
       "      <td>False</td>\n",
       "      <td>...</td>\n",
       "      <td>санкт-петербург</td>\n",
       "      <td>31856.0</td>\n",
       "      <td>8098.0</td>\n",
       "      <td>2</td>\n",
       "      <td>112.0</td>\n",
       "      <td>1</td>\n",
       "      <td>48.0</td>\n",
       "      <td>121</td>\n",
       "      <td>True</td>\n",
       "      <td>100000.000000</td>\n",
       "    </tr>\n",
       "  </tbody>\n",
       "</table>\n",
       "<p>5 rows × 24 columns</p>\n",
       "</div>"
      ],
      "text/plain": [
       "   total_images  last_price  total_area first_day_exposition  rooms  \\\n",
       "0            20  13000000.0       108.0           2019-03-07      3   \n",
       "1             7   3350000.0        40.4           2018-12-04      1   \n",
       "2            10   5196000.0        56.0           2015-08-20      2   \n",
       "3             0  64900000.0       159.0           2015-07-24      3   \n",
       "4             2  10000000.0       100.0           2018-06-19      2   \n",
       "\n",
       "   ceiling_height  floors_total  living_area  floor  is_apartment  ...  \\\n",
       "0            2.70            16         51.0      8         False  ...   \n",
       "1            2.65            11         18.6      1         False  ...   \n",
       "2            2.65             5         34.3      4         False  ...   \n",
       "3            2.65            14          NaN      9         False  ...   \n",
       "4            3.03            14         32.0     13         False  ...   \n",
       "\n",
       "     locality_name  airports_nearest  cityCenters_nearest  parks_around3000  \\\n",
       "0  санкт-петербург           18863.0              16028.0                 1   \n",
       "1   поселок шушары           12817.0              18603.0                 0   \n",
       "2  санкт-петербург           21741.0              13933.0                 1   \n",
       "3  санкт-петербург           28098.0               6800.0                 2   \n",
       "4  санкт-петербург           31856.0               8098.0                 2   \n",
       "\n",
       "  parks_nearest  ponds_around3000  ponds_nearest  days_exposition   sold  \\\n",
       "0         482.0                 2          755.0             1505  False   \n",
       "1           NaN                 0            NaN               81   True   \n",
       "2          90.0                 2          574.0              558   True   \n",
       "3          84.0                 3          234.0              424   True   \n",
       "4         112.0                 1           48.0              121   True   \n",
       "\n",
       "        1m_price  \n",
       "0  120370.370370  \n",
       "1   82920.792079  \n",
       "2   92785.714286  \n",
       "3  408176.100629  \n",
       "4  100000.000000  \n",
       "\n",
       "[5 rows x 24 columns]"
      ]
     },
     "metadata": {},
     "output_type": "display_data"
    }
   ],
   "source": [
    "display(data.head())"
   ]
  },
  {
   "cell_type": "markdown",
   "metadata": {},
   "source": [
    "#### Добавим столбец с днем публикации обьявления `ad_day_of_week`"
   ]
  },
  {
   "cell_type": "code",
   "execution_count": 58,
   "metadata": {},
   "outputs": [
    {
     "data": {
      "text/html": [
       "<div>\n",
       "<style scoped>\n",
       "    .dataframe tbody tr th:only-of-type {\n",
       "        vertical-align: middle;\n",
       "    }\n",
       "\n",
       "    .dataframe tbody tr th {\n",
       "        vertical-align: top;\n",
       "    }\n",
       "\n",
       "    .dataframe thead th {\n",
       "        text-align: right;\n",
       "    }\n",
       "</style>\n",
       "<table border=\"1\" class=\"dataframe\">\n",
       "  <thead>\n",
       "    <tr style=\"text-align: right;\">\n",
       "      <th></th>\n",
       "      <th>total_images</th>\n",
       "      <th>last_price</th>\n",
       "      <th>total_area</th>\n",
       "      <th>first_day_exposition</th>\n",
       "      <th>rooms</th>\n",
       "      <th>ceiling_height</th>\n",
       "      <th>floors_total</th>\n",
       "      <th>living_area</th>\n",
       "      <th>floor</th>\n",
       "      <th>is_apartment</th>\n",
       "      <th>...</th>\n",
       "      <th>airports_nearest</th>\n",
       "      <th>cityCenters_nearest</th>\n",
       "      <th>parks_around3000</th>\n",
       "      <th>parks_nearest</th>\n",
       "      <th>ponds_around3000</th>\n",
       "      <th>ponds_nearest</th>\n",
       "      <th>days_exposition</th>\n",
       "      <th>sold</th>\n",
       "      <th>1m_price</th>\n",
       "      <th>ad_day_of_week</th>\n",
       "    </tr>\n",
       "  </thead>\n",
       "  <tbody>\n",
       "    <tr>\n",
       "      <th>0</th>\n",
       "      <td>20</td>\n",
       "      <td>13000000.0</td>\n",
       "      <td>108.0</td>\n",
       "      <td>2019-03-07</td>\n",
       "      <td>3</td>\n",
       "      <td>2.70</td>\n",
       "      <td>16</td>\n",
       "      <td>51.0</td>\n",
       "      <td>8</td>\n",
       "      <td>False</td>\n",
       "      <td>...</td>\n",
       "      <td>18863.0</td>\n",
       "      <td>16028.0</td>\n",
       "      <td>1</td>\n",
       "      <td>482.0</td>\n",
       "      <td>2</td>\n",
       "      <td>755.0</td>\n",
       "      <td>1505</td>\n",
       "      <td>False</td>\n",
       "      <td>120370.370370</td>\n",
       "      <td>3</td>\n",
       "    </tr>\n",
       "    <tr>\n",
       "      <th>1</th>\n",
       "      <td>7</td>\n",
       "      <td>3350000.0</td>\n",
       "      <td>40.4</td>\n",
       "      <td>2018-12-04</td>\n",
       "      <td>1</td>\n",
       "      <td>2.65</td>\n",
       "      <td>11</td>\n",
       "      <td>18.6</td>\n",
       "      <td>1</td>\n",
       "      <td>False</td>\n",
       "      <td>...</td>\n",
       "      <td>12817.0</td>\n",
       "      <td>18603.0</td>\n",
       "      <td>0</td>\n",
       "      <td>NaN</td>\n",
       "      <td>0</td>\n",
       "      <td>NaN</td>\n",
       "      <td>81</td>\n",
       "      <td>True</td>\n",
       "      <td>82920.792079</td>\n",
       "      <td>1</td>\n",
       "    </tr>\n",
       "    <tr>\n",
       "      <th>2</th>\n",
       "      <td>10</td>\n",
       "      <td>5196000.0</td>\n",
       "      <td>56.0</td>\n",
       "      <td>2015-08-20</td>\n",
       "      <td>2</td>\n",
       "      <td>2.65</td>\n",
       "      <td>5</td>\n",
       "      <td>34.3</td>\n",
       "      <td>4</td>\n",
       "      <td>False</td>\n",
       "      <td>...</td>\n",
       "      <td>21741.0</td>\n",
       "      <td>13933.0</td>\n",
       "      <td>1</td>\n",
       "      <td>90.0</td>\n",
       "      <td>2</td>\n",
       "      <td>574.0</td>\n",
       "      <td>558</td>\n",
       "      <td>True</td>\n",
       "      <td>92785.714286</td>\n",
       "      <td>3</td>\n",
       "    </tr>\n",
       "    <tr>\n",
       "      <th>3</th>\n",
       "      <td>0</td>\n",
       "      <td>64900000.0</td>\n",
       "      <td>159.0</td>\n",
       "      <td>2015-07-24</td>\n",
       "      <td>3</td>\n",
       "      <td>2.65</td>\n",
       "      <td>14</td>\n",
       "      <td>NaN</td>\n",
       "      <td>9</td>\n",
       "      <td>False</td>\n",
       "      <td>...</td>\n",
       "      <td>28098.0</td>\n",
       "      <td>6800.0</td>\n",
       "      <td>2</td>\n",
       "      <td>84.0</td>\n",
       "      <td>3</td>\n",
       "      <td>234.0</td>\n",
       "      <td>424</td>\n",
       "      <td>True</td>\n",
       "      <td>408176.100629</td>\n",
       "      <td>4</td>\n",
       "    </tr>\n",
       "    <tr>\n",
       "      <th>4</th>\n",
       "      <td>2</td>\n",
       "      <td>10000000.0</td>\n",
       "      <td>100.0</td>\n",
       "      <td>2018-06-19</td>\n",
       "      <td>2</td>\n",
       "      <td>3.03</td>\n",
       "      <td>14</td>\n",
       "      <td>32.0</td>\n",
       "      <td>13</td>\n",
       "      <td>False</td>\n",
       "      <td>...</td>\n",
       "      <td>31856.0</td>\n",
       "      <td>8098.0</td>\n",
       "      <td>2</td>\n",
       "      <td>112.0</td>\n",
       "      <td>1</td>\n",
       "      <td>48.0</td>\n",
       "      <td>121</td>\n",
       "      <td>True</td>\n",
       "      <td>100000.000000</td>\n",
       "      <td>1</td>\n",
       "    </tr>\n",
       "  </tbody>\n",
       "</table>\n",
       "<p>5 rows × 25 columns</p>\n",
       "</div>"
      ],
      "text/plain": [
       "   total_images  last_price  total_area first_day_exposition  rooms  \\\n",
       "0            20  13000000.0       108.0           2019-03-07      3   \n",
       "1             7   3350000.0        40.4           2018-12-04      1   \n",
       "2            10   5196000.0        56.0           2015-08-20      2   \n",
       "3             0  64900000.0       159.0           2015-07-24      3   \n",
       "4             2  10000000.0       100.0           2018-06-19      2   \n",
       "\n",
       "   ceiling_height  floors_total  living_area  floor  is_apartment  ...  \\\n",
       "0            2.70            16         51.0      8         False  ...   \n",
       "1            2.65            11         18.6      1         False  ...   \n",
       "2            2.65             5         34.3      4         False  ...   \n",
       "3            2.65            14          NaN      9         False  ...   \n",
       "4            3.03            14         32.0     13         False  ...   \n",
       "\n",
       "   airports_nearest  cityCenters_nearest  parks_around3000  parks_nearest  \\\n",
       "0           18863.0              16028.0                 1          482.0   \n",
       "1           12817.0              18603.0                 0            NaN   \n",
       "2           21741.0              13933.0                 1           90.0   \n",
       "3           28098.0               6800.0                 2           84.0   \n",
       "4           31856.0               8098.0                 2          112.0   \n",
       "\n",
       "  ponds_around3000  ponds_nearest  days_exposition   sold       1m_price  \\\n",
       "0                2          755.0             1505  False  120370.370370   \n",
       "1                0            NaN               81   True   82920.792079   \n",
       "2                2          574.0              558   True   92785.714286   \n",
       "3                3          234.0              424   True  408176.100629   \n",
       "4                1           48.0              121   True  100000.000000   \n",
       "\n",
       "   ad_day_of_week  \n",
       "0               3  \n",
       "1               1  \n",
       "2               3  \n",
       "3               4  \n",
       "4               1  \n",
       "\n",
       "[5 rows x 25 columns]"
      ]
     },
     "metadata": {},
     "output_type": "display_data"
    }
   ],
   "source": [
    "data['ad_day_of_week'] = data['first_day_exposition'].dt.weekday\n",
    "display(data.head())"
   ]
  },
  {
   "cell_type": "markdown",
   "metadata": {},
   "source": [
    "##### Добавим столбец с месяцем и годом публикации обьявления `ad_month` и `ad_year`"
   ]
  },
  {
   "cell_type": "code",
   "execution_count": 59,
   "metadata": {},
   "outputs": [
    {
     "data": {
      "text/html": [
       "<div>\n",
       "<style scoped>\n",
       "    .dataframe tbody tr th:only-of-type {\n",
       "        vertical-align: middle;\n",
       "    }\n",
       "\n",
       "    .dataframe tbody tr th {\n",
       "        vertical-align: top;\n",
       "    }\n",
       "\n",
       "    .dataframe thead th {\n",
       "        text-align: right;\n",
       "    }\n",
       "</style>\n",
       "<table border=\"1\" class=\"dataframe\">\n",
       "  <thead>\n",
       "    <tr style=\"text-align: right;\">\n",
       "      <th></th>\n",
       "      <th>total_images</th>\n",
       "      <th>last_price</th>\n",
       "      <th>total_area</th>\n",
       "      <th>first_day_exposition</th>\n",
       "      <th>rooms</th>\n",
       "      <th>ceiling_height</th>\n",
       "      <th>floors_total</th>\n",
       "      <th>living_area</th>\n",
       "      <th>floor</th>\n",
       "      <th>is_apartment</th>\n",
       "      <th>...</th>\n",
       "      <th>parks_around3000</th>\n",
       "      <th>parks_nearest</th>\n",
       "      <th>ponds_around3000</th>\n",
       "      <th>ponds_nearest</th>\n",
       "      <th>days_exposition</th>\n",
       "      <th>sold</th>\n",
       "      <th>1m_price</th>\n",
       "      <th>ad_day_of_week</th>\n",
       "      <th>ad_month</th>\n",
       "      <th>ad_year</th>\n",
       "    </tr>\n",
       "  </thead>\n",
       "  <tbody>\n",
       "    <tr>\n",
       "      <th>0</th>\n",
       "      <td>20</td>\n",
       "      <td>13000000.0</td>\n",
       "      <td>108.0</td>\n",
       "      <td>2019-03-07</td>\n",
       "      <td>3</td>\n",
       "      <td>2.70</td>\n",
       "      <td>16</td>\n",
       "      <td>51.0</td>\n",
       "      <td>8</td>\n",
       "      <td>False</td>\n",
       "      <td>...</td>\n",
       "      <td>1</td>\n",
       "      <td>482.0</td>\n",
       "      <td>2</td>\n",
       "      <td>755.0</td>\n",
       "      <td>1505</td>\n",
       "      <td>False</td>\n",
       "      <td>120370.370370</td>\n",
       "      <td>3</td>\n",
       "      <td>3</td>\n",
       "      <td>2019</td>\n",
       "    </tr>\n",
       "    <tr>\n",
       "      <th>1</th>\n",
       "      <td>7</td>\n",
       "      <td>3350000.0</td>\n",
       "      <td>40.4</td>\n",
       "      <td>2018-12-04</td>\n",
       "      <td>1</td>\n",
       "      <td>2.65</td>\n",
       "      <td>11</td>\n",
       "      <td>18.6</td>\n",
       "      <td>1</td>\n",
       "      <td>False</td>\n",
       "      <td>...</td>\n",
       "      <td>0</td>\n",
       "      <td>NaN</td>\n",
       "      <td>0</td>\n",
       "      <td>NaN</td>\n",
       "      <td>81</td>\n",
       "      <td>True</td>\n",
       "      <td>82920.792079</td>\n",
       "      <td>1</td>\n",
       "      <td>12</td>\n",
       "      <td>2018</td>\n",
       "    </tr>\n",
       "    <tr>\n",
       "      <th>2</th>\n",
       "      <td>10</td>\n",
       "      <td>5196000.0</td>\n",
       "      <td>56.0</td>\n",
       "      <td>2015-08-20</td>\n",
       "      <td>2</td>\n",
       "      <td>2.65</td>\n",
       "      <td>5</td>\n",
       "      <td>34.3</td>\n",
       "      <td>4</td>\n",
       "      <td>False</td>\n",
       "      <td>...</td>\n",
       "      <td>1</td>\n",
       "      <td>90.0</td>\n",
       "      <td>2</td>\n",
       "      <td>574.0</td>\n",
       "      <td>558</td>\n",
       "      <td>True</td>\n",
       "      <td>92785.714286</td>\n",
       "      <td>3</td>\n",
       "      <td>8</td>\n",
       "      <td>2015</td>\n",
       "    </tr>\n",
       "    <tr>\n",
       "      <th>3</th>\n",
       "      <td>0</td>\n",
       "      <td>64900000.0</td>\n",
       "      <td>159.0</td>\n",
       "      <td>2015-07-24</td>\n",
       "      <td>3</td>\n",
       "      <td>2.65</td>\n",
       "      <td>14</td>\n",
       "      <td>NaN</td>\n",
       "      <td>9</td>\n",
       "      <td>False</td>\n",
       "      <td>...</td>\n",
       "      <td>2</td>\n",
       "      <td>84.0</td>\n",
       "      <td>3</td>\n",
       "      <td>234.0</td>\n",
       "      <td>424</td>\n",
       "      <td>True</td>\n",
       "      <td>408176.100629</td>\n",
       "      <td>4</td>\n",
       "      <td>7</td>\n",
       "      <td>2015</td>\n",
       "    </tr>\n",
       "    <tr>\n",
       "      <th>4</th>\n",
       "      <td>2</td>\n",
       "      <td>10000000.0</td>\n",
       "      <td>100.0</td>\n",
       "      <td>2018-06-19</td>\n",
       "      <td>2</td>\n",
       "      <td>3.03</td>\n",
       "      <td>14</td>\n",
       "      <td>32.0</td>\n",
       "      <td>13</td>\n",
       "      <td>False</td>\n",
       "      <td>...</td>\n",
       "      <td>2</td>\n",
       "      <td>112.0</td>\n",
       "      <td>1</td>\n",
       "      <td>48.0</td>\n",
       "      <td>121</td>\n",
       "      <td>True</td>\n",
       "      <td>100000.000000</td>\n",
       "      <td>1</td>\n",
       "      <td>6</td>\n",
       "      <td>2018</td>\n",
       "    </tr>\n",
       "  </tbody>\n",
       "</table>\n",
       "<p>5 rows × 27 columns</p>\n",
       "</div>"
      ],
      "text/plain": [
       "   total_images  last_price  total_area first_day_exposition  rooms  \\\n",
       "0            20  13000000.0       108.0           2019-03-07      3   \n",
       "1             7   3350000.0        40.4           2018-12-04      1   \n",
       "2            10   5196000.0        56.0           2015-08-20      2   \n",
       "3             0  64900000.0       159.0           2015-07-24      3   \n",
       "4             2  10000000.0       100.0           2018-06-19      2   \n",
       "\n",
       "   ceiling_height  floors_total  living_area  floor  is_apartment  ...  \\\n",
       "0            2.70            16         51.0      8         False  ...   \n",
       "1            2.65            11         18.6      1         False  ...   \n",
       "2            2.65             5         34.3      4         False  ...   \n",
       "3            2.65            14          NaN      9         False  ...   \n",
       "4            3.03            14         32.0     13         False  ...   \n",
       "\n",
       "   parks_around3000  parks_nearest  ponds_around3000  ponds_nearest  \\\n",
       "0                 1          482.0                 2          755.0   \n",
       "1                 0            NaN                 0            NaN   \n",
       "2                 1           90.0                 2          574.0   \n",
       "3                 2           84.0                 3          234.0   \n",
       "4                 2          112.0                 1           48.0   \n",
       "\n",
       "  days_exposition   sold       1m_price  ad_day_of_week  ad_month  ad_year  \n",
       "0            1505  False  120370.370370               3         3     2019  \n",
       "1              81   True   82920.792079               1        12     2018  \n",
       "2             558   True   92785.714286               3         8     2015  \n",
       "3             424   True  408176.100629               4         7     2015  \n",
       "4             121   True  100000.000000               1         6     2018  \n",
       "\n",
       "[5 rows x 27 columns]"
      ]
     },
     "metadata": {},
     "output_type": "display_data"
    }
   ],
   "source": [
    "data['ad_month'] = data['first_day_exposition'].dt.month\n",
    "data['ad_year'] = data['first_day_exposition'].dt.year\n",
    "display(data.head())"
   ]
  },
  {
   "cell_type": "markdown",
   "metadata": {},
   "source": [
    "#### Создадим функцию для столбца `floor_type` - будет 3 значения - <font color=blue>first, last , other </font>"
   ]
  },
  {
   "cell_type": "code",
   "execution_count": 60,
   "metadata": {},
   "outputs": [],
   "source": [
    "def floor_type(df):\n",
    "    if df['floor']==1:\n",
    "        return 'first'\n",
    "    elif df['floor']==df['floors_total']:\n",
    "        return 'last'\n",
    "    else:\n",
    "        return 'other'"
   ]
  },
  {
   "cell_type": "markdown",
   "metadata": {},
   "source": [
    "Создадим столбец, применив к датафрейму функцию `floor_type`"
   ]
  },
  {
   "cell_type": "code",
   "execution_count": 61,
   "metadata": {},
   "outputs": [
    {
     "data": {
      "text/html": [
       "<div>\n",
       "<style scoped>\n",
       "    .dataframe tbody tr th:only-of-type {\n",
       "        vertical-align: middle;\n",
       "    }\n",
       "\n",
       "    .dataframe tbody tr th {\n",
       "        vertical-align: top;\n",
       "    }\n",
       "\n",
       "    .dataframe thead th {\n",
       "        text-align: right;\n",
       "    }\n",
       "</style>\n",
       "<table border=\"1\" class=\"dataframe\">\n",
       "  <thead>\n",
       "    <tr style=\"text-align: right;\">\n",
       "      <th></th>\n",
       "      <th>total_images</th>\n",
       "      <th>last_price</th>\n",
       "      <th>total_area</th>\n",
       "      <th>first_day_exposition</th>\n",
       "      <th>rooms</th>\n",
       "      <th>ceiling_height</th>\n",
       "      <th>floors_total</th>\n",
       "      <th>living_area</th>\n",
       "      <th>floor</th>\n",
       "      <th>is_apartment</th>\n",
       "      <th>...</th>\n",
       "      <th>parks_nearest</th>\n",
       "      <th>ponds_around3000</th>\n",
       "      <th>ponds_nearest</th>\n",
       "      <th>days_exposition</th>\n",
       "      <th>sold</th>\n",
       "      <th>1m_price</th>\n",
       "      <th>ad_day_of_week</th>\n",
       "      <th>ad_month</th>\n",
       "      <th>ad_year</th>\n",
       "      <th>floor_type</th>\n",
       "    </tr>\n",
       "  </thead>\n",
       "  <tbody>\n",
       "    <tr>\n",
       "      <th>0</th>\n",
       "      <td>20</td>\n",
       "      <td>13000000.0</td>\n",
       "      <td>108.0</td>\n",
       "      <td>2019-03-07</td>\n",
       "      <td>3</td>\n",
       "      <td>2.70</td>\n",
       "      <td>16</td>\n",
       "      <td>51.0</td>\n",
       "      <td>8</td>\n",
       "      <td>False</td>\n",
       "      <td>...</td>\n",
       "      <td>482.0</td>\n",
       "      <td>2</td>\n",
       "      <td>755.0</td>\n",
       "      <td>1505</td>\n",
       "      <td>False</td>\n",
       "      <td>120370.370370</td>\n",
       "      <td>3</td>\n",
       "      <td>3</td>\n",
       "      <td>2019</td>\n",
       "      <td>other</td>\n",
       "    </tr>\n",
       "    <tr>\n",
       "      <th>1</th>\n",
       "      <td>7</td>\n",
       "      <td>3350000.0</td>\n",
       "      <td>40.4</td>\n",
       "      <td>2018-12-04</td>\n",
       "      <td>1</td>\n",
       "      <td>2.65</td>\n",
       "      <td>11</td>\n",
       "      <td>18.6</td>\n",
       "      <td>1</td>\n",
       "      <td>False</td>\n",
       "      <td>...</td>\n",
       "      <td>NaN</td>\n",
       "      <td>0</td>\n",
       "      <td>NaN</td>\n",
       "      <td>81</td>\n",
       "      <td>True</td>\n",
       "      <td>82920.792079</td>\n",
       "      <td>1</td>\n",
       "      <td>12</td>\n",
       "      <td>2018</td>\n",
       "      <td>first</td>\n",
       "    </tr>\n",
       "    <tr>\n",
       "      <th>2</th>\n",
       "      <td>10</td>\n",
       "      <td>5196000.0</td>\n",
       "      <td>56.0</td>\n",
       "      <td>2015-08-20</td>\n",
       "      <td>2</td>\n",
       "      <td>2.65</td>\n",
       "      <td>5</td>\n",
       "      <td>34.3</td>\n",
       "      <td>4</td>\n",
       "      <td>False</td>\n",
       "      <td>...</td>\n",
       "      <td>90.0</td>\n",
       "      <td>2</td>\n",
       "      <td>574.0</td>\n",
       "      <td>558</td>\n",
       "      <td>True</td>\n",
       "      <td>92785.714286</td>\n",
       "      <td>3</td>\n",
       "      <td>8</td>\n",
       "      <td>2015</td>\n",
       "      <td>other</td>\n",
       "    </tr>\n",
       "    <tr>\n",
       "      <th>3</th>\n",
       "      <td>0</td>\n",
       "      <td>64900000.0</td>\n",
       "      <td>159.0</td>\n",
       "      <td>2015-07-24</td>\n",
       "      <td>3</td>\n",
       "      <td>2.65</td>\n",
       "      <td>14</td>\n",
       "      <td>NaN</td>\n",
       "      <td>9</td>\n",
       "      <td>False</td>\n",
       "      <td>...</td>\n",
       "      <td>84.0</td>\n",
       "      <td>3</td>\n",
       "      <td>234.0</td>\n",
       "      <td>424</td>\n",
       "      <td>True</td>\n",
       "      <td>408176.100629</td>\n",
       "      <td>4</td>\n",
       "      <td>7</td>\n",
       "      <td>2015</td>\n",
       "      <td>other</td>\n",
       "    </tr>\n",
       "    <tr>\n",
       "      <th>4</th>\n",
       "      <td>2</td>\n",
       "      <td>10000000.0</td>\n",
       "      <td>100.0</td>\n",
       "      <td>2018-06-19</td>\n",
       "      <td>2</td>\n",
       "      <td>3.03</td>\n",
       "      <td>14</td>\n",
       "      <td>32.0</td>\n",
       "      <td>13</td>\n",
       "      <td>False</td>\n",
       "      <td>...</td>\n",
       "      <td>112.0</td>\n",
       "      <td>1</td>\n",
       "      <td>48.0</td>\n",
       "      <td>121</td>\n",
       "      <td>True</td>\n",
       "      <td>100000.000000</td>\n",
       "      <td>1</td>\n",
       "      <td>6</td>\n",
       "      <td>2018</td>\n",
       "      <td>other</td>\n",
       "    </tr>\n",
       "  </tbody>\n",
       "</table>\n",
       "<p>5 rows × 28 columns</p>\n",
       "</div>"
      ],
      "text/plain": [
       "   total_images  last_price  total_area first_day_exposition  rooms  \\\n",
       "0            20  13000000.0       108.0           2019-03-07      3   \n",
       "1             7   3350000.0        40.4           2018-12-04      1   \n",
       "2            10   5196000.0        56.0           2015-08-20      2   \n",
       "3             0  64900000.0       159.0           2015-07-24      3   \n",
       "4             2  10000000.0       100.0           2018-06-19      2   \n",
       "\n",
       "   ceiling_height  floors_total  living_area  floor  is_apartment  ...  \\\n",
       "0            2.70            16         51.0      8         False  ...   \n",
       "1            2.65            11         18.6      1         False  ...   \n",
       "2            2.65             5         34.3      4         False  ...   \n",
       "3            2.65            14          NaN      9         False  ...   \n",
       "4            3.03            14         32.0     13         False  ...   \n",
       "\n",
       "   parks_nearest  ponds_around3000  ponds_nearest  days_exposition   sold  \\\n",
       "0          482.0                 2          755.0             1505  False   \n",
       "1            NaN                 0            NaN               81   True   \n",
       "2           90.0                 2          574.0              558   True   \n",
       "3           84.0                 3          234.0              424   True   \n",
       "4          112.0                 1           48.0              121   True   \n",
       "\n",
       "        1m_price  ad_day_of_week  ad_month  ad_year  floor_type  \n",
       "0  120370.370370               3         3     2019       other  \n",
       "1   82920.792079               1        12     2018       first  \n",
       "2   92785.714286               3         8     2015       other  \n",
       "3  408176.100629               4         7     2015       other  \n",
       "4  100000.000000               1         6     2018       other  \n",
       "\n",
       "[5 rows x 28 columns]"
      ]
     },
     "metadata": {},
     "output_type": "display_data"
    }
   ],
   "source": [
    "data['floor_type']=data.apply(floor_type,axis=1)\n",
    "display(data.head())"
   ]
  },
  {
   "cell_type": "markdown",
   "metadata": {},
   "source": [
    "#### Создадим столбец `cityCenters_nearest_km` для расчета целого расстояния до центра в километрах"
   ]
  },
  {
   "cell_type": "code",
   "execution_count": 62,
   "metadata": {},
   "outputs": [
    {
     "data": {
      "text/html": [
       "<div>\n",
       "<style scoped>\n",
       "    .dataframe tbody tr th:only-of-type {\n",
       "        vertical-align: middle;\n",
       "    }\n",
       "\n",
       "    .dataframe tbody tr th {\n",
       "        vertical-align: top;\n",
       "    }\n",
       "\n",
       "    .dataframe thead th {\n",
       "        text-align: right;\n",
       "    }\n",
       "</style>\n",
       "<table border=\"1\" class=\"dataframe\">\n",
       "  <thead>\n",
       "    <tr style=\"text-align: right;\">\n",
       "      <th></th>\n",
       "      <th>total_images</th>\n",
       "      <th>last_price</th>\n",
       "      <th>total_area</th>\n",
       "      <th>first_day_exposition</th>\n",
       "      <th>rooms</th>\n",
       "      <th>ceiling_height</th>\n",
       "      <th>floors_total</th>\n",
       "      <th>living_area</th>\n",
       "      <th>floor</th>\n",
       "      <th>is_apartment</th>\n",
       "      <th>...</th>\n",
       "      <th>ponds_around3000</th>\n",
       "      <th>ponds_nearest</th>\n",
       "      <th>days_exposition</th>\n",
       "      <th>sold</th>\n",
       "      <th>1m_price</th>\n",
       "      <th>ad_day_of_week</th>\n",
       "      <th>ad_month</th>\n",
       "      <th>ad_year</th>\n",
       "      <th>floor_type</th>\n",
       "      <th>cityCenters_nearest_km</th>\n",
       "    </tr>\n",
       "  </thead>\n",
       "  <tbody>\n",
       "    <tr>\n",
       "      <th>0</th>\n",
       "      <td>20</td>\n",
       "      <td>13000000.0</td>\n",
       "      <td>108.0</td>\n",
       "      <td>2019-03-07</td>\n",
       "      <td>3</td>\n",
       "      <td>2.70</td>\n",
       "      <td>16</td>\n",
       "      <td>51.0</td>\n",
       "      <td>8</td>\n",
       "      <td>False</td>\n",
       "      <td>...</td>\n",
       "      <td>2</td>\n",
       "      <td>755.0</td>\n",
       "      <td>1505</td>\n",
       "      <td>False</td>\n",
       "      <td>120370.370370</td>\n",
       "      <td>3</td>\n",
       "      <td>3</td>\n",
       "      <td>2019</td>\n",
       "      <td>other</td>\n",
       "      <td>16.0</td>\n",
       "    </tr>\n",
       "    <tr>\n",
       "      <th>1</th>\n",
       "      <td>7</td>\n",
       "      <td>3350000.0</td>\n",
       "      <td>40.4</td>\n",
       "      <td>2018-12-04</td>\n",
       "      <td>1</td>\n",
       "      <td>2.65</td>\n",
       "      <td>11</td>\n",
       "      <td>18.6</td>\n",
       "      <td>1</td>\n",
       "      <td>False</td>\n",
       "      <td>...</td>\n",
       "      <td>0</td>\n",
       "      <td>NaN</td>\n",
       "      <td>81</td>\n",
       "      <td>True</td>\n",
       "      <td>82920.792079</td>\n",
       "      <td>1</td>\n",
       "      <td>12</td>\n",
       "      <td>2018</td>\n",
       "      <td>first</td>\n",
       "      <td>19.0</td>\n",
       "    </tr>\n",
       "    <tr>\n",
       "      <th>2</th>\n",
       "      <td>10</td>\n",
       "      <td>5196000.0</td>\n",
       "      <td>56.0</td>\n",
       "      <td>2015-08-20</td>\n",
       "      <td>2</td>\n",
       "      <td>2.65</td>\n",
       "      <td>5</td>\n",
       "      <td>34.3</td>\n",
       "      <td>4</td>\n",
       "      <td>False</td>\n",
       "      <td>...</td>\n",
       "      <td>2</td>\n",
       "      <td>574.0</td>\n",
       "      <td>558</td>\n",
       "      <td>True</td>\n",
       "      <td>92785.714286</td>\n",
       "      <td>3</td>\n",
       "      <td>8</td>\n",
       "      <td>2015</td>\n",
       "      <td>other</td>\n",
       "      <td>14.0</td>\n",
       "    </tr>\n",
       "    <tr>\n",
       "      <th>3</th>\n",
       "      <td>0</td>\n",
       "      <td>64900000.0</td>\n",
       "      <td>159.0</td>\n",
       "      <td>2015-07-24</td>\n",
       "      <td>3</td>\n",
       "      <td>2.65</td>\n",
       "      <td>14</td>\n",
       "      <td>NaN</td>\n",
       "      <td>9</td>\n",
       "      <td>False</td>\n",
       "      <td>...</td>\n",
       "      <td>3</td>\n",
       "      <td>234.0</td>\n",
       "      <td>424</td>\n",
       "      <td>True</td>\n",
       "      <td>408176.100629</td>\n",
       "      <td>4</td>\n",
       "      <td>7</td>\n",
       "      <td>2015</td>\n",
       "      <td>other</td>\n",
       "      <td>7.0</td>\n",
       "    </tr>\n",
       "    <tr>\n",
       "      <th>4</th>\n",
       "      <td>2</td>\n",
       "      <td>10000000.0</td>\n",
       "      <td>100.0</td>\n",
       "      <td>2018-06-19</td>\n",
       "      <td>2</td>\n",
       "      <td>3.03</td>\n",
       "      <td>14</td>\n",
       "      <td>32.0</td>\n",
       "      <td>13</td>\n",
       "      <td>False</td>\n",
       "      <td>...</td>\n",
       "      <td>1</td>\n",
       "      <td>48.0</td>\n",
       "      <td>121</td>\n",
       "      <td>True</td>\n",
       "      <td>100000.000000</td>\n",
       "      <td>1</td>\n",
       "      <td>6</td>\n",
       "      <td>2018</td>\n",
       "      <td>other</td>\n",
       "      <td>8.0</td>\n",
       "    </tr>\n",
       "  </tbody>\n",
       "</table>\n",
       "<p>5 rows × 29 columns</p>\n",
       "</div>"
      ],
      "text/plain": [
       "   total_images  last_price  total_area first_day_exposition  rooms  \\\n",
       "0            20  13000000.0       108.0           2019-03-07      3   \n",
       "1             7   3350000.0        40.4           2018-12-04      1   \n",
       "2            10   5196000.0        56.0           2015-08-20      2   \n",
       "3             0  64900000.0       159.0           2015-07-24      3   \n",
       "4             2  10000000.0       100.0           2018-06-19      2   \n",
       "\n",
       "   ceiling_height  floors_total  living_area  floor  is_apartment  ...  \\\n",
       "0            2.70            16         51.0      8         False  ...   \n",
       "1            2.65            11         18.6      1         False  ...   \n",
       "2            2.65             5         34.3      4         False  ...   \n",
       "3            2.65            14          NaN      9         False  ...   \n",
       "4            3.03            14         32.0     13         False  ...   \n",
       "\n",
       "   ponds_around3000  ponds_nearest  days_exposition   sold       1m_price  \\\n",
       "0                 2          755.0             1505  False  120370.370370   \n",
       "1                 0            NaN               81   True   82920.792079   \n",
       "2                 2          574.0              558   True   92785.714286   \n",
       "3                 3          234.0              424   True  408176.100629   \n",
       "4                 1           48.0              121   True  100000.000000   \n",
       "\n",
       "   ad_day_of_week  ad_month  ad_year  floor_type  cityCenters_nearest_km  \n",
       "0               3         3     2019       other                    16.0  \n",
       "1               1        12     2018       first                    19.0  \n",
       "2               3         8     2015       other                    14.0  \n",
       "3               4         7     2015       other                     7.0  \n",
       "4               1         6     2018       other                     8.0  \n",
       "\n",
       "[5 rows x 29 columns]"
      ]
     },
     "metadata": {},
     "output_type": "display_data"
    }
   ],
   "source": [
    "data['cityCenters_nearest_km'] = (data['cityCenters_nearest']/1000).round()\n",
    "display(data.head())"
   ]
  },
  {
   "cell_type": "markdown",
   "metadata": {},
   "source": [
    "В итоге мы добавили следующие столбцы, которые пригодятся в дальнейшем исследовании - \n",
    "- `cityCenters_nearest_km` - расстояние до центра в километрах\n",
    "- `floor_type` - тип этажа (первый, последний, другой)\n",
    "- `ad_month` - месяц размещения обьявления\n",
    "- `ad_day_of_week` - день недели (от 0 до 6) размещения обьявления\n",
    "- `ad_year` - год размещения объявления\n",
    "- `1m_price` - цена за 1 кв.м."
   ]
  },
  {
   "cell_type": "markdown",
   "metadata": {},
   "source": [
    "### Проведите исследовательский анализ данных"
   ]
  },
  {
   "cell_type": "markdown",
   "metadata": {},
   "source": [
    "#### Изучим параметры объектов"
   ]
  },
  {
   "cell_type": "markdown",
   "metadata": {},
   "source": [
    "##### Посмотрим на параметры еще раз, начнем с Общей площади - `total_area`"
   ]
  },
  {
   "cell_type": "code",
   "execution_count": 63,
   "metadata": {},
   "outputs": [
    {
     "data": {
      "text/plain": [
       "count    23603.000000\n",
       "mean        60.346746\n",
       "std         35.654465\n",
       "min         12.000000\n",
       "25%         40.000000\n",
       "50%         52.000000\n",
       "75%         69.800000\n",
       "max        900.000000\n",
       "Name: total_area, dtype: float64"
      ]
     },
     "execution_count": 63,
     "metadata": {},
     "output_type": "execute_result"
    },
    {
     "data": {
      "image/png": "[encoded data removed]",
      "text/plain": [
       "<Figure size 1440x720 with 1 Axes>"
      ]
     },
     "metadata": {
      "needs_background": "light"
     },
     "output_type": "display_data"
    }
   ],
   "source": [
    "ax = (\n",
    "    data['total_area']\n",
    "    .hist(bins=100, range=(20, 125), figsize=(20,10))\n",
    "    .set(title = 'Гистограмма площадей квартир', xlabel = 'Площадь, м2', ylabel = 'Кол-во квартир')\n",
    "    )\n",
    "data['total_area'].describe()"
   ]
  },
  {
   "cell_type": "markdown",
   "metadata": {},
   "source": [
    "Как мы видим, основная масса обьявления приходится <b>на квартиры общей площадью от 30 до 70 кв.м.</b>\n",
    "\n",
    "\n",
    "<b>Самые популярные площади квартиры</b> с площадью - 30, 42, 44, 61, 63 и 80 кв. м"
   ]
  },
  {
   "cell_type": "markdown",
   "metadata": {},
   "source": [
    "##### Параметр - жилая площадь - `living_area`"
   ]
  },
  {
   "cell_type": "code",
   "execution_count": 64,
   "metadata": {},
   "outputs": [
    {
     "data": {
      "text/plain": [
       "count    21733.000000\n",
       "mean        34.467421\n",
       "std         22.040627\n",
       "min          2.000000\n",
       "25%         18.600000\n",
       "50%         30.000000\n",
       "75%         42.300000\n",
       "max        409.700000\n",
       "Name: living_area, dtype: float64"
      ]
     },
     "execution_count": 64,
     "metadata": {},
     "output_type": "execute_result"
    },
    {
     "data": {
      "image/png": "[encoded data removed]",
      "text/plain": [
       "<Figure size 1440x720 with 1 Axes>"
      ]
     },
     "metadata": {
      "needs_background": "light"
     },
     "output_type": "display_data"
    }
   ],
   "source": [
    "ax = (\n",
    "    data['living_area']\n",
    "    .hist(bins=100, range=(0, 100), figsize=(20,10))\n",
    "    .set(title = 'Гистограмма жилой площади квартир', xlabel = 'Жилая площадь, м2',xlim=10, ylabel = 'Кол-во квартир')\n",
    "    )\n",
    "data['living_area'].describe()"
   ]
  },
  {
   "cell_type": "markdown",
   "metadata": {},
   "source": [
    "Жилая площадь заведомо меньше Общей площади. Судя по гистограмме - <b>самые популярные обьявления с жилой площадью от 18 до 42 кв.м. </b>\n",
    "\n",
    "Самая популярная жилая площадь, встречающаяся в обьявлениях - 18-19 кв.м., 30 кв.м., 44 кв.м, 61кв.м"
   ]
  },
  {
   "cell_type": "markdown",
   "metadata": {},
   "source": [
    "##### Параметр - площадь кухни - `kitchen_area`"
   ]
  },
  {
   "cell_type": "code",
   "execution_count": 65,
   "metadata": {},
   "outputs": [
    {
     "data": {
      "text/plain": [
       "count    21374.000000\n",
       "mean        10.564936\n",
       "std          5.905188\n",
       "min          1.300000\n",
       "25%          7.000000\n",
       "50%          9.100000\n",
       "75%         12.000000\n",
       "max        112.000000\n",
       "Name: kitchen_area, dtype: float64"
      ]
     },
     "execution_count": 65,
     "metadata": {},
     "output_type": "execute_result"
    },
    {
     "data": {
      "image/png": "[encoded data removed]",
      "text/plain": [
       "<Figure size 1440x720 with 1 Axes>"
      ]
     },
     "metadata": {
      "needs_background": "light"
     },
     "output_type": "display_data"
    }
   ],
   "source": [
    "ax = (\n",
    "    data['kitchen_area']\n",
    "    .hist(bins=50, range=(0, 50), figsize=(20,10))\n",
    "    .set(title = 'Гистограмма площади кухни', xlabel = 'Площадь кухни, м2', xlim=5,ylabel = 'Кол-во квартир')\n",
    "    )\n",
    "data['kitchen_area'].describe()"
   ]
  },
  {
   "cell_type": "markdown",
   "metadata": {},
   "source": [
    "Самая <b>популярная площадь кухни от 7,5 до 12 кв.м. </b>\n",
    "\n",
    "<font color=blue>Самые часто встречающиеся площади кухни в обьявлениях - 7,9,11 кв.м. </font>"
   ]
  },
  {
   "cell_type": "markdown",
   "metadata": {},
   "source": [
    "##### Параметр - цена объекта - `last_price`\n",
    "Для корректного отображения гистограммы - создадим столбец `last_price_million` и укажем цену в млн. руб."
   ]
  },
  {
   "cell_type": "code",
   "execution_count": 66,
   "metadata": {},
   "outputs": [
    {
     "data": {
      "text/plain": [
       "count    23603.000000\n",
       "mean         6.540975\n",
       "std         10.903769\n",
       "min          0.012190\n",
       "25%          3.400000\n",
       "50%          4.650000\n",
       "75%          6.799000\n",
       "max        763.000000\n",
       "Name: last_price_million, dtype: float64"
      ]
     },
     "execution_count": 66,
     "metadata": {},
     "output_type": "execute_result"
    },
    {
     "data": {
      "image/png": "[encoded data removed]",
      "text/plain": [
       "<Figure size 1440x720 with 1 Axes>"
      ]
     },
     "metadata": {
      "needs_background": "light"
     },
     "output_type": "display_data"
    }
   ],
   "source": [
    "data['last_price_million'] = data['last_price']/10**6\n",
    "ax = (\n",
    "    data['last_price_million'].hist(bins=100,range=(0,50),figsize=(20,10))\n",
    "    .set(title = 'Гистограмма цены объекта', xlabel = 'Цена, млн.руб.',ylabel = 'Кол-во квартир')\n",
    ")\n",
    "data['last_price_million'].describe()"
   ]
  },
  {
   "cell_type": "markdown",
   "metadata": {},
   "source": [
    "Посчитаем количество квартир стоимостью более 200 млн.рублей"
   ]
  },
  {
   "cell_type": "code",
   "execution_count": 67,
   "metadata": {},
   "outputs": [
    {
     "name": "stdout",
     "output_type": "stream",
     "text": [
      "9\n",
      "0.03813074609159853\n"
     ]
    }
   ],
   "source": [
    "print(data[data['last_price_million']>200]['last_price_million'].count())\n",
    "print(100*data[data['last_price_million']>200]['last_price_million'].count()/data['last_price'].count())"
   ]
  },
  {
   "cell_type": "markdown",
   "metadata": {},
   "source": [
    "Мы получили 9 квартир, что составляет порядка 0.04 процентов от всей выборки. \n",
    "\n",
    "Будем считать их за выбросы и удалим их."
   ]
  },
  {
   "cell_type": "code",
   "execution_count": 68,
   "metadata": {},
   "outputs": [],
   "source": [
    "data = data[data['last_price_million']<=200]"
   ]
  },
  {
   "cell_type": "code",
   "execution_count": 69,
   "metadata": {},
   "outputs": [
    {
     "data": {
      "text/plain": [
       "count    23594.000000\n",
       "mean         6.407057\n",
       "std          7.906050\n",
       "min          0.012190\n",
       "25%          3.400000\n",
       "50%          4.646000\n",
       "75%          6.790000\n",
       "max        190.870000\n",
       "Name: last_price_million, dtype: float64"
      ]
     },
     "execution_count": 69,
     "metadata": {},
     "output_type": "execute_result"
    },
    {
     "data": {
      "image/png": "[encoded data removed]",
      "text/plain": [
       "<Figure size 1440x720 with 1 Axes>"
      ]
     },
     "metadata": {
      "needs_background": "light"
     },
     "output_type": "display_data"
    }
   ],
   "source": [
    "data['last_price_million'] = data['last_price']/10**6\n",
    "ax = (\n",
    "    data['last_price_million'].hist(bins=100,range=(0,30),figsize=(20,10))\n",
    "    .set(title = 'Гистограмма цены объекта', xlabel = 'Цена, млн.руб.',ylabel = 'Кол-во квартир')\n",
    ")\n",
    "data['last_price_million'].describe()"
   ]
  },
  {
   "cell_type": "markdown",
   "metadata": {},
   "source": [
    "Как мы видим <b>медианное значение продаж - 4,65 млн.руб. </b> <font color=blue>Основной разброс цены от 3 до 6,8 млн руб. </font>"
   ]
  },
  {
   "cell_type": "markdown",
   "metadata": {},
   "source": [
    "##### Параметр - количество комнат - `rooms`"
   ]
  },
  {
   "cell_type": "code",
   "execution_count": 70,
   "metadata": {},
   "outputs": [
    {
     "data": {
      "text/plain": [
       "count    23594.000000\n",
       "mean         2.069848\n",
       "std          1.074689\n",
       "min          0.000000\n",
       "25%          1.000000\n",
       "50%          2.000000\n",
       "75%          3.000000\n",
       "max         19.000000\n",
       "Name: rooms, dtype: float64"
      ]
     },
     "execution_count": 70,
     "metadata": {},
     "output_type": "execute_result"
    },
    {
     "data": {
      "image/png": "[encoded data removed]",
      "text/plain": [
       "<Figure size 1440x720 with 1 Axes>"
      ]
     },
     "metadata": {
      "needs_background": "light"
     },
     "output_type": "display_data"
    }
   ],
   "source": [
    "ax = (\n",
    "    data['rooms'].hist(bins=10,range=(0,10),figsize=(20,10))\n",
    "    .set(title = 'Гистограмма количества комнат', xlabel = 'Количество комнат',ylabel = 'Кол-во квартир')\n",
    "\n",
    ")\n",
    "data['rooms'].describe()"
   ]
  },
  {
   "cell_type": "markdown",
   "metadata": {},
   "source": [
    "Как мы видим, есть квартиры с количеством комнат - 0 . Это явно некорректно. Сделаем из них 1-комнатную квартиру.\n",
    "\n",
    "Посмотрим их количество - "
   ]
  },
  {
   "cell_type": "code",
   "execution_count": 71,
   "metadata": {},
   "outputs": [
    {
     "data": {
      "text/plain": [
       "194"
      ]
     },
     "execution_count": 71,
     "metadata": {},
     "output_type": "execute_result"
    }
   ],
   "source": [
    "data.query('rooms==0')['rooms'].count()"
   ]
  },
  {
   "cell_type": "markdown",
   "metadata": {},
   "source": [
    "Произведём замену - "
   ]
  },
  {
   "cell_type": "code",
   "execution_count": 72,
   "metadata": {},
   "outputs": [],
   "source": [
    "data['rooms'] = data['rooms'].replace(0,1)"
   ]
  },
  {
   "cell_type": "markdown",
   "metadata": {},
   "source": [
    "Посмотрим на новый график - "
   ]
  },
  {
   "cell_type": "code",
   "execution_count": 73,
   "metadata": {},
   "outputs": [
    {
     "data": {
      "text/plain": [
       "count    23594.000000\n",
       "mean         2.078071\n",
       "std          1.062578\n",
       "min          1.000000\n",
       "25%          1.000000\n",
       "50%          2.000000\n",
       "75%          3.000000\n",
       "max         19.000000\n",
       "Name: rooms, dtype: float64"
      ]
     },
     "execution_count": 73,
     "metadata": {},
     "output_type": "execute_result"
    },
    {
     "data": {
      "image/png": "[encoded data removed]",
      "text/plain": [
       "<Figure size 1440x720 with 1 Axes>"
      ]
     },
     "metadata": {
      "needs_background": "light"
     },
     "output_type": "display_data"
    }
   ],
   "source": [
    "ax = (\n",
    "    data['rooms'].hist(bins=10,range=(0,10),figsize=(20,10))\n",
    "    .set(title = 'Гистограмма количества комнат',xlim=1, xlabel = 'Количество комнат',ylabel = 'Кол-во квартир')\n",
    "\n",
    ")\n",
    "data['rooms'].describe()"
   ]
  },
  {
   "cell_type": "markdown",
   "metadata": {},
   "source": [
    "Судя по гистограмме, самые популярные варианты - это <b>1-3 комнатные квартиры</b>\n",
    "- На первом месте по числу обьявлений - однокомнатные\n",
    "- Второе место - двушки\n",
    "- Третье место - 3 комнатные квартиры"
   ]
  },
  {
   "cell_type": "markdown",
   "metadata": {},
   "source": [
    "##### Параметр - высота потолков - `ceiling_height`"
   ]
  },
  {
   "cell_type": "code",
   "execution_count": 74,
   "metadata": {},
   "outputs": [
    {
     "data": {
      "text/plain": [
       "count    23594.000000\n",
       "mean         2.696856\n",
       "std          0.221347\n",
       "min          2.000000\n",
       "25%          2.600000\n",
       "50%          2.650000\n",
       "75%          2.700000\n",
       "max          6.000000\n",
       "Name: ceiling_height, dtype: float64"
      ]
     },
     "execution_count": 74,
     "metadata": {},
     "output_type": "execute_result"
    },
    {
     "data": {
      "image/png": "[encoded data removed]",
      "text/plain": [
       "<Figure size 1440x720 with 1 Axes>"
      ]
     },
     "metadata": {
      "needs_background": "light"
     },
     "output_type": "display_data"
    }
   ],
   "source": [
    "ax = (\n",
    "    data['ceiling_height'].hist(bins=10,range=(2,5),figsize=(20,10))\n",
    "    .set(title = 'Гистограмма высоты потолков',xlim=2, xlabel = 'Высота потолков, м',ylabel = 'Кол-во квартир')\n",
    ")\n",
    "data['ceiling_height'].describe()"
   ]
  },
  {
   "cell_type": "markdown",
   "metadata": {},
   "source": [
    "Сдуя по гистограмме - <b>высота потолков в пределе от 2.5 до 3 метров </b>"
   ]
  },
  {
   "cell_type": "markdown",
   "metadata": {},
   "source": [
    "##### Параметр - этаж квартиры - `floor`"
   ]
  },
  {
   "cell_type": "code",
   "execution_count": 75,
   "metadata": {},
   "outputs": [
    {
     "data": {
      "text/plain": [
       "count    23594.000000\n",
       "mean         5.876324\n",
       "std          4.872759\n",
       "min          1.000000\n",
       "25%          2.000000\n",
       "50%          4.000000\n",
       "75%          8.000000\n",
       "max         33.000000\n",
       "Name: floor, dtype: float64"
      ]
     },
     "execution_count": 75,
     "metadata": {},
     "output_type": "execute_result"
    },
    {
     "data": {
      "image/png": "[encoded data removed]",
      "text/plain": [
       "<Figure size 1440x720 with 1 Axes>"
      ]
     },
     "metadata": {
      "needs_background": "light"
     },
     "output_type": "display_data"
    }
   ],
   "source": [
    "ax = (\n",
    "    data['floor'].hist(bins=25,figsize=(20,10),range=(0,25))\n",
    "    .set(label='Гистограмма этажа квартиры',xlabel ='Этаж квартиры', ylabel='Кол-во квартир',xlim=1)\n",
    ")\n",
    "data['floor'].describe()"
   ]
  },
  {
   "cell_type": "markdown",
   "metadata": {},
   "source": [
    "Сулдя по гистограмме - основной процент обьявлений <b>приходится на квартиры с 1 по 10 этаж.</b>\n",
    "\n",
    "Больше всего обьявлений про квартиры на 1-5 этаже."
   ]
  },
  {
   "cell_type": "markdown",
   "metadata": {},
   "source": [
    "##### Параметр - тип этажа квартиры - `floor_type`"
   ]
  },
  {
   "cell_type": "code",
   "execution_count": 76,
   "metadata": {},
   "outputs": [
    {
     "data": {
      "text/plain": [
       "[None, Text(0.5, 0, 'тип этажа'), Text(0, 0.5, 'Кол-во квартир')]"
      ]
     },
     "execution_count": 76,
     "metadata": {},
     "output_type": "execute_result"
    },
    {
     "data": {
      "image/png": "[encoded data removed]",
      "text/plain": [
       "<Figure size 432x288 with 1 Axes>"
      ]
     },
     "metadata": {
      "needs_background": "light"
     },
     "output_type": "display_data"
    },
    {
     "data": {
      "image/png": "[encoded data removed]",
      "text/plain": [
       "<Figure size 432x288 with 1 Axes>"
      ]
     },
     "metadata": {
      "needs_background": "light"
     },
     "output_type": "display_data"
    }
   ],
   "source": [
    "data['floor_type'].hist(bins=10).set(label='Гистограмма типа этажа', xlabel = 'тип этажа', ylabel = 'Кол-во квартир')\n",
    "(\n",
    "    data.pivot_table(index='floor_type',values='first_day_exposition',aggfunc='count')\n",
    "    .plot(grid=True)\n",
    "    .set(label='Гистограмма типа этажа', xlabel = 'тип этажа', ylabel = 'Кол-во квартир')\n",
    ")"
   ]
  },
  {
   "cell_type": "markdown",
   "metadata": {},
   "source": [
    "Как мы видим, <b>большая часть обьявлений приходится на тип этажа - other (не первый, не последний).</b>"
   ]
  },
  {
   "cell_type": "markdown",
   "metadata": {},
   "source": [
    "##### Параметр - Общее количество этажей в доме - `floors_total`"
   ]
  },
  {
   "cell_type": "code",
   "execution_count": 77,
   "metadata": {},
   "outputs": [
    {
     "data": {
      "text/plain": [
       "count    23594.000000\n",
       "mean        10.673392\n",
       "std          6.595780\n",
       "min          1.000000\n",
       "25%          5.000000\n",
       "50%          9.000000\n",
       "75%         16.000000\n",
       "max         60.000000\n",
       "Name: floors_total, dtype: float64"
      ]
     },
     "execution_count": 77,
     "metadata": {},
     "output_type": "execute_result"
    },
    {
     "data": {
      "image/png": "[encoded data removed]",
      "text/plain": [
       "<Figure size 1440x720 with 1 Axes>"
      ]
     },
     "metadata": {
      "needs_background": "light"
     },
     "output_type": "display_data"
    }
   ],
   "source": [
    "ax = (\n",
    "    data['floors_total'].hist(bins=25,figsize=(20,10),range=(0,25))\n",
    "    .set(label='Гистограмма общего количества этажей в доме',xlabel ='Количество этажей', ylabel='Кол-во квартир',xlim=0)\n",
    ")\n",
    "data['floors_total'].describe()"
   ]
  },
  {
   "cell_type": "markdown",
   "metadata": {},
   "source": [
    "<b> Самые популярные обьявления в домах от 5 до 16 ти этажей </b>\n",
    "\n",
    "<font color=green>**Самые популярные** - 5(пяти) и 9 (девяти) этажки </font>"
   ]
  },
  {
   "cell_type": "markdown",
   "metadata": {},
   "source": [
    "##### Параметр - Расстояние до центра города в метрах - `cityCenters_nearest`"
   ]
  },
  {
   "cell_type": "code",
   "execution_count": 78,
   "metadata": {},
   "outputs": [
    {
     "data": {
      "text/plain": [
       "count    18087.000000\n",
       "mean     14189.738099\n",
       "std       8614.270530\n",
       "min        181.000000\n",
       "25%       9234.000000\n",
       "50%      13094.000000\n",
       "75%      16293.000000\n",
       "max      65968.000000\n",
       "Name: cityCenters_nearest, dtype: float64"
      ]
     },
     "execution_count": 78,
     "metadata": {},
     "output_type": "execute_result"
    },
    {
     "data": {
      "image/png": "[encoded data removed]",
      "text/plain": [
       "<Figure size 1440x720 with 1 Axes>"
      ]
     },
     "metadata": {
      "needs_background": "light"
     },
     "output_type": "display_data"
    }
   ],
   "source": [
    "ax = (\n",
    "    data['cityCenters_nearest'].hist(bins=100,figsize=(20,10))\n",
    "    .set(label='Гистограмма расстояния до центра города',xlabel='Расстояние,м',ylabel='Кол-во квартир')\n",
    ")\n",
    "data['cityCenters_nearest'].describe()"
   ]
  },
  {
   "cell_type": "markdown",
   "metadata": {},
   "source": [
    "<b>Медианное расстояние до центра города - 13 км, межквартильный размах от 9 до 16 км. </b> \n",
    "- также много квартир с расстоянием 5 км от центра города."
   ]
  },
  {
   "cell_type": "markdown",
   "metadata": {},
   "source": [
    "##### Параметр - Расстояние до ближайшего аэропорта - `airports_nearest`"
   ]
  },
  {
   "cell_type": "code",
   "execution_count": 79,
   "metadata": {},
   "outputs": [
    {
     "data": {
      "text/plain": [
       "count    18164.000000\n",
       "mean     28778.322038\n",
       "std      12601.873834\n",
       "min          0.000000\n",
       "25%      18605.750000\n",
       "50%      26760.500000\n",
       "75%      37197.500000\n",
       "max      84869.000000\n",
       "Name: airports_nearest, dtype: float64"
      ]
     },
     "execution_count": 79,
     "metadata": {},
     "output_type": "execute_result"
    },
    {
     "data": {
      "image/png": "[encoded data removed]",
      "text/plain": [
       "<Figure size 1440x720 with 1 Axes>"
      ]
     },
     "metadata": {
      "needs_background": "light"
     },
     "output_type": "display_data"
    }
   ],
   "source": [
    "ax = (\n",
    "    data['airports_nearest'].hist(bins=100,figsize=(20,10))\n",
    "    .set(label='Расстояние до ближайшего аэропорта',xlabel='Расстояние до аэропорта, м', ylabel='Кол-во квартир')\n",
    ")\n",
    "data['airports_nearest'].describe()"
   ]
  },
  {
   "cell_type": "markdown",
   "metadata": {},
   "source": [
    "В наших объявления основной разброс расстояний до аэропорта составляет <b> от 18 до 37 км </b>"
   ]
  },
  {
   "cell_type": "markdown",
   "metadata": {},
   "source": [
    "##### Параметр - Расстояние до ближайшего парка - `parks_nearest`"
   ]
  },
  {
   "cell_type": "code",
   "execution_count": 80,
   "metadata": {},
   "outputs": [
    {
     "data": {
      "text/plain": [
       "count    8036.000000\n",
       "mean      490.598930\n",
       "std       341.492883\n",
       "min         1.000000\n",
       "25%       288.000000\n",
       "50%       455.000000\n",
       "75%       612.000000\n",
       "max      3190.000000\n",
       "Name: parks_nearest, dtype: float64"
      ]
     },
     "execution_count": 80,
     "metadata": {},
     "output_type": "execute_result"
    },
    {
     "data": {
      "image/png": "[encoded data removed]",
      "text/plain": [
       "<Figure size 1440x720 with 1 Axes>"
      ]
     },
     "metadata": {
      "needs_background": "light"
     },
     "output_type": "display_data"
    }
   ],
   "source": [
    "ax =(\n",
    "    data['parks_nearest'].hist(bins=20,figsize=(20,10))\n",
    "    .set(xlabel= 'Расстояние до ближайшего парка,м',ylabel='Кол-во квартир')\n",
    ")\n",
    "data['parks_nearest'].describe()"
   ]
  },
  {
   "cell_type": "markdown",
   "metadata": {},
   "source": [
    "В основной массе доступных объявлений (без учета обьявлений с пропусками) <b>ближайший парк находится на расстоянии от 290 до 610 метров </b>\n",
    "\n",
    "- Либо находится на расстоянии более 3км от квартиры , согласно <a href=#ponds>пункту 2.6 исследования</a>"
   ]
  },
  {
   "cell_type": "markdown",
   "metadata": {},
   "source": [
    "##### Параметр - День публикации обьявления - `ad_day_of_week`"
   ]
  },
  {
   "cell_type": "code",
   "execution_count": 81,
   "metadata": {},
   "outputs": [
    {
     "data": {
      "image/png": "[encoded data removed]",
      "text/plain": [
       "<Figure size 504x504 with 1 Axes>"
      ]
     },
     "metadata": {
      "needs_background": "light"
     },
     "output_type": "display_data"
    }
   ],
   "source": [
    "ax = (\n",
    "    data['ad_day_of_week'].hist(bins=7, figsize=(7,7))\n",
    "    .set(xlabel= 'День недели',label=' Гистограмма дня публикации обьявления', ylabel='Кол-во квартир')\n",
    ")"
   ]
  },
  {
   "cell_type": "markdown",
   "metadata": {},
   "source": [
    "Большая часть обьявлений <b>выкладывается в будние дни, пики - вторник, четверг </b>"
   ]
  },
  {
   "cell_type": "markdown",
   "metadata": {},
   "source": [
    "##### Параметр - месяц публикации обьявления - `ad_month`"
   ]
  },
  {
   "cell_type": "code",
   "execution_count": 82,
   "metadata": {},
   "outputs": [
    {
     "data": {
      "image/png": "[encoded data removed]",
      "text/plain": [
       "<Figure size 864x504 with 1 Axes>"
      ]
     },
     "metadata": {
      "needs_background": "light"
     },
     "output_type": "display_data"
    }
   ],
   "source": [
    "ax = (\n",
    "    data['ad_month'].hist(bins=12, figsize=(12,7),range=(1,13))\n",
    "    .set(xlabel= 'Номер месяца',label=' Гистограмма месяца публикации обьявления',xlim=1, ylabel='Кол-во квартир')\n",
    ")"
   ]
  },
  {
   "cell_type": "markdown",
   "metadata": {},
   "source": [
    "<b>Самые популярные месяца</b> для продажи квартиры - <b>февраль, март, апрель, сентябрь, октябрь, ноябрь. </b>\n",
    "\n",
    "<b>Самый непопулярный - май</b> (скорее всего связан с большим количеством праздничных дней)"
   ]
  },
  {
   "cell_type": "markdown",
   "metadata": {},
   "source": [
    "#### Изучим, как быстро продавались квартиры- `days_exposition`.\n",
    "Этот параметр показывает, сколько дней было размещено каждое объявление."
   ]
  },
  {
   "cell_type": "code",
   "execution_count": 83,
   "metadata": {},
   "outputs": [
    {
     "data": {
      "text/plain": [
       "count    20423.000000\n",
       "mean       180.884738\n",
       "std        219.738549\n",
       "min          1.000000\n",
       "25%         45.000000\n",
       "50%         95.000000\n",
       "75%        232.000000\n",
       "max       1580.000000\n",
       "Name: days_exposition, dtype: float64"
      ]
     },
     "execution_count": 83,
     "metadata": {},
     "output_type": "execute_result"
    },
    {
     "data": {
      "image/png": "[encoded data removed]",
      "text/plain": [
       "<Figure size 1440x720 with 1 Axes>"
      ]
     },
     "metadata": {
      "needs_background": "light"
     },
     "output_type": "display_data"
    }
   ],
   "source": [
    "ax = (\n",
    "    data[data['sold']==True]['days_exposition']\n",
    "    .hist(bins=50, figsize=(20,10))\n",
    "    .set(xlabel= 'Время публикации обьявления, дней',label=' Гистограмма продолжительности размещения обьявления',\n",
    "         xlim=1, ylabel='Кол-во квартир'))\n",
    "data[data['sold']==True]['days_exposition'].describe()"
   ]
  },
  {
   "cell_type": "markdown",
   "metadata": {},
   "source": [
    "- Медианное значение продажи составляет - 95 дней\n",
    "- Среднее значение - 180 дней \n",
    "\n",
    "Судя по информации из нашей таблицы,в большой части обьявлений <b>время продажи составило от 45 до 232 дней.</b>\n",
    "\n",
    "Мы можем считать <b>быстрыми</b> продажи квартиры - со временем продажи <b>до 1(одного) месяца.</b>\n",
    "\n",
    "<b>Долгие продажи - более одного года .</b>"
   ]
  },
  {
   "cell_type": "markdown",
   "metadata": {},
   "source": [
    "#### Изучим влияние различных факторов на общую (полную) стоимость Объекта"
   ]
  },
  {
   "cell_type": "markdown",
   "metadata": {},
   "source": [
    "- Посмотрим влияние <b>общей площади</b> на цену недвижимости."
   ]
  },
  {
   "cell_type": "code",
   "execution_count": 84,
   "metadata": {},
   "outputs": [
    {
     "data": {
      "image/png": "[encoded data removed]",
      "text/plain": [
       "<Figure size 720x360 with 1 Axes>"
      ]
     },
     "metadata": {
      "needs_background": "light"
     },
     "output_type": "display_data"
    }
   ],
   "source": [
    "ax = data.plot(x='last_price_million', y='total_area', kind = 'scatter', alpha=0.3,\\\n",
    "         xlabel = 'Цена квартиры, млн.руб',ylabel='Общая площадь квартиры',figsize=(10,5))"
   ]
  },
  {
   "cell_type": "markdown",
   "metadata": {},
   "source": [
    "На диаграмме рассеивания мы видим положительную корреляцию - при увеличение Общей площади возрастает и стоимость Объекта - что логично.\n",
    "\n",
    "Ниже расчитаем коэффициент корреляции Пирсона - "
   ]
  },
  {
   "cell_type": "code",
   "execution_count": 85,
   "metadata": {},
   "outputs": [
    {
     "name": "stdout",
     "output_type": "stream",
     "text": [
      "0.7396981250526052\n"
     ]
    }
   ],
   "source": [
    "print(data['last_price'].corr(data['total_area']))"
   ]
  },
  {
   "cell_type": "markdown",
   "metadata": {},
   "source": [
    "- Посмотрим влияние <b>жилой площади</b> на цену недвижимости."
   ]
  },
  {
   "cell_type": "code",
   "execution_count": 86,
   "metadata": {},
   "outputs": [
    {
     "name": "stdout",
     "output_type": "stream",
     "text": [
      "0.6591309163808898\n"
     ]
    },
    {
     "data": {
      "image/png": "[encoded data removed]",
      "text/plain": [
       "<Figure size 720x360 with 1 Axes>"
      ]
     },
     "metadata": {
      "needs_background": "light"
     },
     "output_type": "display_data"
    }
   ],
   "source": [
    "ax = data.plot(x='last_price_million', y='living_area', kind = 'scatter', alpha=0.3,\\\n",
    "              xlabel = 'Цена квартиры, млн.руб',ylabel='Жилая площадь квартиры',figsize=(10,5))\n",
    "print(data['last_price'].corr(data['living_area']))"
   ]
  },
  {
   "cell_type": "markdown",
   "metadata": {},
   "source": [
    "На графике мы видим <b>прямую зависимость жилой площади на стоимость недвижимости</b>, аналогично общей площади."
   ]
  },
  {
   "cell_type": "markdown",
   "metadata": {},
   "source": [
    "- Изучим влияние <b>площади кухни</b> на цену недвижимости."
   ]
  },
  {
   "cell_type": "code",
   "execution_count": 87,
   "metadata": {},
   "outputs": [
    {
     "name": "stdout",
     "output_type": "stream",
     "text": [
      "0.5635951012195863\n"
     ]
    },
    {
     "data": {
      "image/png": "[encoded data removed]",
      "text/plain": [
       "<Figure size 720x360 with 1 Axes>"
      ]
     },
     "metadata": {
      "needs_background": "light"
     },
     "output_type": "display_data"
    }
   ],
   "source": [
    "ax = (\n",
    "    data.plot(x='last_price_million', y='kitchen_area', kind = 'scatter', alpha=0.3,\\\n",
    "             xlabel = 'Цена квартиры, млн.руб',ylabel='Площадь кухни',figsize=(10,5)))\n",
    "print(data['last_price'].corr(data['kitchen_area']))"
   ]
  },
  {
   "cell_type": "markdown",
   "metadata": {},
   "source": [
    "Как мы видим, при <b>увеличении площади кухни стоимость объекта увеличивается.</b>"
   ]
  },
  {
   "cell_type": "markdown",
   "metadata": {},
   "source": [
    "- Изучим влияние параметра <b> количество комнат </b> на общую стоимость жилья"
   ]
  },
  {
   "cell_type": "code",
   "execution_count": 88,
   "metadata": {},
   "outputs": [
    {
     "name": "stdout",
     "output_type": "stream",
     "text": [
      "0.43769333855441733\n"
     ]
    },
    {
     "data": {
      "image/png": "[encoded data removed]",
      "text/plain": [
       "<Figure size 720x360 with 1 Axes>"
      ]
     },
     "metadata": {
      "needs_background": "light"
     },
     "output_type": "display_data"
    }
   ],
   "source": [
    "ax = data.plot(x='last_price', y='rooms', kind = 'scatter', alpha=0.2,\\\n",
    "              xlabel = 'Цена квартиры, млн.руб',ylabel='Количество комнат',figsize=(10,5))\n",
    "print(data['last_price'].corr(data['rooms']))"
   ]
  },
  {
   "cell_type": "markdown",
   "metadata": {},
   "source": [
    "Как мы видим зависимость есть, но она не такая сильная.\n",
    "При увеличении количества комнат от 1 до 5х - цена недвижимости увеличивается.\n",
    "\n",
    "Квартиры с большим количеством комнат (от 7ми) плохо продаются, и цену приходится снижать. \n"
   ]
  },
  {
   "cell_type": "markdown",
   "metadata": {},
   "source": [
    "- Изучим влияние параметра <b> типа этажа (первый, последний, другой) </b>`floor_type` на общую стоимость жилья"
   ]
  },
  {
   "cell_type": "code",
   "execution_count": 89,
   "metadata": {},
   "outputs": [
    {
     "data": {
      "image/png": "[encoded data removed]",
      "text/plain": [
       "<Figure size 1440x720 with 1 Axes>"
      ]
     },
     "metadata": {
      "needs_background": "light"
     },
     "output_type": "display_data"
    }
   ],
   "source": [
    "ax = (\n",
    "    data.plot(x='last_price', y='floor_type', kind = 'scatter', alpha=0.5,\n",
    "              xlabel='Цена квартиры, млн.руб.',ylabel='Тип этажа', figsize=(20,10))\n",
    ")"
   ]
  },
  {
   "cell_type": "markdown",
   "metadata": {},
   "source": [
    "Как мы видим, самые дорогие варианты квартир находятся на этаже \"другой\", либо \"последний\" - это, скорее всего , элитное жилье - пентхаусы.\n",
    "\n",
    "Квартиры на первом этаже стоят дешевле всего."
   ]
  },
  {
   "cell_type": "markdown",
   "metadata": {},
   "source": [
    "- Изучим влияние параметра <b> дня недели публикации обьявления </b>`ad_day_of_week` на общую стоимость жилья"
   ]
  },
  {
   "cell_type": "code",
   "execution_count": 90,
   "metadata": {},
   "outputs": [
    {
     "name": "stdout",
     "output_type": "stream",
     "text": [
      "-0.001252749252383894\n"
     ]
    },
    {
     "data": {
      "image/png": "[encoded data removed]",
      "text/plain": [
       "<Figure size 1440x720 with 1 Axes>"
      ]
     },
     "metadata": {
      "needs_background": "light"
     },
     "output_type": "display_data"
    }
   ],
   "source": [
    "ax = data.plot(x='last_price_million', y='ad_day_of_week', kind = 'scatter', alpha=0.2,\n",
    "              xlabel='Цена квартиры, млн.руб.',ylabel='День размещения обьявления', figsize=(20,10))\n",
    "print(data['last_price_million'].corr(data['ad_day_of_week']))"
   ]
  },
  {
   "cell_type": "markdown",
   "metadata": {},
   "source": [
    "Как мы видим, корреляция нулевая. Это значит, что нет зависимости в какой из дней опубликовано обьявление."
   ]
  },
  {
   "cell_type": "markdown",
   "metadata": {},
   "source": [
    "- Изучим влияние параметра <b> Месяца публикации обьявления </b>`ad_month` на общую стоимость жилья"
   ]
  },
  {
   "cell_type": "code",
   "execution_count": 91,
   "metadata": {},
   "outputs": [
    {
     "name": "stdout",
     "output_type": "stream",
     "text": [
      "0.002275953623940217\n"
     ]
    },
    {
     "data": {
      "image/png": "[encoded data removed]",
      "text/plain": [
       "<Figure size 1440x720 with 1 Axes>"
      ]
     },
     "metadata": {
      "needs_background": "light"
     },
     "output_type": "display_data"
    }
   ],
   "source": [
    "ax = (\n",
    "    data.plot(x='last_price_million', y='ad_month', kind = 'scatter', alpha=0.2,figsize=(20,10),\n",
    "             label='Диаграмма влияния месяца на стоимость жилья',\n",
    "              xlabel='Цена квартиры, млн.руб.',ylabel='Месяц размещения обьявления'))\n",
    "print(data['last_price_million'].corr(data['ad_month']))"
   ]
  },
  {
   "cell_type": "markdown",
   "metadata": {},
   "source": [
    "Как мы видим, корреляция нулевая. Это значит, что нет зависимости в какой из месяцев опубликовано обьявление."
   ]
  },
  {
   "cell_type": "markdown",
   "metadata": {},
   "source": [
    "- Изучим влияние параметра <b> года публикации обьявления </b>`ad_year` на общую стоимость жилья"
   ]
  },
  {
   "cell_type": "code",
   "execution_count": 92,
   "metadata": {},
   "outputs": [
    {
     "name": "stdout",
     "output_type": "stream",
     "text": [
      "-0.055955487833756035\n"
     ]
    },
    {
     "data": {
      "image/png": "[encoded data removed]",
      "text/plain": [
       "<Figure size 1440x720 with 1 Axes>"
      ]
     },
     "metadata": {
      "needs_background": "light"
     },
     "output_type": "display_data"
    }
   ],
   "source": [
    "ax = (\n",
    "    data.plot(x='last_price_million', y='ad_year', kind = 'scatter', alpha=0.2,figsize=(20,10),\n",
    "             label='Диаграмма влияния года на стоимость жилья',xlabel='цена квартиры, млн.руб.',ylabel='Год обьявления')\n",
    ")\n",
    "print(data['last_price_million'].corr(data['ad_year']))"
   ]
  },
  {
   "cell_type": "markdown",
   "metadata": {},
   "source": [
    "Как мы видим, в 2014 году были самые минимальные цена на недвижимость, скорее всего, связанные с кризисом 2014 года.\n",
    "Затем цены пошли вверх до 2017 года.\n",
    "\n",
    "В 2018 - цены закрепились на уровне 2017 года.\n",
    "\n",
    "В 2019 - цены немного спали."
   ]
  },
  {
   "cell_type": "markdown",
   "metadata": {},
   "source": [
    "#### Посчитайте среднюю цену одного квадратного метра в 10 населённых пунктах с наибольшим числом объявлений. Выделите населённые пункты с самой высокой и низкой стоимостью квадратного метра. Эти данные можно найти по имени в столбце `locality_name.`"
   ]
  },
  {
   "cell_type": "markdown",
   "metadata": {},
   "source": [
    "Найдем населенные пункты с самым большим количеством обьявлений"
   ]
  },
  {
   "cell_type": "code",
   "execution_count": 93,
   "metadata": {},
   "outputs": [
    {
     "name": "stdout",
     "output_type": "stream",
     "text": [
      "locality_name\n",
      "санкт-петербург      15635\n",
      "поселок мурино         552\n",
      "поселок шушары         439\n",
      "всеволожск             398\n",
      "пушкин                 369\n",
      "колпино                338\n",
      "поселок парголово      327\n",
      "гатчина                307\n",
      "деревня кудрово        299\n",
      "выборг                 237\n",
      "Name: locality_name, dtype: int64\n"
     ]
    }
   ],
   "source": [
    "top10_data = data.groupby('locality_name')['locality_name'].count().sort_values(ascending=False).head(10)\n",
    "print(top10_data)"
   ]
  },
  {
   "cell_type": "markdown",
   "metadata": {},
   "source": [
    "Найдем населенный пункт из этого списка с <b>самой высокой \"медианной\" ценой квадратного метра </b>"
   ]
  },
  {
   "cell_type": "code",
   "execution_count": 94,
   "metadata": {},
   "outputs": [
    {
     "data": {
      "text/plain": [
       "locality_name\n",
       "санкт-петербург    114328.896375\n",
       "Name: 1m_price, dtype: float64"
      ]
     },
     "execution_count": 94,
     "metadata": {},
     "output_type": "execute_result"
    }
   ],
   "source": [
    "data.query('locality_name in @top10_data.index').groupby('locality_name')['1m_price'].mean().sort_values(ascending=False).head(1)"
   ]
  },
  {
   "cell_type": "markdown",
   "metadata": {},
   "source": [
    "Как мы и ожидали, это <b>Санкт-Петербург с медианной ценой 115 000 рублей за квадратный метр.</b>"
   ]
  },
  {
   "cell_type": "markdown",
   "metadata": {},
   "source": [
    "Найдем населенный пункт из этого списка с самой низкой \"медианной\" ценой квадратного метра"
   ]
  },
  {
   "cell_type": "code",
   "execution_count": 95,
   "metadata": {},
   "outputs": [
    {
     "data": {
      "text/plain": [
       "locality_name\n",
       "выборг    58141.909153\n",
       "Name: 1m_price, dtype: float64"
      ]
     },
     "execution_count": 95,
     "metadata": {},
     "output_type": "execute_result"
    }
   ],
   "source": [
    "data.query('locality_name in @top10_data.index').groupby('locality_name')['1m_price'].mean().sort_values(ascending=True).head(1)"
   ]
  },
  {
   "cell_type": "markdown",
   "metadata": {},
   "source": [
    "<b>Самая низкая цена в Выборге с медианной ценой 58 000 рублей за квадратный метр.</b>"
   ]
  },
  {
   "cell_type": "markdown",
   "metadata": {},
   "source": [
    "#### Ранее мы посчитали расстояние до центра в километрах `cityCenters_nearest_km`. \n",
    "Теперь выделим квартиры в Санкт-Петербурге с помощью столбца `locality_name` и <a id=spb>вычислим <font color=blue>среднюю цену каждого километра</font>.</a> Опишите, как стоимость объектов зависит от расстояния до центра города."
   ]
  },
  {
   "cell_type": "code",
   "execution_count": 96,
   "metadata": {},
   "outputs": [
    {
     "name": "stdout",
     "output_type": "stream",
     "text": [
      "cityCenters_nearest_km\n",
      "0.0     245834.0\n",
      "1.0     161608.0\n",
      "2.0     155121.0\n",
      "3.0     121508.0\n",
      "4.0     130700.0\n",
      "5.0     139237.0\n",
      "6.0     149867.0\n",
      "7.0     156177.0\n",
      "8.0     124272.0\n",
      "9.0     113159.0\n",
      "10.0    112607.0\n",
      "11.0    108388.0\n",
      "12.0    107470.0\n",
      "13.0    108099.0\n",
      "14.0    104201.0\n",
      "15.0    104231.0\n",
      "16.0    100543.0\n",
      "17.0     96970.0\n",
      "18.0     96362.0\n",
      "19.0     98658.0\n",
      "20.0    103057.0\n",
      "21.0     94470.0\n",
      "22.0     91330.0\n",
      "23.0     91829.0\n",
      "24.0     85737.0\n",
      "25.0     91531.0\n",
      "26.0     87799.0\n",
      "27.0    132116.0\n",
      "28.0     81162.0\n",
      "29.0     72953.0\n",
      "Name: 1m_price, dtype: float64\n"
     ]
    },
    {
     "data": {
      "image/png": "[encoded data removed]",
      "text/plain": [
       "<Figure size 1440x720 with 1 Axes>"
      ]
     },
     "metadata": {
      "needs_background": "light"
     },
     "output_type": "display_data"
    }
   ],
   "source": [
    "avg_price_km = data[data['locality_name'] == \"санкт-петербург\"].groupby('cityCenters_nearest_km')['1m_price'].mean().round()\n",
    "print(avg_price_km)\n",
    "ax = (\n",
    "    avg_price_km.plot\n",
    "    .bar(color='orange',figsize=(20,10))\n",
    "    .set(xlabel = 'Расстояние до центра, км',ylabel='Стоимость квартиры')\n",
    ")"
   ]
  },
  {
   "cell_type": "markdown",
   "metadata": {},
   "source": [
    "Как мы видим, <b>самое дорогое жилье в центре города - со стоимостью 246 000 рублей за кв.м.</b>\n",
    "\n",
    "и с каждым километром отдаления от центра - стоимость квадратного метра снижается.\n",
    "\n",
    "<b>На расстоянии 10 км от центра - стоимость составляет - 113 000 рублей.</b>\n",
    "\n",
    "<b>На расстоянии 20 км от центра - цена за кв.м. - 103 000 рублей.</b>\n",
    "\n",
    "На столбчатой диаграмме видны всплески <b>на расстоянии 6-7 и 27км</b> от центра города - говорит о том, что скорее всего более дорогой/престижный район"
   ]
  },
  {
   "cell_type": "markdown",
   "metadata": {},
   "source": [
    "### Общий вывод"
   ]
  },
  {
   "cell_type": "markdown",
   "metadata": {},
   "source": [
    "Задачей исследования было изучить архив объявлений за последние несколько лет по Санкт-Петербургу и Ленинградской области\n",
    "и выявить интересные особенности и зависимости, которые существуют на рынке недвижимости.\n",
    "\n",
    "<font color=blue>Были выявлены следущие факты:</font>\n",
    "- Основной процент продаж составляют квартиры общей площадью от 30 до 70 кв.м.\n",
    "- Самые популярные квартиры с площадью - 30, 42, 44, 61, 63 и 80 кв. м\n",
    "- Медианное значение цены на квартиру в Санкт-Петербурге и области - 4,65 млн.руб. Основной разброс цены от 3 до 6,8 млн руб.\n",
    "- Самой большой популярностью пользуются 1-3 комнатные квартиры\n",
    "- По количеству обьявлений - на 1м месте - однушки, 2м - двухкомнатые квартиры, 3е - 3-комнатные квартиры\n",
    "- Наименьшей популярностью пользуются квартиры на 1м и последнем этаже\n",
    "- Большинство обьявлений приходится на 5 и 9ти этажки\n",
    "- Большая часть обьявлений в черте города, но на расстоянии от 9 до 16 км\n",
    "- Ближайший парк находится на расстоянии от 300 до 600 метров.\n",
    "- Большая часть объявлений выкладываются в будние дни. Пики - вторник, четверг\n",
    "- Самые популярные месяца по количеству обьявлений о продаже квартиры - февраль, март, апрель, сентябрь, октябрь, ноябрь.\n",
    "- Самый непопулярный месяц по количеству обьявлений - май\n",
    "- Быстрыми продажими можно называть продажи до 1 (одного) месяца\n",
    "- Долгие продажи - более (1) одного года\n",
    "\n",
    "\n",
    "<font color=blue> Далее мы изучили как различные факторы влиют на итогговую цену объекта недвижимости </font>\n",
    "- При увеличении жилой и общей площади квартиры - ценник на жилье увеличивается). Корелляция ~ 63%\n",
    "- При увеличении количества комнат от 1 до 3х - цена недвижимости увеличивается. При дальнейшем увеличении - рост цены незначительный\n",
    "- Самые дешевые цены на квартиры на 1м этаже.\n",
    "\n",
    "\n",
    "<font color=blue> Влияние даты обьявления</font> - \n",
    "- День публикации обьявления никак не влияет на цену недвижимости\n",
    "- Месяц публикации обьявления никак не влияет на цену недвижимости\n",
    "- Год публикации влияет на стоимость недвижимости (в зависимости от экономической ситуации в мире и в России). В кризис - цены меньше.\n",
    "\n",
    "<b>Ниже ТОП-3 населенных пунктов с самым большим количеством обьявлений</b> -\n",
    "1. санкт-петербург - 15705\n",
    "2. поселок мурино - 556\n",
    "3. поселок шушары - 440\n",
    "\n",
    "<font color=Red>Самая дорогая стоимость квадратного метра в Санкт-Петербурге. Медианная стоимость составляет - 114 000 рублей.</font>\n",
    "\n",
    "<font color=Green>Самая низкая цена за квадратный метр в Выборге с ценой 58 000 рублей за кв.м.</font>\n",
    "\n",
    "<b>Мы изучили цену влияние каждого километра близости к центру в Санкт-Петербурге</b> получили следующую информацию - \n",
    "1. Цена в центре СПБ - 245 000 рублей за кв.м.\n",
    "2. Цена в  5 км от центра - 139 000 рублей за кв.м.\n",
    "3. Цена в 10 км от центра - 113 000 рублей за кв.м.\n",
    "4. Цена в 25 км от центра - 91 500 рублей за кв.м.\n",
    "\n",
    "Как мы видим, самое дорогое жилье в центре города - со стоимостью 245 000 рублей за кв.м.\n",
    "и <b>с каждым километром отдаления от центра - стоимость квадратного метра снижается.</b>\n",
    "\n",
    "\n",
    "<font color=blue>Данные этого исследования и полученные выводы можно использовать для построения модели машинного обучения по анализу корректности цены в обьявлениях на недвижимость </font>"
   ]
  }
 ],
 "metadata": {
  "ExecuteTimeLog": [
   {
    "duration": 789,
    "start_time": "2022-11-01T14:01:15.152Z"
   },
   {
    "duration": 34,
    "start_time": "2022-11-01T14:01:15.943Z"
   },
   {
    "duration": 3,
    "start_time": "2022-11-01T14:01:15.979Z"
   },
   {
    "duration": 17,
    "start_time": "2022-11-01T14:01:15.984Z"
   },
   {
    "duration": 2510,
    "start_time": "2022-11-01T14:01:16.003Z"
   },
   {
    "duration": 5,
    "start_time": "2022-11-01T14:01:18.515Z"
   },
   {
    "duration": 48,
    "start_time": "2022-11-01T14:01:18.522Z"
   },
   {
    "duration": 22,
    "start_time": "2022-11-01T14:01:18.572Z"
   },
   {
    "duration": 25,
    "start_time": "2022-11-01T14:01:18.596Z"
   },
   {
    "duration": 14,
    "start_time": "2022-11-01T14:01:18.624Z"
   },
   {
    "duration": 21,
    "start_time": "2022-11-01T14:01:18.639Z"
   },
   {
    "duration": 30,
    "start_time": "2022-11-01T14:01:18.661Z"
   },
   {
    "duration": 17,
    "start_time": "2022-11-01T14:01:18.693Z"
   },
   {
    "duration": 42,
    "start_time": "2022-11-01T14:01:18.711Z"
   },
   {
    "duration": 27,
    "start_time": "2022-11-01T14:01:18.755Z"
   },
   {
    "duration": 27,
    "start_time": "2022-11-01T14:01:18.784Z"
   },
   {
    "duration": 17,
    "start_time": "2022-11-01T14:01:18.812Z"
   },
   {
    "duration": 35,
    "start_time": "2022-11-01T14:01:18.830Z"
   },
   {
    "duration": 31,
    "start_time": "2022-11-01T14:01:18.866Z"
   },
   {
    "duration": 36,
    "start_time": "2022-11-01T14:01:18.899Z"
   },
   {
    "duration": 32,
    "start_time": "2022-11-01T14:01:18.937Z"
   },
   {
    "duration": 34,
    "start_time": "2022-11-01T14:01:18.971Z"
   },
   {
    "duration": 20,
    "start_time": "2022-11-01T14:01:19.007Z"
   },
   {
    "duration": 30,
    "start_time": "2022-11-01T14:01:19.028Z"
   },
   {
    "duration": 26,
    "start_time": "2022-11-01T14:01:19.060Z"
   },
   {
    "duration": 23,
    "start_time": "2022-11-01T14:01:19.087Z"
   },
   {
    "duration": 39,
    "start_time": "2022-11-01T14:01:19.112Z"
   },
   {
    "duration": 25,
    "start_time": "2022-11-01T14:01:19.157Z"
   },
   {
    "duration": 36,
    "start_time": "2022-11-01T14:01:19.184Z"
   },
   {
    "duration": 20,
    "start_time": "2022-11-01T14:01:19.222Z"
   },
   {
    "duration": 37,
    "start_time": "2022-11-01T14:01:19.244Z"
   },
   {
    "duration": 17,
    "start_time": "2022-11-01T14:01:19.283Z"
   },
   {
    "duration": 24,
    "start_time": "2022-11-01T14:01:19.302Z"
   },
   {
    "duration": 28,
    "start_time": "2022-11-01T14:01:19.328Z"
   },
   {
    "duration": 22,
    "start_time": "2022-11-01T14:01:19.358Z"
   },
   {
    "duration": 29,
    "start_time": "2022-11-01T14:01:19.381Z"
   },
   {
    "duration": 54,
    "start_time": "2022-11-01T14:01:19.411Z"
   },
   {
    "duration": 8,
    "start_time": "2022-11-01T14:01:19.467Z"
   },
   {
    "duration": 266,
    "start_time": "2022-11-01T14:01:19.476Z"
   },
   {
    "duration": 13,
    "start_time": "2022-11-01T14:01:19.744Z"
   },
   {
    "duration": 30,
    "start_time": "2022-11-01T14:01:19.758Z"
   },
   {
    "duration": 25,
    "start_time": "2022-11-01T14:01:19.790Z"
   },
   {
    "duration": 31,
    "start_time": "2022-11-01T14:01:19.816Z"
   },
   {
    "duration": 148,
    "start_time": "2022-11-01T14:01:19.849Z"
   },
   {
    "duration": 12,
    "start_time": "2022-11-01T14:01:19.999Z"
   },
   {
    "duration": 39,
    "start_time": "2022-11-01T14:01:20.013Z"
   },
   {
    "duration": 146,
    "start_time": "2022-11-01T14:01:20.054Z"
   },
   {
    "duration": 351,
    "start_time": "2022-11-01T14:01:20.203Z"
   },
   {
    "duration": 268,
    "start_time": "2022-11-01T14:01:20.555Z"
   },
   {
    "duration": 137,
    "start_time": "2022-11-01T14:01:20.825Z"
   },
   {
    "duration": 26,
    "start_time": "2022-11-01T14:01:20.963Z"
   },
   {
    "duration": 4,
    "start_time": "2022-11-01T14:01:20.991Z"
   },
   {
    "duration": 29,
    "start_time": "2022-11-01T14:01:20.996Z"
   },
   {
    "duration": 50,
    "start_time": "2022-11-01T14:01:21.027Z"
   },
   {
    "duration": 29,
    "start_time": "2022-11-01T14:01:21.079Z"
   },
   {
    "duration": 3,
    "start_time": "2022-11-01T14:01:21.110Z"
   },
   {
    "duration": 391,
    "start_time": "2022-11-01T14:01:21.114Z"
   },
   {
    "duration": 32,
    "start_time": "2022-11-01T14:01:21.508Z"
   },
   {
    "duration": 220,
    "start_time": "2022-11-01T14:01:21.553Z"
   },
   {
    "duration": 176,
    "start_time": "2022-11-01T14:01:21.776Z"
   },
   {
    "duration": 153,
    "start_time": "2022-11-01T14:01:21.953Z"
   },
   {
    "duration": 346,
    "start_time": "2022-11-01T14:01:22.108Z"
   },
   {
    "duration": 7,
    "start_time": "2022-11-01T14:01:22.455Z"
   },
   {
    "duration": 11,
    "start_time": "2022-11-01T14:01:22.464Z"
   },
   {
    "duration": 271,
    "start_time": "2022-11-01T14:01:22.477Z"
   },
   {
    "duration": 167,
    "start_time": "2022-11-01T14:01:22.753Z"
   },
   {
    "duration": 10,
    "start_time": "2022-11-01T14:01:22.922Z"
   },
   {
    "duration": 23,
    "start_time": "2022-11-01T14:01:22.934Z"
   },
   {
    "duration": 163,
    "start_time": "2022-11-01T14:01:22.958Z"
   },
   {
    "duration": 179,
    "start_time": "2022-11-01T14:01:23.123Z"
   },
   {
    "duration": 162,
    "start_time": "2022-11-01T14:01:23.303Z"
   },
   {
    "duration": 289,
    "start_time": "2022-11-01T14:01:23.467Z"
   },
   {
    "duration": 145,
    "start_time": "2022-11-01T14:01:23.757Z"
   },
   {
    "duration": 162,
    "start_time": "2022-11-01T14:01:23.904Z"
   },
   {
    "duration": 142,
    "start_time": "2022-11-01T14:01:24.067Z"
   },
   {
    "duration": 185,
    "start_time": "2022-11-01T14:01:24.211Z"
   },
   {
    "duration": 281,
    "start_time": "2022-11-01T14:01:24.398Z"
   },
   {
    "duration": 176,
    "start_time": "2022-11-01T14:01:24.680Z"
   },
   {
    "duration": 297,
    "start_time": "2022-11-01T14:01:24.857Z"
   },
   {
    "duration": 217,
    "start_time": "2022-11-01T14:01:25.156Z"
   },
   {
    "duration": 5,
    "start_time": "2022-11-01T14:01:25.376Z"
   },
   {
    "duration": 237,
    "start_time": "2022-11-01T14:01:25.387Z"
   },
   {
    "duration": 204,
    "start_time": "2022-11-01T14:01:25.626Z"
   },
   {
    "duration": 206,
    "start_time": "2022-11-01T14:01:25.832Z"
   },
   {
    "duration": 186,
    "start_time": "2022-11-01T14:01:26.040Z"
   },
   {
    "duration": 199,
    "start_time": "2022-11-01T14:01:26.228Z"
   },
   {
    "duration": 201,
    "start_time": "2022-11-01T14:01:26.429Z"
   },
   {
    "duration": 206,
    "start_time": "2022-11-01T14:01:26.632Z"
   },
   {
    "duration": 17,
    "start_time": "2022-11-01T14:01:26.840Z"
   },
   {
    "duration": 18,
    "start_time": "2022-11-01T14:01:26.858Z"
   },
   {
    "duration": 15,
    "start_time": "2022-11-01T14:01:26.877Z"
   },
   {
    "duration": 280,
    "start_time": "2022-11-01T14:01:26.894Z"
   },
   {
    "duration": 15,
    "start_time": "2022-11-01T14:01:46.861Z"
   },
   {
    "duration": 439,
    "start_time": "2022-11-01T14:06:37.069Z"
   },
   {
    "duration": 503,
    "start_time": "2022-11-02T10:12:21.420Z"
   },
   {
    "duration": 102,
    "start_time": "2022-11-02T10:12:21.925Z"
   },
   {
    "duration": 49,
    "start_time": "2022-11-02T10:12:22.029Z"
   },
   {
    "duration": 4,
    "start_time": "2022-11-02T10:12:22.080Z"
   },
   {
    "duration": 48,
    "start_time": "2022-11-02T10:12:22.086Z"
   },
   {
    "duration": 2269,
    "start_time": "2022-11-02T10:12:22.136Z"
   },
   {
    "duration": 26,
    "start_time": "2022-11-02T10:12:24.406Z"
   },
   {
    "duration": 20,
    "start_time": "2022-11-02T10:12:24.434Z"
   },
   {
    "duration": 37,
    "start_time": "2022-11-02T10:12:24.456Z"
   },
   {
    "duration": 37,
    "start_time": "2022-11-02T10:12:24.496Z"
   },
   {
    "duration": 34,
    "start_time": "2022-11-02T10:12:24.534Z"
   },
   {
    "duration": 32,
    "start_time": "2022-11-02T10:12:24.570Z"
   },
   {
    "duration": 26,
    "start_time": "2022-11-02T10:12:24.604Z"
   },
   {
    "duration": 75,
    "start_time": "2022-11-02T10:12:24.632Z"
   },
   {
    "duration": 23,
    "start_time": "2022-11-02T10:12:24.709Z"
   },
   {
    "duration": 41,
    "start_time": "2022-11-02T10:12:24.734Z"
   },
   {
    "duration": 35,
    "start_time": "2022-11-02T10:12:24.777Z"
   },
   {
    "duration": 28,
    "start_time": "2022-11-02T10:12:24.814Z"
   },
   {
    "duration": 23,
    "start_time": "2022-11-02T10:12:24.844Z"
   },
   {
    "duration": 24,
    "start_time": "2022-11-02T10:12:24.869Z"
   },
   {
    "duration": 47,
    "start_time": "2022-11-02T10:12:24.895Z"
   },
   {
    "duration": 16,
    "start_time": "2022-11-02T10:12:24.944Z"
   },
   {
    "duration": 19,
    "start_time": "2022-11-02T10:12:24.962Z"
   },
   {
    "duration": 42,
    "start_time": "2022-11-02T10:12:24.983Z"
   },
   {
    "duration": 22,
    "start_time": "2022-11-02T10:12:25.027Z"
   },
   {
    "duration": 18,
    "start_time": "2022-11-02T10:12:25.052Z"
   },
   {
    "duration": 70,
    "start_time": "2022-11-02T10:12:25.072Z"
   },
   {
    "duration": 44,
    "start_time": "2022-11-02T10:12:25.147Z"
   },
   {
    "duration": 50,
    "start_time": "2022-11-02T10:12:25.193Z"
   },
   {
    "duration": 42,
    "start_time": "2022-11-02T10:12:25.245Z"
   },
   {
    "duration": 81,
    "start_time": "2022-11-02T10:12:25.288Z"
   },
   {
    "duration": 42,
    "start_time": "2022-11-02T10:12:25.371Z"
   },
   {
    "duration": 37,
    "start_time": "2022-11-02T10:12:25.415Z"
   },
   {
    "duration": 29,
    "start_time": "2022-11-02T10:12:25.454Z"
   },
   {
    "duration": 56,
    "start_time": "2022-11-02T10:12:25.484Z"
   },
   {
    "duration": 21,
    "start_time": "2022-11-02T10:12:25.541Z"
   },
   {
    "duration": 48,
    "start_time": "2022-11-02T10:12:25.565Z"
   },
   {
    "duration": 31,
    "start_time": "2022-11-02T10:12:25.615Z"
   },
   {
    "duration": 43,
    "start_time": "2022-11-02T10:12:25.648Z"
   },
   {
    "duration": 14,
    "start_time": "2022-11-02T10:12:25.693Z"
   },
   {
    "duration": 287,
    "start_time": "2022-11-02T10:12:25.708Z"
   },
   {
    "duration": 8,
    "start_time": "2022-11-02T10:12:25.996Z"
   },
   {
    "duration": 24,
    "start_time": "2022-11-02T10:12:26.006Z"
   },
   {
    "duration": 34,
    "start_time": "2022-11-02T10:12:26.032Z"
   },
   {
    "duration": 33,
    "start_time": "2022-11-02T10:12:26.068Z"
   },
   {
    "duration": 139,
    "start_time": "2022-11-02T10:12:26.103Z"
   },
   {
    "duration": 13,
    "start_time": "2022-11-02T10:12:26.254Z"
   },
   {
    "duration": 32,
    "start_time": "2022-11-02T10:12:26.269Z"
   },
   {
    "duration": 146,
    "start_time": "2022-11-02T10:12:26.303Z"
   },
   {
    "duration": 277,
    "start_time": "2022-11-02T10:12:26.451Z"
   },
   {
    "duration": 352,
    "start_time": "2022-11-02T10:12:26.730Z"
   },
   {
    "duration": 141,
    "start_time": "2022-11-02T10:12:27.084Z"
   },
   {
    "duration": 37,
    "start_time": "2022-11-02T10:12:27.226Z"
   },
   {
    "duration": 8,
    "start_time": "2022-11-02T10:12:27.265Z"
   },
   {
    "duration": 1657,
    "start_time": "2022-11-02T10:12:27.275Z"
   },
   {
    "duration": 5,
    "start_time": "2022-11-02T10:12:28.933Z"
   },
   {
    "duration": 45,
    "start_time": "2022-11-02T10:12:28.939Z"
   },
   {
    "duration": 29,
    "start_time": "2022-11-02T10:12:28.986Z"
   },
   {
    "duration": 53,
    "start_time": "2022-11-02T10:12:29.016Z"
   },
   {
    "duration": 4,
    "start_time": "2022-11-02T10:12:29.070Z"
   },
   {
    "duration": 385,
    "start_time": "2022-11-02T10:12:29.075Z"
   },
   {
    "duration": 30,
    "start_time": "2022-11-02T10:12:29.462Z"
   },
   {
    "duration": 340,
    "start_time": "2022-11-02T10:12:29.494Z"
   },
   {
    "duration": 339,
    "start_time": "2022-11-02T10:12:29.837Z"
   },
   {
    "duration": 269,
    "start_time": "2022-11-02T10:12:30.178Z"
   },
   {
    "duration": 493,
    "start_time": "2022-11-02T10:12:30.449Z"
   },
   {
    "duration": 16,
    "start_time": "2022-11-02T10:12:30.945Z"
   },
   {
    "duration": 53,
    "start_time": "2022-11-02T10:12:30.964Z"
   },
   {
    "duration": 361,
    "start_time": "2022-11-02T10:12:31.019Z"
   },
   {
    "duration": 288,
    "start_time": "2022-11-02T10:12:31.382Z"
   },
   {
    "duration": 13,
    "start_time": "2022-11-02T10:12:31.672Z"
   },
   {
    "duration": 53,
    "start_time": "2022-11-02T10:12:31.687Z"
   },
   {
    "duration": 269,
    "start_time": "2022-11-02T10:12:31.743Z"
   },
   {
    "duration": 245,
    "start_time": "2022-11-02T10:12:32.013Z"
   },
   {
    "duration": 246,
    "start_time": "2022-11-02T10:12:32.260Z"
   },
   {
    "duration": 303,
    "start_time": "2022-11-02T10:12:32.509Z"
   },
   {
    "duration": 244,
    "start_time": "2022-11-02T10:12:32.814Z"
   },
   {
    "duration": 424,
    "start_time": "2022-11-02T10:12:33.060Z"
   },
   {
    "duration": 335,
    "start_time": "2022-11-02T10:12:33.486Z"
   },
   {
    "duration": 254,
    "start_time": "2022-11-02T10:12:33.822Z"
   },
   {
    "duration": 166,
    "start_time": "2022-11-02T10:12:34.078Z"
   },
   {
    "duration": 161,
    "start_time": "2022-11-02T10:12:34.257Z"
   },
   {
    "duration": 305,
    "start_time": "2022-11-02T10:12:34.420Z"
   },
   {
    "duration": 210,
    "start_time": "2022-11-02T10:12:34.727Z"
   },
   {
    "duration": 14,
    "start_time": "2022-11-02T10:12:34.940Z"
   },
   {
    "duration": 232,
    "start_time": "2022-11-02T10:12:34.956Z"
   },
   {
    "duration": 331,
    "start_time": "2022-11-02T10:12:35.189Z"
   },
   {
    "duration": 242,
    "start_time": "2022-11-02T10:12:35.522Z"
   },
   {
    "duration": 248,
    "start_time": "2022-11-02T10:12:35.766Z"
   },
   {
    "duration": 275,
    "start_time": "2022-11-02T10:12:36.016Z"
   },
   {
    "duration": 421,
    "start_time": "2022-11-02T10:12:36.293Z"
   },
   {
    "duration": 390,
    "start_time": "2022-11-02T10:12:36.716Z"
   },
   {
    "duration": 11,
    "start_time": "2022-11-02T10:12:37.107Z"
   },
   {
    "duration": 42,
    "start_time": "2022-11-02T10:12:37.120Z"
   },
   {
    "duration": 16,
    "start_time": "2022-11-02T10:12:37.164Z"
   },
   {
    "duration": 328,
    "start_time": "2022-11-02T10:12:37.181Z"
   },
   {
    "duration": 15,
    "start_time": "2022-11-02T10:13:10.846Z"
   },
   {
    "duration": 426,
    "start_time": "2022-11-02T10:14:36.601Z"
   },
   {
    "duration": 99,
    "start_time": "2022-11-02T10:14:37.029Z"
   },
   {
    "duration": 49,
    "start_time": "2022-11-02T10:14:37.130Z"
   },
   {
    "duration": 7,
    "start_time": "2022-11-02T10:14:37.182Z"
   },
   {
    "duration": 24,
    "start_time": "2022-11-02T10:14:37.191Z"
   },
   {
    "duration": 2387,
    "start_time": "2022-11-02T10:14:37.217Z"
   },
   {
    "duration": 30,
    "start_time": "2022-11-02T10:14:39.606Z"
   },
   {
    "duration": 4,
    "start_time": "2022-11-02T10:14:39.637Z"
   },
   {
    "duration": 13,
    "start_time": "2022-11-02T10:14:39.643Z"
   },
   {
    "duration": 9,
    "start_time": "2022-11-02T10:14:39.659Z"
   },
   {
    "duration": 10,
    "start_time": "2022-11-02T10:14:39.670Z"
   },
   {
    "duration": 5,
    "start_time": "2022-11-02T10:14:39.682Z"
   },
   {
    "duration": 10,
    "start_time": "2022-11-02T10:14:39.688Z"
   },
   {
    "duration": 10,
    "start_time": "2022-11-02T10:14:39.699Z"
   },
   {
    "duration": 45,
    "start_time": "2022-11-02T10:14:39.710Z"
   },
   {
    "duration": 6,
    "start_time": "2022-11-02T10:14:39.757Z"
   },
   {
    "duration": 6,
    "start_time": "2022-11-02T10:14:39.765Z"
   },
   {
    "duration": 12,
    "start_time": "2022-11-02T10:14:39.772Z"
   },
   {
    "duration": 13,
    "start_time": "2022-11-02T10:14:39.786Z"
   },
   {
    "duration": 10,
    "start_time": "2022-11-02T10:14:39.801Z"
   },
   {
    "duration": 17,
    "start_time": "2022-11-02T10:14:39.813Z"
   },
   {
    "duration": 28,
    "start_time": "2022-11-02T10:14:39.832Z"
   },
   {
    "duration": 11,
    "start_time": "2022-11-02T10:14:39.861Z"
   },
   {
    "duration": 17,
    "start_time": "2022-11-02T10:14:39.874Z"
   },
   {
    "duration": 6,
    "start_time": "2022-11-02T10:14:39.892Z"
   },
   {
    "duration": 12,
    "start_time": "2022-11-02T10:14:39.899Z"
   },
   {
    "duration": 22,
    "start_time": "2022-11-02T10:14:39.913Z"
   },
   {
    "duration": 22,
    "start_time": "2022-11-02T10:14:39.939Z"
   },
   {
    "duration": 27,
    "start_time": "2022-11-02T10:14:39.963Z"
   },
   {
    "duration": 10,
    "start_time": "2022-11-02T10:14:39.992Z"
   },
   {
    "duration": 51,
    "start_time": "2022-11-02T10:14:40.004Z"
   },
   {
    "duration": 14,
    "start_time": "2022-11-02T10:14:40.057Z"
   },
   {
    "duration": 92,
    "start_time": "2022-11-02T10:14:40.073Z"
   },
   {
    "duration": 37,
    "start_time": "2022-11-02T10:14:40.167Z"
   },
   {
    "duration": 14,
    "start_time": "2022-11-02T10:14:40.206Z"
   },
   {
    "duration": 16,
    "start_time": "2022-11-02T10:14:40.222Z"
   },
   {
    "duration": 36,
    "start_time": "2022-11-02T10:14:40.239Z"
   },
   {
    "duration": 25,
    "start_time": "2022-11-02T10:14:40.277Z"
   },
   {
    "duration": 61,
    "start_time": "2022-11-02T10:14:40.304Z"
   },
   {
    "duration": 7,
    "start_time": "2022-11-02T10:14:40.368Z"
   },
   {
    "duration": 281,
    "start_time": "2022-11-02T10:14:40.376Z"
   },
   {
    "duration": 7,
    "start_time": "2022-11-02T10:14:40.659Z"
   },
   {
    "duration": 22,
    "start_time": "2022-11-02T10:14:40.668Z"
   },
   {
    "duration": 18,
    "start_time": "2022-11-02T10:14:40.692Z"
   },
   {
    "duration": 36,
    "start_time": "2022-11-02T10:14:40.711Z"
   },
   {
    "duration": 137,
    "start_time": "2022-11-02T10:14:40.749Z"
   },
   {
    "duration": 15,
    "start_time": "2022-11-02T10:14:40.888Z"
   },
   {
    "duration": 19,
    "start_time": "2022-11-02T10:14:40.905Z"
   },
   {
    "duration": 170,
    "start_time": "2022-11-02T10:14:40.926Z"
   },
   {
    "duration": 287,
    "start_time": "2022-11-02T10:14:41.099Z"
   },
   {
    "duration": 462,
    "start_time": "2022-11-02T10:14:41.388Z"
   },
   {
    "duration": 158,
    "start_time": "2022-11-02T10:14:41.854Z"
   },
   {
    "duration": 41,
    "start_time": "2022-11-02T10:14:42.014Z"
   },
   {
    "duration": 9,
    "start_time": "2022-11-02T10:14:42.057Z"
   },
   {
    "duration": 9,
    "start_time": "2022-11-02T10:14:42.068Z"
   },
   {
    "duration": 1689,
    "start_time": "2022-11-02T10:14:42.079Z"
   },
   {
    "duration": 4,
    "start_time": "2022-11-02T10:14:43.769Z"
   },
   {
    "duration": 37,
    "start_time": "2022-11-02T10:14:43.774Z"
   },
   {
    "duration": 48,
    "start_time": "2022-11-02T10:14:43.812Z"
   },
   {
    "duration": 31,
    "start_time": "2022-11-02T10:14:43.861Z"
   },
   {
    "duration": 3,
    "start_time": "2022-11-02T10:14:43.894Z"
   },
   {
    "duration": 393,
    "start_time": "2022-11-02T10:14:43.899Z"
   },
   {
    "duration": 27,
    "start_time": "2022-11-02T10:14:44.294Z"
   },
   {
    "duration": 350,
    "start_time": "2022-11-02T10:14:44.324Z"
   },
   {
    "duration": 350,
    "start_time": "2022-11-02T10:14:44.676Z"
   },
   {
    "duration": 286,
    "start_time": "2022-11-02T10:14:45.029Z"
   },
   {
    "duration": 496,
    "start_time": "2022-11-02T10:14:45.318Z"
   },
   {
    "duration": 9,
    "start_time": "2022-11-02T10:14:45.816Z"
   },
   {
    "duration": 30,
    "start_time": "2022-11-02T10:14:45.827Z"
   },
   {
    "duration": 364,
    "start_time": "2022-11-02T10:14:45.859Z"
   },
   {
    "duration": 244,
    "start_time": "2022-11-02T10:14:46.225Z"
   },
   {
    "duration": 10,
    "start_time": "2022-11-02T10:14:46.470Z"
   },
   {
    "duration": 10,
    "start_time": "2022-11-02T10:14:46.482Z"
   },
   {
    "duration": 251,
    "start_time": "2022-11-02T10:14:46.494Z"
   },
   {
    "duration": 248,
    "start_time": "2022-11-02T10:14:46.747Z"
   },
   {
    "duration": 253,
    "start_time": "2022-11-02T10:14:46.996Z"
   },
   {
    "duration": 305,
    "start_time": "2022-11-02T10:14:47.253Z"
   },
   {
    "duration": 238,
    "start_time": "2022-11-02T10:14:47.560Z"
   },
   {
    "duration": 447,
    "start_time": "2022-11-02T10:14:47.800Z"
   },
   {
    "duration": 323,
    "start_time": "2022-11-02T10:14:48.249Z"
   },
   {
    "duration": 263,
    "start_time": "2022-11-02T10:14:48.575Z"
   },
   {
    "duration": 169,
    "start_time": "2022-11-02T10:14:48.853Z"
   },
   {
    "duration": 173,
    "start_time": "2022-11-02T10:14:49.025Z"
   },
   {
    "duration": 306,
    "start_time": "2022-11-02T10:14:49.200Z"
   },
   {
    "duration": 222,
    "start_time": "2022-11-02T10:14:49.508Z"
   },
   {
    "duration": 6,
    "start_time": "2022-11-02T10:14:49.732Z"
   },
   {
    "duration": 235,
    "start_time": "2022-11-02T10:14:49.754Z"
   },
   {
    "duration": 211,
    "start_time": "2022-11-02T10:14:49.991Z"
   },
   {
    "duration": 359,
    "start_time": "2022-11-02T10:14:50.204Z"
   },
   {
    "duration": 256,
    "start_time": "2022-11-02T10:14:50.565Z"
   },
   {
    "duration": 272,
    "start_time": "2022-11-02T10:14:50.824Z"
   },
   {
    "duration": 452,
    "start_time": "2022-11-02T10:14:51.098Z"
   },
   {
    "duration": 459,
    "start_time": "2022-11-02T10:14:51.553Z"
   },
   {
    "duration": 15,
    "start_time": "2022-11-02T10:14:52.014Z"
   },
   {
    "duration": 40,
    "start_time": "2022-11-02T10:14:52.031Z"
   },
   {
    "duration": 21,
    "start_time": "2022-11-02T10:14:52.073Z"
   },
   {
    "duration": 362,
    "start_time": "2022-11-02T10:14:52.096Z"
   },
   {
    "duration": 429,
    "start_time": "2022-11-02T10:15:07.804Z"
   },
   {
    "duration": 118,
    "start_time": "2022-11-02T10:15:08.235Z"
   },
   {
    "duration": 37,
    "start_time": "2022-11-02T10:15:08.355Z"
   },
   {
    "duration": 4,
    "start_time": "2022-11-02T10:15:08.395Z"
   },
   {
    "duration": 24,
    "start_time": "2022-11-02T10:15:08.400Z"
   },
   {
    "duration": 2375,
    "start_time": "2022-11-02T10:15:08.426Z"
   },
   {
    "duration": 28,
    "start_time": "2022-11-02T10:15:10.803Z"
   },
   {
    "duration": 5,
    "start_time": "2022-11-02T10:15:10.833Z"
   },
   {
    "duration": 24,
    "start_time": "2022-11-02T10:15:10.840Z"
   },
   {
    "duration": 15,
    "start_time": "2022-11-02T10:15:10.868Z"
   },
   {
    "duration": 12,
    "start_time": "2022-11-02T10:15:10.884Z"
   },
   {
    "duration": 26,
    "start_time": "2022-11-02T10:15:10.898Z"
   },
   {
    "duration": 10,
    "start_time": "2022-11-02T10:15:10.926Z"
   },
   {
    "duration": 30,
    "start_time": "2022-11-02T10:15:10.938Z"
   },
   {
    "duration": 38,
    "start_time": "2022-11-02T10:15:10.970Z"
   },
   {
    "duration": 26,
    "start_time": "2022-11-02T10:15:11.010Z"
   },
   {
    "duration": 37,
    "start_time": "2022-11-02T10:15:11.039Z"
   },
   {
    "duration": 12,
    "start_time": "2022-11-02T10:15:11.078Z"
   },
   {
    "duration": 12,
    "start_time": "2022-11-02T10:15:11.093Z"
   },
   {
    "duration": 10,
    "start_time": "2022-11-02T10:15:11.107Z"
   },
   {
    "duration": 14,
    "start_time": "2022-11-02T10:15:11.119Z"
   },
   {
    "duration": 9,
    "start_time": "2022-11-02T10:15:11.134Z"
   },
   {
    "duration": 5,
    "start_time": "2022-11-02T10:15:11.155Z"
   },
   {
    "duration": 22,
    "start_time": "2022-11-02T10:15:11.162Z"
   },
   {
    "duration": 16,
    "start_time": "2022-11-02T10:15:11.186Z"
   },
   {
    "duration": 10,
    "start_time": "2022-11-02T10:15:11.204Z"
   },
   {
    "duration": 10,
    "start_time": "2022-11-02T10:15:11.215Z"
   },
   {
    "duration": 24,
    "start_time": "2022-11-02T10:15:11.231Z"
   },
   {
    "duration": 29,
    "start_time": "2022-11-02T10:15:11.257Z"
   },
   {
    "duration": 21,
    "start_time": "2022-11-02T10:15:11.288Z"
   },
   {
    "duration": 51,
    "start_time": "2022-11-02T10:15:11.311Z"
   },
   {
    "duration": 12,
    "start_time": "2022-11-02T10:15:11.364Z"
   },
   {
    "duration": 14,
    "start_time": "2022-11-02T10:15:11.378Z"
   },
   {
    "duration": 15,
    "start_time": "2022-11-02T10:15:11.394Z"
   },
   {
    "duration": 46,
    "start_time": "2022-11-02T10:15:11.411Z"
   },
   {
    "duration": 19,
    "start_time": "2022-11-02T10:15:11.459Z"
   },
   {
    "duration": 55,
    "start_time": "2022-11-02T10:15:11.480Z"
   },
   {
    "duration": 39,
    "start_time": "2022-11-02T10:15:11.537Z"
   },
   {
    "duration": 73,
    "start_time": "2022-11-02T10:15:11.578Z"
   },
   {
    "duration": 9,
    "start_time": "2022-11-02T10:15:11.654Z"
   },
   {
    "duration": 345,
    "start_time": "2022-11-02T10:15:11.665Z"
   },
   {
    "duration": 8,
    "start_time": "2022-11-02T10:15:12.012Z"
   },
   {
    "duration": 59,
    "start_time": "2022-11-02T10:15:12.022Z"
   },
   {
    "duration": 39,
    "start_time": "2022-11-02T10:15:12.083Z"
   },
   {
    "duration": 60,
    "start_time": "2022-11-02T10:15:12.124Z"
   },
   {
    "duration": 143,
    "start_time": "2022-11-02T10:15:12.186Z"
   },
   {
    "duration": 24,
    "start_time": "2022-11-02T10:15:12.331Z"
   },
   {
    "duration": 15,
    "start_time": "2022-11-02T10:15:12.357Z"
   },
   {
    "duration": 158,
    "start_time": "2022-11-02T10:15:12.374Z"
   },
   {
    "duration": 302,
    "start_time": "2022-11-02T10:15:12.534Z"
   },
   {
    "duration": 370,
    "start_time": "2022-11-02T10:15:12.838Z"
   },
   {
    "duration": 151,
    "start_time": "2022-11-02T10:15:13.210Z"
   },
   {
    "duration": 28,
    "start_time": "2022-11-02T10:15:13.363Z"
   },
   {
    "duration": 12,
    "start_time": "2022-11-02T10:15:13.393Z"
   },
   {
    "duration": 5,
    "start_time": "2022-11-02T10:15:13.407Z"
   },
   {
    "duration": 1535,
    "start_time": "2022-11-02T10:15:13.414Z"
   },
   {
    "duration": 5,
    "start_time": "2022-11-02T10:15:14.951Z"
   },
   {
    "duration": 48,
    "start_time": "2022-11-02T10:15:14.957Z"
   },
   {
    "duration": 65,
    "start_time": "2022-11-02T10:15:15.007Z"
   },
   {
    "duration": 38,
    "start_time": "2022-11-02T10:15:15.074Z"
   },
   {
    "duration": 3,
    "start_time": "2022-11-02T10:15:15.114Z"
   },
   {
    "duration": 373,
    "start_time": "2022-11-02T10:15:15.119Z"
   },
   {
    "duration": 30,
    "start_time": "2022-11-02T10:15:15.493Z"
   },
   {
    "duration": 361,
    "start_time": "2022-11-02T10:15:15.525Z"
   },
   {
    "duration": 368,
    "start_time": "2022-11-02T10:15:15.888Z"
   },
   {
    "duration": 287,
    "start_time": "2022-11-02T10:15:16.258Z"
   },
   {
    "duration": 488,
    "start_time": "2022-11-02T10:15:16.546Z"
   },
   {
    "duration": 20,
    "start_time": "2022-11-02T10:15:17.036Z"
   },
   {
    "duration": 11,
    "start_time": "2022-11-02T10:15:17.057Z"
   },
   {
    "duration": 380,
    "start_time": "2022-11-02T10:15:17.069Z"
   },
   {
    "duration": 250,
    "start_time": "2022-11-02T10:15:17.452Z"
   },
   {
    "duration": 10,
    "start_time": "2022-11-02T10:15:17.704Z"
   },
   {
    "duration": 21,
    "start_time": "2022-11-02T10:15:17.715Z"
   },
   {
    "duration": 254,
    "start_time": "2022-11-02T10:15:17.738Z"
   },
   {
    "duration": 263,
    "start_time": "2022-11-02T10:15:17.994Z"
   },
   {
    "duration": 249,
    "start_time": "2022-11-02T10:15:18.258Z"
   },
   {
    "duration": 326,
    "start_time": "2022-11-02T10:15:18.509Z"
   },
   {
    "duration": 257,
    "start_time": "2022-11-02T10:15:18.837Z"
   },
   {
    "duration": 468,
    "start_time": "2022-11-02T10:15:19.096Z"
   },
   {
    "duration": 335,
    "start_time": "2022-11-02T10:15:19.566Z"
   },
   {
    "duration": 253,
    "start_time": "2022-11-02T10:15:19.903Z"
   },
   {
    "duration": 177,
    "start_time": "2022-11-02T10:15:20.162Z"
   },
   {
    "duration": 165,
    "start_time": "2022-11-02T10:15:20.341Z"
   },
   {
    "duration": 311,
    "start_time": "2022-11-02T10:15:20.508Z"
   },
   {
    "duration": 224,
    "start_time": "2022-11-02T10:15:20.821Z"
   },
   {
    "duration": 6,
    "start_time": "2022-11-02T10:15:21.053Z"
   },
   {
    "duration": 239,
    "start_time": "2022-11-02T10:15:21.061Z"
   },
   {
    "duration": 260,
    "start_time": "2022-11-02T10:15:21.302Z"
   },
   {
    "duration": 377,
    "start_time": "2022-11-02T10:15:21.564Z"
   },
   {
    "duration": 240,
    "start_time": "2022-11-02T10:15:21.943Z"
   },
   {
    "duration": 279,
    "start_time": "2022-11-02T10:15:22.185Z"
   },
   {
    "duration": 431,
    "start_time": "2022-11-02T10:15:22.467Z"
   },
   {
    "duration": 409,
    "start_time": "2022-11-02T10:15:22.900Z"
   },
   {
    "duration": 12,
    "start_time": "2022-11-02T10:15:23.310Z"
   },
   {
    "duration": 39,
    "start_time": "2022-11-02T10:15:23.324Z"
   },
   {
    "duration": 18,
    "start_time": "2022-11-02T10:15:23.365Z"
   },
   {
    "duration": 351,
    "start_time": "2022-11-02T10:15:23.385Z"
   }
  ],
  "celltoolbar": "Необработанный формат ячейки",
  "kernelspec": {
   "display_name": "Python 3 (ipykernel)",
   "language": "python",
   "name": "python3"
  },
  "language_info": {
   "codemirror_mode": {
    "name": "ipython",
    "version": 3
   },
   "file_extension": ".py",
   "mimetype": "text/x-python",
   "name": "python",
   "nbconvert_exporter": "python",
   "pygments_lexer": "ipython3",
   "version": "3.9.7"
  },
  "toc": {
   "base_numbering": 1,
   "nav_menu": {
    "height": "447px",
    "width": "509px"
   },
   "number_sections": true,
   "sideBar": true,
   "skip_h1_title": true,
   "title_cell": "Содержание",
   "title_sidebar": "Contents",
   "toc_cell": true,
   "toc_position": {
    "height": "calc(100% - 180px)",
    "left": "10px",
    "top": "150px",
    "width": "408.385px"
   },
   "toc_section_display": true,
   "toc_window_display": true
  }
 },
 "nbformat": 4,
 "nbformat_minor": 2
}
